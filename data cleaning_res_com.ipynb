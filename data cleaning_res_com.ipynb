{
 "cells": [
  {
   "cell_type": "code",
   "execution_count": 62,
   "metadata": {
    "collapsed": true,
    "deletable": true,
    "editable": true
   },
   "outputs": [],
   "source": [
    "import pandas as pd\n",
    "import numpy as np"
   ]
  },
  {
   "cell_type": "code",
   "execution_count": 55,
   "metadata": {
    "collapsed": false,
    "deletable": true,
    "editable": true
   },
   "outputs": [],
   "source": [
    "data2016 = pd.read_excel(\"nyc_benchmarking_disclosure_data_reported_in_2016.xlsx\")\n",
    "#data2015 = pd.read_excel(\"2015_nyc_cy2014__ll84_disclosure_data.xlsx\")\n",
    "#data2014 = pd.read_excel(\"150428_2014_nyc_ll84_disclosure.xlsx\")\n",
    "#data2013 = pd.read_excel(\"2013_nyc_ll84_disclosure.xlsx\")\n",
    "#data2012 = pd.read_excel(\"2012_nyc_cy2011_ll84_disclosure_data.xls\")"
   ]
  },
  {
   "cell_type": "code",
   "execution_count": 32,
   "metadata": {
    "collapsed": false,
    "deletable": true,
    "editable": true
   },
   "outputs": [],
   "source": [
    "#data2012.columns"
   ]
  },
  {
   "cell_type": "code",
   "execution_count": 31,
   "metadata": {
    "collapsed": false,
    "deletable": true,
    "editable": true
   },
   "outputs": [],
   "source": [
    "#data2013.columns"
   ]
  },
  {
   "cell_type": "code",
   "execution_count": 30,
   "metadata": {
    "collapsed": false,
    "deletable": true,
    "editable": true
   },
   "outputs": [],
   "source": [
    "#data2014.columns"
   ]
  },
  {
   "cell_type": "code",
   "execution_count": 29,
   "metadata": {
    "collapsed": false,
    "deletable": true,
    "editable": true
   },
   "outputs": [],
   "source": [
    "#data2015.columns"
   ]
  },
  {
   "cell_type": "code",
   "execution_count": 6,
   "metadata": {
    "collapsed": false,
    "deletable": true,
    "editable": true
   },
   "outputs": [],
   "source": [
    "#data2016.columns"
   ]
  },
  {
   "cell_type": "code",
   "execution_count": 27,
   "metadata": {
    "collapsed": false,
    "deletable": true,
    "editable": true
   },
   "outputs": [],
   "source": [
    "#data2016.columns"
   ]
  },
  {
   "cell_type": "code",
   "execution_count": 7,
   "metadata": {
    "collapsed": false,
    "deletable": true,
    "editable": true
   },
   "outputs": [],
   "source": [
    "#change the column name BBL\n",
    "data2016.columns = ['Record Number', 'Order', 'BBL',\n",
    "       'Co-reported BBL Status', 'BBLs Co-reported',\n",
    "       'Reported NYC Building Identification Numbers (BINs)', 'Property Name',\n",
    "       'Parent Property Id', 'Parent Property Name', 'Street Number',\n",
    "       'Street Name', 'Zip Code', 'Borough',\n",
    "       'DOF Benchmarking Submission Status',\n",
    "       'Primary Property Type - Self Selected',\n",
    "       'List of All Property Use Types at Property',\n",
    "       'Largest Property Use Type',\n",
    "       'Largest Property Use Type - Gross Floor Area (ft²)',\n",
    "       '2nd Largest Property Use Type',\n",
    "       '2nd Largest Property Use - Gross Floor Area (ft²)',\n",
    "       '3rd Largest Property Use Type',\n",
    "       '3rd Largest Property Use Type - Gross Floor Area (ft²)', 'Year Built',\n",
    "       'Number of Buildings - Self-reported', 'Occupancy',\n",
    "       'Metered Areas (Energy)', 'Metered Areas  (Water)', 'ENERGY STAR Score',\n",
    "       'Site EUI (kBtu/ft²)', 'Weather Normalized Site EUI (kBtu/ft²)',\n",
    "       'Weather Normalized Site Electricity Intensity (kWh/ft²)',\n",
    "       'Weather Normalized Site Natural Gas Intensity (therms/ft²)',\n",
    "       'Source EUI (kBtu/ft²)', 'Weather Normalized Source EUI (kBtu/ft²)',\n",
    "       'Fuel Oil #1 Use (kBtu)', 'Fuel Oil #2 Use (kBtu)',\n",
    "       'Fuel Oil #4 Use (kBtu)', 'Fuel Oil #5 & 6 Use (kBtu)',\n",
    "       'Diesel #2 Use (kBtu)', 'District Steam Use (kBtu)',\n",
    "       'District Hot Water Use (kBtu)', 'District Chilled Water Use (kBtu)',\n",
    "       'Natural Gas Use (kBtu)',\n",
    "       'Weather Normalized Site Natural Gas Use (therms)',\n",
    "       'Electricity Use - Grid Purchase (kBtu)',\n",
    "       'Weather Normalized Site Electricity (kWh)',\n",
    "       'Total GHG Emissions (Metric Tons CO2e)',\n",
    "       'Direct GHG Emissions (Metric Tons CO2e)',\n",
    "       'Indirect GHG Emissions (Metric Tons CO2e)',\n",
    "       'DOF Property Floor Area (ft²)', 'Property GFA - Self-reported (ft²)',\n",
    "       'Water Use (All Water Sources) (kgal)',\n",
    "       'Municipally Supplied Potable Water - Indoor Intensity (gal/ft²)',\n",
    "       'Release Date', 'DEP Provided Water Use (kgal)',\n",
    "       'Automatic Water Benchmarking Eligible', 'Reported Water Method']"
   ]
  },
  {
   "cell_type": "code",
   "execution_count": 8,
   "metadata": {
    "collapsed": false,
    "deletable": true,
    "editable": true,
    "scrolled": true
   },
   "outputs": [
    {
     "name": "stderr",
     "output_type": "stream",
     "text": [
      "/usr/local/lib/python2.7/site-packages/IPython/core/interactiveshell.py:2717: DtypeWarning: Columns (18,19,21,22,23,24,25,63,64,79) have mixed types. Specify dtype option on import or set low_memory=False.\n",
      "  interactivity=interactivity, compiler=compiler, result=result)\n"
     ]
    }
   ],
   "source": [
    "BK = pd.read_csv('BK.csv')"
   ]
  },
  {
   "cell_type": "code",
   "execution_count": 9,
   "metadata": {
    "collapsed": false,
    "deletable": true,
    "editable": true
   },
   "outputs": [
    {
     "data": {
      "text/html": [
       "<div>\n",
       "<table border=\"1\" class=\"dataframe\">\n",
       "  <thead>\n",
       "    <tr style=\"text-align: right;\">\n",
       "      <th></th>\n",
       "      <th>Borough</th>\n",
       "      <th>Block</th>\n",
       "      <th>Lot</th>\n",
       "      <th>CD</th>\n",
       "      <th>CT2010</th>\n",
       "      <th>CB2010</th>\n",
       "      <th>SchoolDist</th>\n",
       "      <th>Council</th>\n",
       "      <th>ZipCode</th>\n",
       "      <th>FireComp</th>\n",
       "      <th>...</th>\n",
       "      <th>YCoord</th>\n",
       "      <th>ZoneMap</th>\n",
       "      <th>ZMCode</th>\n",
       "      <th>Sanborn</th>\n",
       "      <th>TaxMap</th>\n",
       "      <th>EDesigNum</th>\n",
       "      <th>APPBBL</th>\n",
       "      <th>APPDate</th>\n",
       "      <th>PLUTOMapID</th>\n",
       "      <th>Version</th>\n",
       "    </tr>\n",
       "  </thead>\n",
       "  <tbody>\n",
       "    <tr>\n",
       "      <th>0</th>\n",
       "      <td>BK</td>\n",
       "      <td>1</td>\n",
       "      <td>1</td>\n",
       "      <td>302</td>\n",
       "      <td>21.0</td>\n",
       "      <td>NaN</td>\n",
       "      <td>13.0</td>\n",
       "      <td>33.0</td>\n",
       "      <td>11201.0</td>\n",
       "      <td>L118</td>\n",
       "      <td>...</td>\n",
       "      <td>NaN</td>\n",
       "      <td>12d</td>\n",
       "      <td>NaN</td>\n",
       "      <td>302 007</td>\n",
       "      <td>30101.0</td>\n",
       "      <td>NaN</td>\n",
       "      <td>3.000010e+09</td>\n",
       "      <td>11/26/2013</td>\n",
       "      <td>1</td>\n",
       "      <td>16V2</td>\n",
       "    </tr>\n",
       "    <tr>\n",
       "      <th>1</th>\n",
       "      <td>BK</td>\n",
       "      <td>1</td>\n",
       "      <td>50</td>\n",
       "      <td>302</td>\n",
       "      <td>21.0</td>\n",
       "      <td>2000.0</td>\n",
       "      <td>13.0</td>\n",
       "      <td>33.0</td>\n",
       "      <td>11201.0</td>\n",
       "      <td>L118</td>\n",
       "      <td>...</td>\n",
       "      <td>195989.0</td>\n",
       "      <td>12d</td>\n",
       "      <td>NaN</td>\n",
       "      <td>302 007</td>\n",
       "      <td>30101.0</td>\n",
       "      <td>E-231</td>\n",
       "      <td>0.000000e+00</td>\n",
       "      <td>NaN</td>\n",
       "      <td>1</td>\n",
       "      <td>16V2</td>\n",
       "    </tr>\n",
       "    <tr>\n",
       "      <th>2</th>\n",
       "      <td>BK</td>\n",
       "      <td>1</td>\n",
       "      <td>7501</td>\n",
       "      <td>302</td>\n",
       "      <td>21.0</td>\n",
       "      <td>2000.0</td>\n",
       "      <td>13.0</td>\n",
       "      <td>33.0</td>\n",
       "      <td>11201.0</td>\n",
       "      <td>L118</td>\n",
       "      <td>...</td>\n",
       "      <td>195992.0</td>\n",
       "      <td>12d</td>\n",
       "      <td>NaN</td>\n",
       "      <td>302 007</td>\n",
       "      <td>30101.0</td>\n",
       "      <td>NaN</td>\n",
       "      <td>3.000010e+09</td>\n",
       "      <td>3/4/2016</td>\n",
       "      <td>1</td>\n",
       "      <td>16V2</td>\n",
       "    </tr>\n",
       "    <tr>\n",
       "      <th>3</th>\n",
       "      <td>BK</td>\n",
       "      <td>3</td>\n",
       "      <td>1</td>\n",
       "      <td>302</td>\n",
       "      <td>21.0</td>\n",
       "      <td>3002.0</td>\n",
       "      <td>13.0</td>\n",
       "      <td>33.0</td>\n",
       "      <td>11201.0</td>\n",
       "      <td>L118</td>\n",
       "      <td>...</td>\n",
       "      <td>196151.0</td>\n",
       "      <td>12d</td>\n",
       "      <td>NaN</td>\n",
       "      <td>302 007</td>\n",
       "      <td>30101.0</td>\n",
       "      <td>NaN</td>\n",
       "      <td>0.000000e+00</td>\n",
       "      <td>NaN</td>\n",
       "      <td>1</td>\n",
       "      <td>16V2</td>\n",
       "    </tr>\n",
       "    <tr>\n",
       "      <th>4</th>\n",
       "      <td>BK</td>\n",
       "      <td>3</td>\n",
       "      <td>5</td>\n",
       "      <td>302</td>\n",
       "      <td>21.0</td>\n",
       "      <td>NaN</td>\n",
       "      <td>13.0</td>\n",
       "      <td>33.0</td>\n",
       "      <td>11201.0</td>\n",
       "      <td>L118</td>\n",
       "      <td>...</td>\n",
       "      <td>NaN</td>\n",
       "      <td>12d</td>\n",
       "      <td>NaN</td>\n",
       "      <td>302 007</td>\n",
       "      <td>30101.0</td>\n",
       "      <td>NaN</td>\n",
       "      <td>0.000000e+00</td>\n",
       "      <td>NaN</td>\n",
       "      <td>4</td>\n",
       "      <td>16V2</td>\n",
       "    </tr>\n",
       "  </tbody>\n",
       "</table>\n",
       "<p>5 rows × 84 columns</p>\n",
       "</div>"
      ],
      "text/plain": [
       "  Borough  Block   Lot   CD  CT2010  CB2010  SchoolDist  Council  ZipCode  \\\n",
       "0      BK      1     1  302    21.0     NaN        13.0     33.0  11201.0   \n",
       "1      BK      1    50  302    21.0  2000.0        13.0     33.0  11201.0   \n",
       "2      BK      1  7501  302    21.0  2000.0        13.0     33.0  11201.0   \n",
       "3      BK      3     1  302    21.0  3002.0        13.0     33.0  11201.0   \n",
       "4      BK      3     5  302    21.0     NaN        13.0     33.0  11201.0   \n",
       "\n",
       "  FireComp   ...      YCoord  ZoneMap  ZMCode  Sanborn   TaxMap EDesigNum  \\\n",
       "0     L118   ...         NaN      12d     NaN  302 007  30101.0       NaN   \n",
       "1     L118   ...    195989.0      12d     NaN  302 007  30101.0     E-231   \n",
       "2     L118   ...    195992.0      12d     NaN  302 007  30101.0       NaN   \n",
       "3     L118   ...    196151.0      12d     NaN  302 007  30101.0       NaN   \n",
       "4     L118   ...         NaN      12d     NaN  302 007  30101.0       NaN   \n",
       "\n",
       "         APPBBL     APPDate PLUTOMapID Version  \n",
       "0  3.000010e+09  11/26/2013          1    16V2  \n",
       "1  0.000000e+00         NaN          1    16V2  \n",
       "2  3.000010e+09    3/4/2016          1    16V2  \n",
       "3  0.000000e+00         NaN          1    16V2  \n",
       "4  0.000000e+00         NaN          4    16V2  \n",
       "\n",
       "[5 rows x 84 columns]"
      ]
     },
     "execution_count": 9,
     "metadata": {},
     "output_type": "execute_result"
    }
   ],
   "source": [
    "BK.head()"
   ]
  },
  {
   "cell_type": "code",
   "execution_count": 10,
   "metadata": {
    "collapsed": false,
    "deletable": true,
    "editable": true
   },
   "outputs": [
    {
     "name": "stderr",
     "output_type": "stream",
     "text": [
      "/usr/local/lib/python2.7/site-packages/IPython/core/interactiveshell.py:2717: DtypeWarning: Columns (19,22,23,25,63,79) have mixed types. Specify dtype option on import or set low_memory=False.\n",
      "  interactivity=interactivity, compiler=compiler, result=result)\n"
     ]
    }
   ],
   "source": [
    "MN = pd.read_csv('MN.csv')"
   ]
  },
  {
   "cell_type": "code",
   "execution_count": 12,
   "metadata": {
    "collapsed": false,
    "deletable": true,
    "editable": true
   },
   "outputs": [
    {
     "name": "stderr",
     "output_type": "stream",
     "text": [
      "/usr/local/lib/python2.7/site-packages/IPython/core/interactiveshell.py:2717: DtypeWarning: Columns (18,19,21,22,23,63,64,79) have mixed types. Specify dtype option on import or set low_memory=False.\n",
      "  interactivity=interactivity, compiler=compiler, result=result)\n"
     ]
    }
   ],
   "source": [
    "SI = pd.read_csv('SI.csv')"
   ]
  },
  {
   "cell_type": "code",
   "execution_count": 13,
   "metadata": {
    "collapsed": false,
    "deletable": true,
    "editable": true
   },
   "outputs": [
    {
     "name": "stderr",
     "output_type": "stream",
     "text": [
      "/usr/local/lib/python2.7/site-packages/IPython/core/interactiveshell.py:2717: DtypeWarning: Columns (18,19,21,22,63,64,79) have mixed types. Specify dtype option on import or set low_memory=False.\n",
      "  interactivity=interactivity, compiler=compiler, result=result)\n"
     ]
    }
   ],
   "source": [
    "BX = pd.read_csv('BX.csv')"
   ]
  },
  {
   "cell_type": "code",
   "execution_count": 14,
   "metadata": {
    "collapsed": false,
    "deletable": true,
    "editable": true
   },
   "outputs": [
    {
     "name": "stderr",
     "output_type": "stream",
     "text": [
      "/usr/local/lib/python2.7/site-packages/IPython/core/interactiveshell.py:2717: DtypeWarning: Columns (18,19,21,22,63,64,76) have mixed types. Specify dtype option on import or set low_memory=False.\n",
      "  interactivity=interactivity, compiler=compiler, result=result)\n"
     ]
    }
   ],
   "source": [
    "QN = pd.read_csv('QN.csv')"
   ]
  },
  {
   "cell_type": "code",
   "execution_count": 15,
   "metadata": {
    "collapsed": true,
    "deletable": true,
    "editable": true
   },
   "outputs": [],
   "source": [
    "frame = [MN, BK, QN, BX, SI]\n",
    "pluto = pd.concat(frame)"
   ]
  },
  {
   "cell_type": "code",
   "execution_count": 16,
   "metadata": {
    "collapsed": false,
    "deletable": true,
    "editable": true
   },
   "outputs": [
    {
     "data": {
      "text/plain": [
       "(858370, 84)"
      ]
     },
     "execution_count": 16,
     "metadata": {},
     "output_type": "execute_result"
    }
   ],
   "source": [
    "pluto.shape"
   ]
  },
  {
   "cell_type": "code",
   "execution_count": 17,
   "metadata": {
    "collapsed": false,
    "deletable": true,
    "editable": true
   },
   "outputs": [],
   "source": [
    "mergeddf = pd.merge(pluto,data2016,on = \"BBL\")"
   ]
  },
  {
   "cell_type": "code",
   "execution_count": 18,
   "metadata": {
    "collapsed": false,
    "deletable": true,
    "editable": true
   },
   "outputs": [
    {
     "data": {
      "text/plain": [
       "13185"
      ]
     },
     "execution_count": 18,
     "metadata": {},
     "output_type": "execute_result"
    }
   ],
   "source": [
    "len(mergeddf)"
   ]
  },
  {
   "cell_type": "code",
   "execution_count": 20,
   "metadata": {
    "collapsed": false,
    "deletable": true,
    "editable": true
   },
   "outputs": [
    {
     "data": {
      "text/plain": [
       "(13185, 140)"
      ]
     },
     "execution_count": 20,
     "metadata": {},
     "output_type": "execute_result"
    }
   ],
   "source": [
    "mergeddf.shape"
   ]
  },
  {
   "cell_type": "code",
   "execution_count": 21,
   "metadata": {
    "collapsed": false,
    "deletable": true,
    "editable": true
   },
   "outputs": [
    {
     "data": {
      "text/plain": [
       "Index([u'Record Number', u'Order', u'BBL', u'Co-reported BBL Status',\n",
       "       u'BBLs Co-reported',\n",
       "       u'Reported NYC Building Identification Numbers (BINs)',\n",
       "       u'Property Name', u'Parent Property Id', u'Parent Property Name',\n",
       "       u'Street Number', u'Street Name', u'Zip Code', u'Borough',\n",
       "       u'DOF Benchmarking Submission Status',\n",
       "       u'Primary Property Type - Self Selected',\n",
       "       u'List of All Property Use Types at Property',\n",
       "       u'Largest Property Use Type',\n",
       "       u'Largest Property Use Type - Gross Floor Area (ft²)',\n",
       "       u'2nd Largest Property Use Type',\n",
       "       u'2nd Largest Property Use - Gross Floor Area (ft²)',\n",
       "       u'3rd Largest Property Use Type',\n",
       "       u'3rd Largest Property Use Type - Gross Floor Area (ft²)',\n",
       "       u'Year Built', u'Number of Buildings - Self-reported', u'Occupancy',\n",
       "       u'Metered Areas (Energy)', u'Metered Areas  (Water)',\n",
       "       u'ENERGY STAR Score', u'Site EUI (kBtu/ft²)',\n",
       "       u'Weather Normalized Site EUI (kBtu/ft²)',\n",
       "       u'Weather Normalized Site Electricity Intensity (kWh/ft²)',\n",
       "       u'Weather Normalized Site Natural Gas Intensity (therms/ft²)',\n",
       "       u'Source EUI (kBtu/ft²)', u'Weather Normalized Source EUI (kBtu/ft²)',\n",
       "       u'Fuel Oil #1 Use (kBtu)', u'Fuel Oil #2 Use (kBtu)',\n",
       "       u'Fuel Oil #4 Use (kBtu)', u'Fuel Oil #5 & 6 Use (kBtu)',\n",
       "       u'Diesel #2 Use (kBtu)', u'District Steam Use (kBtu)',\n",
       "       u'District Hot Water Use (kBtu)', u'District Chilled Water Use (kBtu)',\n",
       "       u'Natural Gas Use (kBtu)',\n",
       "       u'Weather Normalized Site Natural Gas Use (therms)',\n",
       "       u'Electricity Use - Grid Purchase (kBtu)',\n",
       "       u'Weather Normalized Site Electricity (kWh)',\n",
       "       u'Total GHG Emissions (Metric Tons CO2e)',\n",
       "       u'Direct GHG Emissions (Metric Tons CO2e)',\n",
       "       u'Indirect GHG Emissions (Metric Tons CO2e)',\n",
       "       u'DOF Property Floor Area (ft²)', u'Property GFA - Self-reported (ft²)',\n",
       "       u'Water Use (All Water Sources) (kgal)',\n",
       "       u'Municipally Supplied Potable Water - Indoor Intensity (gal/ft²)',\n",
       "       u'Release Date', u'DEP Provided Water Use (kgal)',\n",
       "       u'Automatic Water Benchmarking Eligible', u'Reported Water Method'],\n",
       "      dtype='object')"
      ]
     },
     "execution_count": 21,
     "metadata": {},
     "output_type": "execute_result"
    }
   ],
   "source": [
    "data2016.columns"
   ]
  },
  {
   "cell_type": "code",
   "execution_count": 22,
   "metadata": {
    "collapsed": false,
    "deletable": true,
    "editable": true
   },
   "outputs": [
    {
     "data": {
      "text/plain": [
       "Index([u'Borough', u'Block', u'Lot', u'CD', u'CT2010', u'CB2010',\n",
       "       u'SchoolDist', u'Council', u'ZipCode', u'FireComp', u'PolicePrct',\n",
       "       u'HealthArea', u'SanitBoro', u'SanitDistrict', u'SanitSub', u'Address',\n",
       "       u'ZoneDist1', u'ZoneDist2', u'ZoneDist3', u'ZoneDist4', u'Overlay1',\n",
       "       u'Overlay2', u'SPDist1', u'SPDist2', u'SPDist3', u'LtdHeight',\n",
       "       u'SplitZone', u'BldgClass', u'LandUse', u'Easements', u'OwnerType',\n",
       "       u'OwnerName', u'LotArea', u'BldgArea', u'ComArea', u'ResArea',\n",
       "       u'OfficeArea', u'RetailArea', u'GarageArea', u'StrgeArea',\n",
       "       u'FactryArea', u'OtherArea', u'AreaSource', u'NumBldgs', u'NumFloors',\n",
       "       u'UnitsRes', u'UnitsTotal', u'LotFront', u'LotDepth', u'BldgFront',\n",
       "       u'BldgDepth', u'Ext', u'ProxCode', u'IrrLotCode', u'LotType',\n",
       "       u'BsmtCode', u'AssessLand', u'AssessTot', u'ExemptLand', u'ExemptTot',\n",
       "       u'YearBuilt', u'YearAlter1', u'YearAlter2', u'HistDist', u'Landmark',\n",
       "       u'BuiltFAR', u'ResidFAR', u'CommFAR', u'FacilFAR', u'BoroCode', u'BBL',\n",
       "       u'CondoNo', u'Tract2010', u'XCoord', u'YCoord', u'ZoneMap', u'ZMCode',\n",
       "       u'Sanborn', u'TaxMap', u'EDesigNum', u'APPBBL', u'APPDate',\n",
       "       u'PLUTOMapID', u'Version'],\n",
       "      dtype='object')"
      ]
     },
     "execution_count": 22,
     "metadata": {},
     "output_type": "execute_result"
    }
   ],
   "source": [
    "pluto.columns"
   ]
  },
  {
   "cell_type": "code",
   "execution_count": 127,
   "metadata": {
    "collapsed": false,
    "deletable": true,
    "editable": true
   },
   "outputs": [],
   "source": [
    "df = mergeddf[['Weather Normalized Site Electricity (kWh)','Weather Normalized Source EUI (kBtu/ft²)',\\\n",
    "               'BuiltFAR','YearBuilt','DOF Property Floor Area (ft²)','LotType','ProxCode','BBL',\\\n",
    "               'Primary Property Type - Self Selected',\\\n",
    "               'Zip Code','ENERGY STAR Score','Fuel Oil #1 Use (kBtu)', 'Fuel Oil #2 Use (kBtu)',\n",
    "               'Fuel Oil #4 Use (kBtu)', 'Fuel Oil #5 & 6 Use (kBtu)',\n",
    "               'Diesel #2 Use (kBtu)', 'District Steam Use (kBtu)',\n",
    "                'District Hot Water Use (kBtu)', 'District Chilled Water Use (kBtu)',\n",
    "               'Natural Gas Use (kBtu)',\n",
    "               'Weather Normalized Site Natural Gas Use (therms)',\n",
    "               'Electricity Use - Grid Purchase (kBtu)','LotArea','NumFloors']]"
   ]
  },
  {
   "cell_type": "code",
   "execution_count": 106,
   "metadata": {
    "collapsed": false,
    "deletable": true,
    "editable": true
   },
   "outputs": [
    {
     "data": {
      "text/plain": [
       "54"
      ]
     },
     "execution_count": 106,
     "metadata": {},
     "output_type": "execute_result"
    }
   ],
   "source": [
    "len(df['Primary Property Type - Self Selected'].unique())"
   ]
  },
  {
   "cell_type": "code",
   "execution_count": 107,
   "metadata": {
    "collapsed": false,
    "deletable": true,
    "editable": true
   },
   "outputs": [
    {
     "data": {
      "text/html": [
       "<div>\n",
       "<table border=\"1\" class=\"dataframe\">\n",
       "  <thead>\n",
       "    <tr style=\"text-align: right;\">\n",
       "      <th></th>\n",
       "      <th>Primary Property Type - Self Selected</th>\n",
       "      <th>count</th>\n",
       "    </tr>\n",
       "  </thead>\n",
       "  <tbody>\n",
       "    <tr>\n",
       "      <th>20</th>\n",
       "      <td>Multifamily Housing</td>\n",
       "      <td>8402</td>\n",
       "    </tr>\n",
       "    <tr>\n",
       "      <th>23</th>\n",
       "      <td>Office</td>\n",
       "      <td>1194</td>\n",
       "    </tr>\n",
       "    <tr>\n",
       "      <th>11</th>\n",
       "      <td>Hotel</td>\n",
       "      <td>228</td>\n",
       "    </tr>\n",
       "    <tr>\n",
       "      <th>22</th>\n",
       "      <td>Non-Refrigerated Warehouse</td>\n",
       "      <td>160</td>\n",
       "    </tr>\n",
       "    <tr>\n",
       "      <th>24</th>\n",
       "      <td>Other</td>\n",
       "      <td>117</td>\n",
       "    </tr>\n",
       "    <tr>\n",
       "      <th>46</th>\n",
       "      <td>Senior Care Community</td>\n",
       "      <td>107</td>\n",
       "    </tr>\n",
       "    <tr>\n",
       "      <th>43</th>\n",
       "      <td>Retail Store</td>\n",
       "      <td>95</td>\n",
       "    </tr>\n",
       "    <tr>\n",
       "      <th>40</th>\n",
       "      <td>Residence Hall/Dormitory</td>\n",
       "      <td>92</td>\n",
       "    </tr>\n",
       "    <tr>\n",
       "      <th>45</th>\n",
       "      <td>Self-Storage Facility</td>\n",
       "      <td>85</td>\n",
       "    </tr>\n",
       "    <tr>\n",
       "      <th>12</th>\n",
       "      <td>K-12 School</td>\n",
       "      <td>83</td>\n",
       "    </tr>\n",
       "    <tr>\n",
       "      <th>18</th>\n",
       "      <td>Mixed Use Property</td>\n",
       "      <td>73</td>\n",
       "    </tr>\n",
       "    <tr>\n",
       "      <th>3</th>\n",
       "      <td>College/University</td>\n",
       "      <td>59</td>\n",
       "    </tr>\n",
       "    <tr>\n",
       "      <th>6</th>\n",
       "      <td>Distribution Center</td>\n",
       "      <td>59</td>\n",
       "    </tr>\n",
       "    <tr>\n",
       "      <th>16</th>\n",
       "      <td>Manufacturing/Industrial Plant</td>\n",
       "      <td>38</td>\n",
       "    </tr>\n",
       "    <tr>\n",
       "      <th>10</th>\n",
       "      <td>Hospital (General Medical &amp; Surgical)</td>\n",
       "      <td>36</td>\n",
       "    </tr>\n",
       "    <tr>\n",
       "      <th>17</th>\n",
       "      <td>Medical Office</td>\n",
       "      <td>32</td>\n",
       "    </tr>\n",
       "    <tr>\n",
       "      <th>34</th>\n",
       "      <td>Parking</td>\n",
       "      <td>31</td>\n",
       "    </tr>\n",
       "    <tr>\n",
       "      <th>52</th>\n",
       "      <td>Worship Facility</td>\n",
       "      <td>19</td>\n",
       "    </tr>\n",
       "    <tr>\n",
       "      <th>8</th>\n",
       "      <td>Financial Office</td>\n",
       "      <td>18</td>\n",
       "    </tr>\n",
       "    <tr>\n",
       "      <th>49</th>\n",
       "      <td>Supermarket/Grocery Store</td>\n",
       "      <td>18</td>\n",
       "    </tr>\n",
       "    <tr>\n",
       "      <th>26</th>\n",
       "      <td>Other - Entertainment/Public Assembly</td>\n",
       "      <td>17</td>\n",
       "    </tr>\n",
       "    <tr>\n",
       "      <th>32</th>\n",
       "      <td>Other - Specialty Hospital</td>\n",
       "      <td>15</td>\n",
       "    </tr>\n",
       "    <tr>\n",
       "      <th>38</th>\n",
       "      <td>Refrigerated Warehouse</td>\n",
       "      <td>12</td>\n",
       "    </tr>\n",
       "    <tr>\n",
       "      <th>25</th>\n",
       "      <td>Other - Education</td>\n",
       "      <td>11</td>\n",
       "    </tr>\n",
       "    <tr>\n",
       "      <th>28</th>\n",
       "      <td>Other - Mall</td>\n",
       "      <td>8</td>\n",
       "    </tr>\n",
       "    <tr>\n",
       "      <th>50</th>\n",
       "      <td>Urgent Care/Clinic/Other Outpatient</td>\n",
       "      <td>7</td>\n",
       "    </tr>\n",
       "    <tr>\n",
       "      <th>21</th>\n",
       "      <td>Museum</td>\n",
       "      <td>6</td>\n",
       "    </tr>\n",
       "    <tr>\n",
       "      <th>2</th>\n",
       "      <td>Automobile Dealership</td>\n",
       "      <td>6</td>\n",
       "    </tr>\n",
       "    <tr>\n",
       "      <th>27</th>\n",
       "      <td>Other - Lodging/Residential</td>\n",
       "      <td>5</td>\n",
       "    </tr>\n",
       "    <tr>\n",
       "      <th>7</th>\n",
       "      <td>Enclosed Mall</td>\n",
       "      <td>5</td>\n",
       "    </tr>\n",
       "    <tr>\n",
       "      <th>39</th>\n",
       "      <td>Repair Services (Vehicle, Shoe, Locksmith, etc.)</td>\n",
       "      <td>4</td>\n",
       "    </tr>\n",
       "    <tr>\n",
       "      <th>31</th>\n",
       "      <td>Other - Services</td>\n",
       "      <td>4</td>\n",
       "    </tr>\n",
       "    <tr>\n",
       "      <th>51</th>\n",
       "      <td>Wholesale Club/Supercenter</td>\n",
       "      <td>4</td>\n",
       "    </tr>\n",
       "    <tr>\n",
       "      <th>33</th>\n",
       "      <td>Outpatient Rehabilitation/Physical Therapy</td>\n",
       "      <td>4</td>\n",
       "    </tr>\n",
       "    <tr>\n",
       "      <th>35</th>\n",
       "      <td>Performing Arts</td>\n",
       "      <td>4</td>\n",
       "    </tr>\n",
       "    <tr>\n",
       "      <th>47</th>\n",
       "      <td>Social/Meeting Hall</td>\n",
       "      <td>4</td>\n",
       "    </tr>\n",
       "    <tr>\n",
       "      <th>48</th>\n",
       "      <td>Strip Mall</td>\n",
       "      <td>3</td>\n",
       "    </tr>\n",
       "    <tr>\n",
       "      <th>5</th>\n",
       "      <td>Data Center</td>\n",
       "      <td>3</td>\n",
       "    </tr>\n",
       "    <tr>\n",
       "      <th>9</th>\n",
       "      <td>Fitness Center/Health Club/Gym</td>\n",
       "      <td>3</td>\n",
       "    </tr>\n",
       "    <tr>\n",
       "      <th>0</th>\n",
       "      <td>Adult Education</td>\n",
       "      <td>3</td>\n",
       "    </tr>\n",
       "    <tr>\n",
       "      <th>13</th>\n",
       "      <td>Laboratory</td>\n",
       "      <td>3</td>\n",
       "    </tr>\n",
       "    <tr>\n",
       "      <th>19</th>\n",
       "      <td>Movie Theater</td>\n",
       "      <td>2</td>\n",
       "    </tr>\n",
       "    <tr>\n",
       "      <th>4</th>\n",
       "      <td>Courthouse</td>\n",
       "      <td>2</td>\n",
       "    </tr>\n",
       "    <tr>\n",
       "      <th>14</th>\n",
       "      <td>Library</td>\n",
       "      <td>2</td>\n",
       "    </tr>\n",
       "    <tr>\n",
       "      <th>37</th>\n",
       "      <td>Police Station</td>\n",
       "      <td>2</td>\n",
       "    </tr>\n",
       "    <tr>\n",
       "      <th>41</th>\n",
       "      <td>Residential Care Facility</td>\n",
       "      <td>1</td>\n",
       "    </tr>\n",
       "    <tr>\n",
       "      <th>42</th>\n",
       "      <td>Restaurant</td>\n",
       "      <td>1</td>\n",
       "    </tr>\n",
       "    <tr>\n",
       "      <th>36</th>\n",
       "      <td>Personal Services (Health/Beauty, Dry Cleaning...</td>\n",
       "      <td>1</td>\n",
       "    </tr>\n",
       "    <tr>\n",
       "      <th>30</th>\n",
       "      <td>Other - Recreation</td>\n",
       "      <td>1</td>\n",
       "    </tr>\n",
       "    <tr>\n",
       "      <th>29</th>\n",
       "      <td>Other - Public Services</td>\n",
       "      <td>1</td>\n",
       "    </tr>\n",
       "    <tr>\n",
       "      <th>1</th>\n",
       "      <td>Ambulatory Surgical Center</td>\n",
       "      <td>1</td>\n",
       "    </tr>\n",
       "    <tr>\n",
       "      <th>15</th>\n",
       "      <td>Lifestyle Center</td>\n",
       "      <td>1</td>\n",
       "    </tr>\n",
       "    <tr>\n",
       "      <th>44</th>\n",
       "      <td>See Primary BBL</td>\n",
       "      <td>0</td>\n",
       "    </tr>\n",
       "  </tbody>\n",
       "</table>\n",
       "</div>"
      ],
      "text/plain": [
       "                Primary Property Type - Self Selected  count\n",
       "20                                Multifamily Housing   8402\n",
       "23                                             Office   1194\n",
       "11                                              Hotel    228\n",
       "22                         Non-Refrigerated Warehouse    160\n",
       "24                                              Other    117\n",
       "46                              Senior Care Community    107\n",
       "43                                       Retail Store     95\n",
       "40                           Residence Hall/Dormitory     92\n",
       "45                              Self-Storage Facility     85\n",
       "12                                        K-12 School     83\n",
       "18                                 Mixed Use Property     73\n",
       "3                                  College/University     59\n",
       "6                                 Distribution Center     59\n",
       "16                     Manufacturing/Industrial Plant     38\n",
       "10              Hospital (General Medical & Surgical)     36\n",
       "17                                     Medical Office     32\n",
       "34                                            Parking     31\n",
       "52                                   Worship Facility     19\n",
       "8                                    Financial Office     18\n",
       "49                          Supermarket/Grocery Store     18\n",
       "26              Other - Entertainment/Public Assembly     17\n",
       "32                         Other - Specialty Hospital     15\n",
       "38                             Refrigerated Warehouse     12\n",
       "25                                  Other - Education     11\n",
       "28                                       Other - Mall      8\n",
       "50                Urgent Care/Clinic/Other Outpatient      7\n",
       "21                                             Museum      6\n",
       "2                               Automobile Dealership      6\n",
       "27                        Other - Lodging/Residential      5\n",
       "7                                       Enclosed Mall      5\n",
       "39   Repair Services (Vehicle, Shoe, Locksmith, etc.)      4\n",
       "31                                   Other - Services      4\n",
       "51                         Wholesale Club/Supercenter      4\n",
       "33         Outpatient Rehabilitation/Physical Therapy      4\n",
       "35                                    Performing Arts      4\n",
       "47                                Social/Meeting Hall      4\n",
       "48                                         Strip Mall      3\n",
       "5                                         Data Center      3\n",
       "9                      Fitness Center/Health Club/Gym      3\n",
       "0                                     Adult Education      3\n",
       "13                                         Laboratory      3\n",
       "19                                      Movie Theater      2\n",
       "4                                          Courthouse      2\n",
       "14                                            Library      2\n",
       "37                                     Police Station      2\n",
       "41                          Residential Care Facility      1\n",
       "42                                         Restaurant      1\n",
       "36  Personal Services (Health/Beauty, Dry Cleaning...      1\n",
       "30                                 Other - Recreation      1\n",
       "29                            Other - Public Services      1\n",
       "1                          Ambulatory Surgical Center      1\n",
       "15                                   Lifestyle Center      1\n",
       "44                                    See Primary BBL      0"
      ]
     },
     "execution_count": 107,
     "metadata": {},
     "output_type": "execute_result"
    }
   ],
   "source": [
    "count = df[['Weather Normalized Site Electricity (kWh)','Primary Property Type - Self Selected']]\\\n",
    ".groupby(['Primary Property Type - Self Selected'])['Weather Normalized Site Electricity (kWh)'].count()\\\n",
    ".reset_index(name='count').sort_values(['count'], ascending=False)\n",
    "count"
   ]
  },
  {
   "cell_type": "code",
   "execution_count": 108,
   "metadata": {
    "collapsed": false,
    "deletable": true,
    "editable": true
   },
   "outputs": [],
   "source": [
    "df['Primary Property Type - Self Selected'].replace('Multifamily Housing', 'Residential', inplace=True)\n",
    "df['Primary Property Type - Self Selected'].replace('Residence Hall/Dormitory', 'Residential', inplace=True)\n",
    "df['Primary Property Type - Self Selected'].replace('Office', 'Commercial', inplace=True)\n",
    "df['Primary Property Type - Self Selected'].replace('Retail Store', 'Commercial', inplace=True)\n",
    "df['Primary Property Type - Self Selected'].replace('Financial Office', 'Commercial', inplace=True)\n",
    "df['Primary Property Type - Self Selected'].replace('Medical Office', 'Commercial', inplace=True)\n",
    "df['Primary Property Type - Self Selected'].replace('College/University', 'Commercial', inplace=True)\n",
    "#df['Primary Property Type - Self Selected'].replace('Hotel', 'Commercial', inplace=True)"
   ]
  },
  {
   "cell_type": "code",
   "execution_count": 95,
   "metadata": {
    "collapsed": false,
    "deletable": true,
    "editable": true
   },
   "outputs": [
    {
     "data": {
      "text/plain": [
       "(8793, 24)"
      ]
     },
     "execution_count": 95,
     "metadata": {},
     "output_type": "execute_result"
    }
   ],
   "source": [
    "ResD = df[df['Primary Property Type - Self Selected'] == 'Residential']\n",
    "ResD.shape"
   ]
  },
  {
   "cell_type": "code",
   "execution_count": 109,
   "metadata": {
    "collapsed": false,
    "deletable": true,
    "editable": true
   },
   "outputs": [
    {
     "data": {
      "text/plain": [
       "(1446, 24)"
      ]
     },
     "execution_count": 109,
     "metadata": {},
     "output_type": "execute_result"
    }
   ],
   "source": [
    "Com = df[df['Primary Property Type - Self Selected'] == 'Commercial']\n",
    "Com.shape"
   ]
  },
  {
   "cell_type": "code",
   "execution_count": 96,
   "metadata": {
    "collapsed": false
   },
   "outputs": [
    {
     "data": {
      "text/plain": [
       "(5852, 24)"
      ]
     },
     "execution_count": 96,
     "metadata": {},
     "output_type": "execute_result"
    }
   ],
   "source": [
    "ResD_1 = ResD.dropna()\n",
    "ResD_1.shape"
   ]
  },
  {
   "cell_type": "code",
   "execution_count": 130,
   "metadata": {
    "collapsed": false
   },
   "outputs": [
    {
     "name": "stderr",
     "output_type": "stream",
     "text": [
      "/usr/local/lib/python2.7/site-packages/ipykernel/__main__.py:1: SettingWithCopyWarning: \n",
      "A value is trying to be set on a copy of a slice from a DataFrame.\n",
      "Try using .loc[row_indexer,col_indexer] = value instead\n",
      "\n",
      "See the caveats in the documentation: http://pandas.pydata.org/pandas-docs/stable/indexing.html#indexing-view-versus-copy\n",
      "  if __name__ == '__main__':\n",
      "/usr/local/lib/python2.7/site-packages/ipykernel/__main__.py:2: RuntimeWarning: divide by zero encountered in log\n",
      "  from ipykernel import kernelapp as app\n",
      "/usr/local/lib/python2.7/site-packages/ipykernel/__main__.py:2: SettingWithCopyWarning: \n",
      "A value is trying to be set on a copy of a slice from a DataFrame.\n",
      "Try using .loc[row_indexer,col_indexer] = value instead\n",
      "\n",
      "See the caveats in the documentation: http://pandas.pydata.org/pandas-docs/stable/indexing.html#indexing-view-versus-copy\n",
      "  from ipykernel import kernelapp as app\n"
     ]
    }
   ],
   "source": [
    "ResD_1['log_EUI'] = np.log(ResD_1['Weather Normalized Source EUI (kBtu/ft²)'])\n",
    "ResD_1['log_Elec'] = np.log(ResD_1['Weather Normalized Site Electricity (kWh)'])"
   ]
  },
  {
   "cell_type": "code",
   "execution_count": 122,
   "metadata": {
    "collapsed": false
   },
   "outputs": [
    {
     "data": {
      "text/plain": [
       "(5745, 25)"
      ]
     },
     "execution_count": 122,
     "metadata": {},
     "output_type": "execute_result"
    }
   ],
   "source": [
    "ResD_2 = ResD_1[(ResD_1.log_EUI > (ResD_1.log_EUI.mean() - 2*ResD_1.log_EUI.std())) & \\\n",
    "                (ResD_1.log_EUI < (ResD_1.log_EUI.mean() + 2*ResD_1.log_EUI.std()))]\n",
    "ResD_2.shape"
   ]
  },
  {
   "cell_type": "code",
   "execution_count": 131,
   "metadata": {
    "collapsed": false
   },
   "outputs": [
    {
     "data": {
      "text/plain": [
       "(0, 26)"
      ]
     },
     "execution_count": 131,
     "metadata": {},
     "output_type": "execute_result"
    }
   ],
   "source": [
    "ResD_3 = ResD_1[(ResD_1.log_Elec > (ResD_1.log_Elec.mean() - 2*ResD_1.log_Elec.std())) & \\\n",
    "                (ResD_1.log_Elec < (ResD_1.log_Elec.mean() + 2*ResD_1.log_Elec.std()))]\n",
    "ResD_3.shape"
   ]
  },
  {
   "cell_type": "code",
   "execution_count": 134,
   "metadata": {
    "collapsed": false
   },
   "outputs": [
    {
     "data": {
      "text/plain": [
       "nan"
      ]
     },
     "execution_count": 134,
     "metadata": {},
     "output_type": "execute_result"
    }
   ],
   "source": [
    "ResD_1.log_Elec.std()"
   ]
  },
  {
   "cell_type": "code",
   "execution_count": 135,
   "metadata": {
    "collapsed": false
   },
   "outputs": [
    {
     "data": {
      "text/plain": [
       "4        2155535.8\n",
       "18       2548023.3\n",
       "27       3049094.2\n",
       "29       1683218.7\n",
       "32       3921735.8\n",
       "33       2217445.0\n",
       "34       2094158.1\n",
       "35       2128744.2\n",
       "36       3124183.7\n",
       "37       6220871.4\n",
       "40       4863012.2\n",
       "58       4763801.9\n",
       "62       4689582.0\n",
       "63       4093261.6\n",
       "64       4323968.9\n",
       "65       6621904.2\n",
       "66       4137402.5\n",
       "77        849185.9\n",
       "81       8170565.5\n",
       "84       5254564.5\n",
       "97       3707249.2\n",
       "103      6255067.4\n",
       "118      1037484.1\n",
       "120      2491023.2\n",
       "124      3456475.6\n",
       "127      1338334.3\n",
       "133      1448111.2\n",
       "144      1367689.4\n",
       "145      1621704.0\n",
       "146      2686814.2\n",
       "           ...    \n",
       "13031     663329.4\n",
       "13032     236787.8\n",
       "13033     211390.0\n",
       "13034     225144.2\n",
       "13038     134257.7\n",
       "13039     126027.0\n",
       "13041     350600.6\n",
       "13046    1221754.4\n",
       "13051     385635.9\n",
       "13053     362957.0\n",
       "13068    4678045.5\n",
       "13073     526730.2\n",
       "13104    1335694.7\n",
       "13114    1321499.8\n",
       "13120     755970.0\n",
       "13122     557893.8\n",
       "13123     531979.7\n",
       "13125     401900.8\n",
       "13126     466296.0\n",
       "13127    1861872.1\n",
       "13129     843471.5\n",
       "13132    1917131.3\n",
       "13134    1652791.4\n",
       "13135    1903867.7\n",
       "13136     710609.9\n",
       "13138    1389066.5\n",
       "13148     479270.7\n",
       "13149     651134.9\n",
       "13150     588637.7\n",
       "13156     280293.9\n",
       "Name: Weather Normalized Site Electricity (kWh), dtype: float64"
      ]
     },
     "execution_count": 135,
     "metadata": {},
     "output_type": "execute_result"
    }
   ],
   "source": [
    "ResD_1['Weather Normalized Site Electricity (kWh)'].dropna()"
   ]
  },
  {
   "cell_type": "code",
   "execution_count": 116,
   "metadata": {
    "collapsed": false
   },
   "outputs": [
    {
     "data": {
      "text/plain": [
       "(698, 24)"
      ]
     },
     "execution_count": 116,
     "metadata": {},
     "output_type": "execute_result"
    }
   ],
   "source": [
    "Com_1 = Com.dropna()\n",
    "Com_1.shape"
   ]
  },
  {
   "cell_type": "code",
   "execution_count": 118,
   "metadata": {
    "collapsed": false
   },
   "outputs": [
    {
     "name": "stderr",
     "output_type": "stream",
     "text": [
      "/usr/local/lib/python2.7/site-packages/ipykernel/__main__.py:1: SettingWithCopyWarning: \n",
      "A value is trying to be set on a copy of a slice from a DataFrame.\n",
      "Try using .loc[row_indexer,col_indexer] = value instead\n",
      "\n",
      "See the caveats in the documentation: http://pandas.pydata.org/pandas-docs/stable/indexing.html#indexing-view-versus-copy\n",
      "  if __name__ == '__main__':\n"
     ]
    }
   ],
   "source": [
    "Com_1['log_EUI'] = np.log(Com_1['Weather Normalized Source EUI (kBtu/ft²)'])"
   ]
  },
  {
   "cell_type": "code",
   "execution_count": 121,
   "metadata": {
    "collapsed": false
   },
   "outputs": [
    {
     "data": {
      "text/plain": [
       "(667, 25)"
      ]
     },
     "execution_count": 121,
     "metadata": {},
     "output_type": "execute_result"
    }
   ],
   "source": [
    "Com_2 = Com_1[(Com_1.log_EUI > (Com_1.log_EUI.mean() - 2*Com_1.log_EUI.std())) & \\\n",
    "                (Com_1.log_EUI < (Com_1.log_EUI.mean() + 2*Com_1.log_EUI.std()))]\n",
    "Com_2.shape"
   ]
  },
  {
   "cell_type": "code",
   "execution_count": 123,
   "metadata": {
    "collapsed": false
   },
   "outputs": [
    {
     "data": {
      "text/html": [
       "<div>\n",
       "<table border=\"1\" class=\"dataframe\">\n",
       "  <thead>\n",
       "    <tr style=\"text-align: right;\">\n",
       "      <th></th>\n",
       "      <th>Weather Normalized Site Electricity (kWh)</th>\n",
       "      <th>Weather Normalized Source EUI (kBtu/ft²)</th>\n",
       "      <th>BuiltFAR</th>\n",
       "      <th>YearBuilt</th>\n",
       "      <th>DOF Property Floor Area (ft²)</th>\n",
       "      <th>LotType</th>\n",
       "      <th>ProxCode</th>\n",
       "      <th>BBL</th>\n",
       "      <th>Primary Property Type - Self Selected</th>\n",
       "      <th>Zip Code</th>\n",
       "      <th>...</th>\n",
       "      <th>Diesel #2 Use (kBtu)</th>\n",
       "      <th>District Steam Use (kBtu)</th>\n",
       "      <th>District Hot Water Use (kBtu)</th>\n",
       "      <th>District Chilled Water Use (kBtu)</th>\n",
       "      <th>Natural Gas Use (kBtu)</th>\n",
       "      <th>Weather Normalized Site Natural Gas Use (therms)</th>\n",
       "      <th>Electricity Use - Grid Purchase (kBtu)</th>\n",
       "      <th>LotArea</th>\n",
       "      <th>NumFloors</th>\n",
       "      <th>log_EUI</th>\n",
       "    </tr>\n",
       "  </thead>\n",
       "  <tbody>\n",
       "    <tr>\n",
       "      <th>0</th>\n",
       "      <td>52052460.7</td>\n",
       "      <td>300.2</td>\n",
       "      <td>16.95</td>\n",
       "      <td>1969</td>\n",
       "      <td>2542563.0</td>\n",
       "      <td>0.0</td>\n",
       "      <td>0.0</td>\n",
       "      <td>1.000048e+09</td>\n",
       "      <td>Commercial</td>\n",
       "      <td>10004.0</td>\n",
       "      <td>...</td>\n",
       "      <td>Not Available</td>\n",
       "      <td>1.08666e+08</td>\n",
       "      <td>Not Available</td>\n",
       "      <td>Not Available</td>\n",
       "      <td>38618831.6</td>\n",
       "      <td>386188.3</td>\n",
       "      <td>177603017.4</td>\n",
       "      <td>111382</td>\n",
       "      <td>50.0</td>\n",
       "      <td>5.704449</td>\n",
       "    </tr>\n",
       "    <tr>\n",
       "      <th>14</th>\n",
       "      <td>7848693.5</td>\n",
       "      <td>244.4</td>\n",
       "      <td>15.07</td>\n",
       "      <td>1900</td>\n",
       "      <td>434220.0</td>\n",
       "      <td>4.0</td>\n",
       "      <td>3.0</td>\n",
       "      <td>1.000130e+09</td>\n",
       "      <td>Commercial</td>\n",
       "      <td>10004.0</td>\n",
       "      <td>...</td>\n",
       "      <td>Not Available</td>\n",
       "      <td>15338383</td>\n",
       "      <td>Not Available</td>\n",
       "      <td>Not Available</td>\n",
       "      <td>260130.3</td>\n",
       "      <td>2601.3</td>\n",
       "      <td>27440534.3</td>\n",
       "      <td>28814</td>\n",
       "      <td>22.0</td>\n",
       "      <td>5.498806</td>\n",
       "    </tr>\n",
       "    <tr>\n",
       "      <th>42</th>\n",
       "      <td>6579614.6</td>\n",
       "      <td>200.7</td>\n",
       "      <td>25.66</td>\n",
       "      <td>1928</td>\n",
       "      <td>447452.0</td>\n",
       "      <td>5.0</td>\n",
       "      <td>0.0</td>\n",
       "      <td>1.000200e+09</td>\n",
       "      <td>Commercial</td>\n",
       "      <td>10006.0</td>\n",
       "      <td>...</td>\n",
       "      <td>Not Available</td>\n",
       "      <td>1.53504e+07</td>\n",
       "      <td>Not Available</td>\n",
       "      <td>Not Available</td>\n",
       "      <td>336593.0</td>\n",
       "      <td>3365.9</td>\n",
       "      <td>22770645.8</td>\n",
       "      <td>17440</td>\n",
       "      <td>36.0</td>\n",
       "      <td>5.301811</td>\n",
       "    </tr>\n",
       "    <tr>\n",
       "      <th>43</th>\n",
       "      <td>8217323.0</td>\n",
       "      <td>266.2</td>\n",
       "      <td>23.72</td>\n",
       "      <td>1983</td>\n",
       "      <td>368315.0</td>\n",
       "      <td>4.0</td>\n",
       "      <td>3.0</td>\n",
       "      <td>1.000200e+09</td>\n",
       "      <td>Commercial</td>\n",
       "      <td>10006.0</td>\n",
       "      <td>...</td>\n",
       "      <td>Not Available</td>\n",
       "      <td>7.57095e+06</td>\n",
       "      <td>Not Available</td>\n",
       "      <td>Not Available</td>\n",
       "      <td>694948.0</td>\n",
       "      <td>6949.5</td>\n",
       "      <td>28037509.6</td>\n",
       "      <td>15529</td>\n",
       "      <td>33.0</td>\n",
       "      <td>5.584248</td>\n",
       "    </tr>\n",
       "    <tr>\n",
       "      <th>44</th>\n",
       "      <td>6048042.2</td>\n",
       "      <td>202.6</td>\n",
       "      <td>19.68</td>\n",
       "      <td>1983</td>\n",
       "      <td>309381.0</td>\n",
       "      <td>3.0</td>\n",
       "      <td>2.0</td>\n",
       "      <td>1.000200e+09</td>\n",
       "      <td>Commercial</td>\n",
       "      <td>10006.0</td>\n",
       "      <td>...</td>\n",
       "      <td>Not Available</td>\n",
       "      <td>6.9122e+06</td>\n",
       "      <td>Not Available</td>\n",
       "      <td>Not Available</td>\n",
       "      <td>340400.0</td>\n",
       "      <td>3404.0</td>\n",
       "      <td>21053411.9</td>\n",
       "      <td>15722</td>\n",
       "      <td>31.0</td>\n",
       "      <td>5.311234</td>\n",
       "    </tr>\n",
       "  </tbody>\n",
       "</table>\n",
       "<p>5 rows × 25 columns</p>\n",
       "</div>"
      ],
      "text/plain": [
       "    Weather Normalized Site Electricity (kWh)  \\\n",
       "0                                  52052460.7   \n",
       "14                                  7848693.5   \n",
       "42                                  6579614.6   \n",
       "43                                  8217323.0   \n",
       "44                                  6048042.2   \n",
       "\n",
       "    Weather Normalized Source EUI (kBtu/ft²)  BuiltFAR  YearBuilt  \\\n",
       "0                                      300.2     16.95       1969   \n",
       "14                                     244.4     15.07       1900   \n",
       "42                                     200.7     25.66       1928   \n",
       "43                                     266.2     23.72       1983   \n",
       "44                                     202.6     19.68       1983   \n",
       "\n",
       "    DOF Property Floor Area (ft²)  LotType  ProxCode           BBL  \\\n",
       "0                       2542563.0      0.0       0.0  1.000048e+09   \n",
       "14                       434220.0      4.0       3.0  1.000130e+09   \n",
       "42                       447452.0      5.0       0.0  1.000200e+09   \n",
       "43                       368315.0      4.0       3.0  1.000200e+09   \n",
       "44                       309381.0      3.0       2.0  1.000200e+09   \n",
       "\n",
       "   Primary Property Type - Self Selected  Zip Code    ...     \\\n",
       "0                             Commercial   10004.0    ...      \n",
       "14                            Commercial   10004.0    ...      \n",
       "42                            Commercial   10006.0    ...      \n",
       "43                            Commercial   10006.0    ...      \n",
       "44                            Commercial   10006.0    ...      \n",
       "\n",
       "    Diesel #2 Use (kBtu) District Steam Use (kBtu)  \\\n",
       "0          Not Available               1.08666e+08   \n",
       "14         Not Available                  15338383   \n",
       "42         Not Available               1.53504e+07   \n",
       "43         Not Available               7.57095e+06   \n",
       "44         Not Available                6.9122e+06   \n",
       "\n",
       "   District Hot Water Use (kBtu) District Chilled Water Use (kBtu)  \\\n",
       "0                  Not Available                     Not Available   \n",
       "14                 Not Available                     Not Available   \n",
       "42                 Not Available                     Not Available   \n",
       "43                 Not Available                     Not Available   \n",
       "44                 Not Available                     Not Available   \n",
       "\n",
       "   Natural Gas Use (kBtu) Weather Normalized Site Natural Gas Use (therms)  \\\n",
       "0              38618831.6                                         386188.3   \n",
       "14               260130.3                                           2601.3   \n",
       "42               336593.0                                           3365.9   \n",
       "43               694948.0                                           6949.5   \n",
       "44               340400.0                                           3404.0   \n",
       "\n",
       "   Electricity Use - Grid Purchase (kBtu) LotArea NumFloors   log_EUI  \n",
       "0                             177603017.4  111382      50.0  5.704449  \n",
       "14                             27440534.3   28814      22.0  5.498806  \n",
       "42                             22770645.8   17440      36.0  5.301811  \n",
       "43                             28037509.6   15529      33.0  5.584248  \n",
       "44                             21053411.9   15722      31.0  5.311234  \n",
       "\n",
       "[5 rows x 25 columns]"
      ]
     },
     "execution_count": 123,
     "metadata": {},
     "output_type": "execute_result"
    }
   ],
   "source": [
    "Com_2.head()"
   ]
  },
  {
   "cell_type": "code",
   "execution_count": null,
   "metadata": {
    "collapsed": true
   },
   "outputs": [],
   "source": []
  },
  {
   "cell_type": "code",
   "execution_count": 126,
   "metadata": {
    "collapsed": true,
    "deletable": true,
    "editable": true
   },
   "outputs": [],
   "source": [
    "ResD_2.to_csv('cleandf_res.csv', index = False)"
   ]
  },
  {
   "cell_type": "code",
   "execution_count": 125,
   "metadata": {
    "collapsed": true,
    "deletable": true,
    "editable": true
   },
   "outputs": [],
   "source": [
    "Com_2.to_csv('cleandf_com.csv', index = False)"
   ]
  },
  {
   "cell_type": "code",
   "execution_count": null,
   "metadata": {
    "collapsed": true
   },
   "outputs": [],
   "source": []
  }
 ],
 "metadata": {
  "kernelspec": {
   "display_name": "Python 2",
   "language": "python",
   "name": "python2"
  },
  "language_info": {
   "codemirror_mode": {
    "name": "ipython",
    "version": 2
   },
   "file_extension": ".py",
   "mimetype": "text/x-python",
   "name": "python",
   "nbconvert_exporter": "python",
   "pygments_lexer": "ipython2",
   "version": "2.7.13"
  }
 },
 "nbformat": 4,
 "nbformat_minor": 2
}
