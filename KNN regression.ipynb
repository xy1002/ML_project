{
 "cells": [
  {
   "cell_type": "code",
   "execution_count": 1,
   "metadata": {
    "collapsed": true
   },
   "outputs": [],
   "source": [
    "import pandas as pd"
   ]
  },
  {
   "cell_type": "code",
   "execution_count": 166,
   "metadata": {
    "collapsed": true
   },
   "outputs": [],
   "source": [
    "data = pd.read_csv(\"cleandf.csv\")"
   ]
  },
  {
   "cell_type": "code",
   "execution_count": 167,
   "metadata": {
    "collapsed": false
   },
   "outputs": [],
   "source": [
    "#data.head(2)\n",
    "data.dropna(inplace= True)"
   ]
  },
  {
   "cell_type": "code",
   "execution_count": 168,
   "metadata": {
    "collapsed": false
   },
   "outputs": [
    {
     "data": {
      "text/plain": [
       "(7100, 31)"
      ]
     },
     "execution_count": 168,
     "metadata": {},
     "output_type": "execute_result"
    }
   ],
   "source": [
    "data.shape"
   ]
  },
  {
   "cell_type": "code",
   "execution_count": 170,
   "metadata": {
    "collapsed": false
   },
   "outputs": [],
   "source": [
    "#data[\"Weather Normalized Source EUI (kBtu/ft²)\"].nlargest(20)"
   ]
  },
  {
   "cell_type": "code",
   "execution_count": 135,
   "metadata": {
    "collapsed": false
   },
   "outputs": [
    {
     "data": {
      "text/plain": [
       "<matplotlib.collections.PathCollection at 0x11d80e828>"
      ]
     },
     "execution_count": 135,
     "metadata": {},
     "output_type": "execute_result"
    },
    {
     "data": {
      "image/png": "[encoded data removed]",
      "text/plain": [
       "<matplotlib.figure.Figure at 0x11d4af208>"
      ]
     },
     "metadata": {},
     "output_type": "display_data"
    }
   ],
   "source": [
    "#depedent variable\n",
    "Electricity = data[['Weather Normalized Site Electricity (kWh)']]\n",
    "fig = plt.figure(figsize=(12,8))\n",
    "plt.scatter(Electricity.index,Electricity)"
   ]
  },
  {
   "cell_type": "code",
   "execution_count": 172,
   "metadata": {
    "collapsed": false
   },
   "outputs": [
    {
     "data": {
      "text/plain": [
       "1619     3.046183e+09\n",
       "10644    1.392508e+09\n",
       "1436     9.583862e+08\n",
       "10280    4.703747e+08\n",
       "6590     4.305753e+08\n",
       "10276    4.026722e+08\n",
       "10302    2.056902e+08\n",
       "4927     1.932907e+08\n",
       "7844     1.132639e+08\n",
       "0        5.205246e+07\n",
       "Name: Weather Normalized Site Electricity (kWh), dtype: float64"
      ]
     },
     "execution_count": 172,
     "metadata": {},
     "output_type": "execute_result"
    }
   ],
   "source": [
    "data['Weather Normalized Site Electricity (kWh)'].nlargest(10)"
   ]
  },
  {
   "cell_type": "code",
   "execution_count": 136,
   "metadata": {
    "collapsed": false
   },
   "outputs": [
    {
     "data": {
      "text/plain": [
       "<matplotlib.collections.PathCollection at 0x119014320>"
      ]
     },
     "execution_count": 136,
     "metadata": {},
     "output_type": "execute_result"
    },
    {
     "data": {
      "image/png": "[encoded data removed]",
      "text/plain": [
       "<matplotlib.figure.Figure at 0x11d836550>"
      ]
     },
     "metadata": {},
     "output_type": "display_data"
    }
   ],
   "source": [
    "EUI = data[['Weather Normalized Source EUI (kBtu/ft²)']]\n",
    "fig = plt.figure(figsize=(12,8))\n",
    "plt.scatter(EUI.index,EUI)"
   ]
  },
  {
   "cell_type": "code",
   "execution_count": 174,
   "metadata": {
    "collapsed": false
   },
   "outputs": [],
   "source": [
    "#remove outliers\n",
    "data = data[data['Weather Normalized Site Electricity (kWh)']<1000000000]\n",
    "data = data[data['Weather Normalized Source EUI (kBtu/ft²)']<100000]\n",
    "EUI = data[['Weather Normalized Source EUI (kBtu/ft²)']]\n",
    "Electricity = data[['Weather Normalized Site Electricity (kWh)']]"
   ]
  },
  {
   "cell_type": "code",
   "execution_count": 146,
   "metadata": {
    "collapsed": false
   },
   "outputs": [
    {
     "data": {
      "text/plain": [
       "Index(['Weather Normalized Site Electricity (kWh)',\n",
       "       'Weather Normalized Source EUI (kBtu/ft²)', 'BuiltFAR', 'YearBuilt',\n",
       "       'DOF Property Floor Area (ft²)', 'LotType', 'ProxCode', 'BBL',\n",
       "       'Zip Code', 'ENERGY STAR Score', 'Fuel Oil #1 Use (kBtu)',\n",
       "       'Fuel Oil #2 Use (kBtu)', 'Fuel Oil #4 Use (kBtu)',\n",
       "       'Fuel Oil #5 & 6 Use (kBtu)', 'Diesel #2 Use (kBtu)',\n",
       "       'District Steam Use (kBtu)', 'District Hot Water Use (kBtu)',\n",
       "       'District Chilled Water Use (kBtu)', 'Natural Gas Use (kBtu)',\n",
       "       'Weather Normalized Site Natural Gas Use (therms)',\n",
       "       'Electricity Use - Grid Purchase (kBtu)', 'LotArea', 'ComArea',\n",
       "       'ResArea', 'OfficeArea', 'RetailArea', 'GarageArea', 'StrgeArea',\n",
       "       'FactryArea', 'OtherArea', 'NumFloors'],\n",
       "      dtype='object')"
      ]
     },
     "execution_count": 146,
     "metadata": {},
     "output_type": "execute_result"
    }
   ],
   "source": [
    "data.columns"
   ]
  },
  {
   "cell_type": "code",
   "execution_count": 176,
   "metadata": {
    "collapsed": true
   },
   "outputs": [],
   "source": [
    "# remove BLL and zipcode and dependent variable\n",
    "X = data[['BuiltFAR', 'YearBuilt',\n",
    "       'DOF Property Floor Area (ft²)', 'LotType', 'ProxCode', \n",
    "       'ENERGY STAR Score', 'Fuel Oil #1 Use (kBtu)',\n",
    "       'Fuel Oil #2 Use (kBtu)', 'Fuel Oil #4 Use (kBtu)',\n",
    "       'Fuel Oil #5 & 6 Use (kBtu)', 'Diesel #2 Use (kBtu)',\n",
    "       'District Steam Use (kBtu)', 'District Hot Water Use (kBtu)',\n",
    "       'District Chilled Water Use (kBtu)', 'Natural Gas Use (kBtu)',\n",
    "       'Weather Normalized Site Natural Gas Use (therms)',\n",
    "       'Electricity Use - Grid Purchase (kBtu)', 'LotArea', 'ComArea',\n",
    "       'ResArea', 'OfficeArea', 'RetailArea', 'GarageArea', 'StrgeArea',\n",
    "       'FactryArea', 'OtherArea', 'NumFloors']]"
   ]
  },
  {
   "cell_type": "code",
   "execution_count": 177,
   "metadata": {
    "collapsed": false
   },
   "outputs": [
    {
     "name": "stderr",
     "output_type": "stream",
     "text": [
      "/Users/chenhongting/anaconda/lib/python3.6/site-packages/pandas/core/generic.py:3554: SettingWithCopyWarning: \n",
      "A value is trying to be set on a copy of a slice from a DataFrame\n",
      "\n",
      "See the caveats in the documentation: http://pandas.pydata.org/pandas-docs/stable/indexing.html#indexing-view-versus-copy\n",
      "  self._update_inplace(new_data)\n"
     ]
    }
   ],
   "source": [
    "#replace Not Available with zero\n",
    "X['Fuel Oil #1 Use (kBtu)'].replace('Not Available', 0, inplace=True)\n",
    "X['Fuel Oil #2 Use (kBtu)'].replace('Not Available', 0, inplace=True)\n",
    "X['Fuel Oil #4 Use (kBtu)'].replace('Not Available', 0, inplace=True)\n",
    "X['Fuel Oil #5 & 6 Use (kBtu)'].replace('Not Available', 0, inplace=True)\n",
    "X['Diesel #2 Use (kBtu)'].replace('Not Available', 0, inplace=True)\n",
    "X['District Hot Water Use (kBtu)'].replace('Not Available', 0, inplace=True)\n",
    "X['District Chilled Water Use (kBtu)'].replace('Not Available', 0, inplace=True)\n",
    "X['District Steam Use (kBtu)'].replace('Not Available', 0, inplace=True)"
   ]
  },
  {
   "cell_type": "code",
   "execution_count": 149,
   "metadata": {
    "collapsed": true
   },
   "outputs": [],
   "source": [
    "import numpy as np\n",
    "from sklearn import neighbors"
   ]
  },
  {
   "cell_type": "code",
   "execution_count": 150,
   "metadata": {
    "collapsed": true
   },
   "outputs": [],
   "source": [
    "from sklearn.neighbors import KNeighborsRegressor\n",
    "knn = KNeighborsRegressor(n_neighbors=5)"
   ]
  },
  {
   "cell_type": "code",
   "execution_count": 175,
   "metadata": {
    "collapsed": false
   },
   "outputs": [
    {
     "data": {
      "text/plain": [
       "(7089, 1)"
      ]
     },
     "execution_count": 175,
     "metadata": {},
     "output_type": "execute_result"
    }
   ],
   "source": [
    "Electricity.shape"
   ]
  },
  {
   "cell_type": "code",
   "execution_count": 178,
   "metadata": {
    "collapsed": false
   },
   "outputs": [
    {
     "data": {
      "text/plain": [
       "(7089, 27)"
      ]
     },
     "execution_count": 178,
     "metadata": {},
     "output_type": "execute_result"
    }
   ],
   "source": [
    "X.shape"
   ]
  },
  {
   "cell_type": "code",
   "execution_count": 78,
   "metadata": {
    "collapsed": false
   },
   "outputs": [
    {
     "data": {
      "text/plain": [
       "KNeighborsRegressor(algorithm='auto', leaf_size=30, metric='minkowski',\n",
       "          metric_params=None, n_jobs=1, n_neighbors=5, p=2,\n",
       "          weights='uniform')"
      ]
     },
     "execution_count": 78,
     "metadata": {},
     "output_type": "execute_result"
    }
   ],
   "source": [
    "knn.fit(X, Electricity) "
   ]
  },
  {
   "cell_type": "code",
   "execution_count": 179,
   "metadata": {
    "collapsed": false
   },
   "outputs": [],
   "source": [
    "from sklearn.cross_validation import train_test_split"
   ]
  },
  {
   "cell_type": "code",
   "execution_count": 180,
   "metadata": {
    "collapsed": false
   },
   "outputs": [
    {
     "name": "stdout",
     "output_type": "stream",
     "text": [
      "0.954132094172\n"
     ]
    }
   ],
   "source": [
    "OS_knn = []\n",
    "for i in range(20):\n",
    "    X_train, X_test, y_train, y_test = train_test_split(X,\n",
    "                           Electricity, test_size = 0.3, random_state =i)\n",
    "    knn = KNeighborsRegressor(n_neighbors=1)\n",
    "    knn.fit(X_train, y_train) \n",
    "    OS_knn.append(1-((knn.predict(X_test)-y_test)**2).mean()/y_test.var())\n",
    "    \n",
    "print(np.mean(OS_knn))"
   ]
  },
  {
   "cell_type": "code",
   "execution_count": 182,
   "metadata": {
    "collapsed": false
   },
   "outputs": [
    {
     "name": "stdout",
     "output_type": "stream",
     "text": [
      "0.75283264802\n"
     ]
    }
   ],
   "source": [
    "OS_knn = []\n",
    "for i in range(20):\n",
    "    X_train, X_test, y_train, y_test = train_test_split(X,\n",
    "                           EUI, test_size = 0.3, random_state =i)\n",
    "    knn = KNeighborsRegressor(n_neighbors=3)\n",
    "    knn.fit(X_train, y_train) \n",
    "    OS_knn.append(1-((knn.predict(X_test)-y_test)**2).mean()/y_test.var())\n",
    "    \n",
    "print(np.mean(OS_knn))"
   ]
  },
  {
   "cell_type": "code",
   "execution_count": null,
   "metadata": {
    "collapsed": true
   },
   "outputs": [],
   "source": []
  }
 ],
 "metadata": {
  "kernelspec": {
   "display_name": "Python 3",
   "language": "python",
   "name": "python3"
  },
  "language_info": {
   "codemirror_mode": {
    "name": "ipython",
    "version": 3
   },
   "file_extension": ".py",
   "mimetype": "text/x-python",
   "name": "python",
   "nbconvert_exporter": "python",
   "pygments_lexer": "ipython3",
   "version": "3.6.0"
  }
 },
 "nbformat": 4,
 "nbformat_minor": 2
}
