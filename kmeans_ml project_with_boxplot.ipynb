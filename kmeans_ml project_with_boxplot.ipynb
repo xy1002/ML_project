{
 "cells": [
  {
   "cell_type": "code",
   "execution_count": 1,
   "metadata": {
    "collapsed": true
   },
   "outputs": [],
   "source": [
    "import pandas as pd\n",
    "import numpy as np"
   ]
  },
  {
   "cell_type": "code",
   "execution_count": 2,
   "metadata": {
    "collapsed": true
   },
   "outputs": [],
   "source": [
    "data = pd.read_csv(\"cluster_4y.csv\")"
   ]
  },
  {
   "cell_type": "code",
   "execution_count": 3,
   "metadata": {
    "collapsed": false
   },
   "outputs": [
    {
     "data": {
      "text/html": [
       "<div>\n",
       "<table border=\"1\" class=\"dataframe\">\n",
       "  <thead>\n",
       "    <tr style=\"text-align: right;\">\n",
       "      <th></th>\n",
       "      <th>Unnamed: 0</th>\n",
       "      <th>BBL</th>\n",
       "      <th>EUI_16</th>\n",
       "      <th>Score_16</th>\n",
       "      <th>EUI_15</th>\n",
       "      <th>Score_15</th>\n",
       "      <th>EUI_14</th>\n",
       "      <th>Score_14</th>\n",
       "      <th>EUI_13</th>\n",
       "      <th>Score_13</th>\n",
       "    </tr>\n",
       "  </thead>\n",
       "  <tbody>\n",
       "    <tr>\n",
       "      <th>0</th>\n",
       "      <td>0</td>\n",
       "      <td>1.014270e+09</td>\n",
       "      <td>44.5</td>\n",
       "      <td>80.0</td>\n",
       "      <td>195.7</td>\n",
       "      <td>Not Available</td>\n",
       "      <td>172.7</td>\n",
       "      <td>Not Available</td>\n",
       "      <td>180.3</td>\n",
       "      <td>NaN</td>\n",
       "    </tr>\n",
       "    <tr>\n",
       "      <th>1</th>\n",
       "      <td>1</td>\n",
       "      <td>1.015180e+09</td>\n",
       "      <td>90.8</td>\n",
       "      <td>10.0</td>\n",
       "      <td>159.7</td>\n",
       "      <td>Not Available</td>\n",
       "      <td>103.4</td>\n",
       "      <td>Not Available</td>\n",
       "      <td>94.8</td>\n",
       "      <td>NaN</td>\n",
       "    </tr>\n",
       "    <tr>\n",
       "      <th>2</th>\n",
       "      <td>2</td>\n",
       "      <td>1.000048e+09</td>\n",
       "      <td>133.8</td>\n",
       "      <td>71.0</td>\n",
       "      <td>358.8</td>\n",
       "      <td>61</td>\n",
       "      <td>229.5</td>\n",
       "      <td>92</td>\n",
       "      <td>287.9</td>\n",
       "      <td>75</td>\n",
       "    </tr>\n",
       "    <tr>\n",
       "      <th>3</th>\n",
       "      <td>3</td>\n",
       "      <td>1.000058e+09</td>\n",
       "      <td>132.5</td>\n",
       "      <td>71.0</td>\n",
       "      <td>223.5</td>\n",
       "      <td>77</td>\n",
       "      <td>238</td>\n",
       "      <td>73</td>\n",
       "      <td>261.5</td>\n",
       "      <td>70</td>\n",
       "    </tr>\n",
       "    <tr>\n",
       "      <th>4</th>\n",
       "      <td>4</td>\n",
       "      <td>1.000088e+09</td>\n",
       "      <td>139.2</td>\n",
       "      <td>1.0</td>\n",
       "      <td>165</td>\n",
       "      <td>1</td>\n",
       "      <td>205.3</td>\n",
       "      <td>Not Available</td>\n",
       "      <td>163.2</td>\n",
       "      <td>NaN</td>\n",
       "    </tr>\n",
       "  </tbody>\n",
       "</table>\n",
       "</div>"
      ],
      "text/plain": [
       "   Unnamed: 0           BBL  EUI_16  Score_16 EUI_15       Score_15 EUI_14  \\\n",
       "0           0  1.014270e+09    44.5      80.0  195.7  Not Available  172.7   \n",
       "1           1  1.015180e+09    90.8      10.0  159.7  Not Available  103.4   \n",
       "2           2  1.000048e+09   133.8      71.0  358.8             61  229.5   \n",
       "3           3  1.000058e+09   132.5      71.0  223.5             77    238   \n",
       "4           4  1.000088e+09   139.2       1.0    165              1  205.3   \n",
       "\n",
       "        Score_14  EUI_13 Score_13  \n",
       "0  Not Available   180.3      NaN  \n",
       "1  Not Available    94.8      NaN  \n",
       "2             92   287.9       75  \n",
       "3             73   261.5       70  \n",
       "4  Not Available   163.2      NaN  "
      ]
     },
     "execution_count": 3,
     "metadata": {},
     "output_type": "execute_result"
    }
   ],
   "source": [
    "data.head()"
   ]
  },
  {
   "cell_type": "code",
   "execution_count": 4,
   "metadata": {
    "collapsed": false
   },
   "outputs": [],
   "source": [
    "data_day = data[['EUI_16', 'EUI_15', 'EUI_14', 'EUI_13', 'BBL' ]]"
   ]
  },
  {
   "cell_type": "code",
   "execution_count": 5,
   "metadata": {
    "collapsed": true
   },
   "outputs": [],
   "source": [
    "data_normal = data[['EUI_16', 'EUI_15', 'EUI_14', 'EUI_13' ]]"
   ]
  },
  {
   "cell_type": "code",
   "execution_count": 6,
   "metadata": {
    "collapsed": false
   },
   "outputs": [
    {
     "name": "stderr",
     "output_type": "stream",
     "text": [
      "/Users/chenhongting/anaconda/lib/python3.6/site-packages/ipykernel/__main__.py:1: SettingWithCopyWarning: \n",
      "A value is trying to be set on a copy of a slice from a DataFrame\n",
      "\n",
      "See the caveats in the documentation: http://pandas.pydata.org/pandas-docs/stable/indexing.html#indexing-view-versus-copy\n",
      "  if __name__ == '__main__':\n",
      "/Users/chenhongting/anaconda/lib/python3.6/site-packages/ipykernel/__main__.py:2: SettingWithCopyWarning: \n",
      "A value is trying to be set on a copy of a slice from a DataFrame\n",
      "\n",
      "See the caveats in the documentation: http://pandas.pydata.org/pandas-docs/stable/indexing.html#indexing-view-versus-copy\n",
      "  from ipykernel import kernelapp as app\n",
      "/Users/chenhongting/anaconda/lib/python3.6/site-packages/ipykernel/__main__.py:3: SettingWithCopyWarning: \n",
      "A value is trying to be set on a copy of a slice from a DataFrame\n",
      "\n",
      "See the caveats in the documentation: http://pandas.pydata.org/pandas-docs/stable/indexing.html#indexing-view-versus-copy\n",
      "  app.launch_new_instance()\n",
      "/Users/chenhongting/anaconda/lib/python3.6/site-packages/ipykernel/__main__.py:4: FutureWarning: convert_objects is deprecated.  Use the data-type specific converters pd.to_datetime, pd.to_timedelta and pd.to_numeric.\n",
      "/Users/chenhongting/anaconda/lib/python3.6/site-packages/ipykernel/__main__.py:5: UserWarning: Boolean Series key will be reindexed to match DataFrame index.\n"
     ]
    }
   ],
   "source": [
    "data_normal.replace('Not Available', np.nan, inplace=True)\n",
    "data_normal.replace('See Primary BBL', np.nan, inplace=True)\n",
    "data_normal.dropna(inplace = True)\n",
    "data_normal = data_normal.convert_objects(convert_numeric=True)\n",
    "data_normal = data_normal[~(data_day == 0).any(axis=1)]"
   ]
  },
  {
   "cell_type": "code",
   "execution_count": 7,
   "metadata": {
    "collapsed": false
   },
   "outputs": [
    {
     "name": "stderr",
     "output_type": "stream",
     "text": [
      "/Users/chenhongting/anaconda/lib/python3.6/site-packages/ipykernel/__main__.py:1: SettingWithCopyWarning: \n",
      "A value is trying to be set on a copy of a slice from a DataFrame\n",
      "\n",
      "See the caveats in the documentation: http://pandas.pydata.org/pandas-docs/stable/indexing.html#indexing-view-versus-copy\n",
      "  if __name__ == '__main__':\n",
      "/Users/chenhongting/anaconda/lib/python3.6/site-packages/ipykernel/__main__.py:2: SettingWithCopyWarning: \n",
      "A value is trying to be set on a copy of a slice from a DataFrame\n",
      "\n",
      "See the caveats in the documentation: http://pandas.pydata.org/pandas-docs/stable/indexing.html#indexing-view-versus-copy\n",
      "  from ipykernel import kernelapp as app\n"
     ]
    }
   ],
   "source": [
    "data_day.replace('Not Available', np.nan, inplace=True)\n",
    "data_day.replace('See Primary BBL', np.nan, inplace=True)"
   ]
  },
  {
   "cell_type": "code",
   "execution_count": 8,
   "metadata": {
    "collapsed": false
   },
   "outputs": [
    {
     "name": "stderr",
     "output_type": "stream",
     "text": [
      "/Users/chenhongting/anaconda/lib/python3.6/site-packages/ipykernel/__main__.py:1: SettingWithCopyWarning: \n",
      "A value is trying to be set on a copy of a slice from a DataFrame\n",
      "\n",
      "See the caveats in the documentation: http://pandas.pydata.org/pandas-docs/stable/indexing.html#indexing-view-versus-copy\n",
      "  if __name__ == '__main__':\n"
     ]
    }
   ],
   "source": [
    "data_day.dropna(inplace = True)"
   ]
  },
  {
   "cell_type": "code",
   "execution_count": 9,
   "metadata": {
    "collapsed": false
   },
   "outputs": [
    {
     "name": "stderr",
     "output_type": "stream",
     "text": [
      "/Users/chenhongting/anaconda/lib/python3.6/site-packages/ipykernel/__main__.py:1: FutureWarning: convert_objects is deprecated.  Use the data-type specific converters pd.to_datetime, pd.to_timedelta and pd.to_numeric.\n",
      "  if __name__ == '__main__':\n"
     ]
    }
   ],
   "source": [
    "data_day = data_day.convert_objects(convert_numeric=True)\n",
    "#data_day = data_day[(data_day != 0)]"
   ]
  },
  {
   "cell_type": "code",
   "execution_count": 10,
   "metadata": {
    "collapsed": false
   },
   "outputs": [
    {
     "data": {
      "text/plain": [
       "(5487, 5)"
      ]
     },
     "execution_count": 10,
     "metadata": {},
     "output_type": "execute_result"
    }
   ],
   "source": [
    "data_day.shape"
   ]
  },
  {
   "cell_type": "code",
   "execution_count": 11,
   "metadata": {
    "collapsed": false
   },
   "outputs": [
    {
     "data": {
      "text/plain": [
       "EUI_16     5\n",
       "EUI_15     2\n",
       "EUI_14     2\n",
       "EUI_13    17\n",
       "BBL        0\n",
       "dtype: int64"
      ]
     },
     "execution_count": 11,
     "metadata": {},
     "output_type": "execute_result"
    }
   ],
   "source": [
    "data_day[data_day==0].count()"
   ]
  },
  {
   "cell_type": "code",
   "execution_count": 12,
   "metadata": {
    "collapsed": true
   },
   "outputs": [],
   "source": [
    "data_day = data_day[~(data_day == 0).any(axis=1)]"
   ]
  },
  {
   "cell_type": "code",
   "execution_count": 13,
   "metadata": {
    "collapsed": false
   },
   "outputs": [
    {
     "data": {
      "text/plain": [
       "(5466, 5)"
      ]
     },
     "execution_count": 13,
     "metadata": {},
     "output_type": "execute_result"
    }
   ],
   "source": [
    "data_day.shape"
   ]
  },
  {
   "cell_type": "code",
   "execution_count": 14,
   "metadata": {
    "collapsed": false
   },
   "outputs": [],
   "source": [
    "data_day['EUI_16'] = np.log(data_day['EUI_16'].astype('float64'))"
   ]
  },
  {
   "cell_type": "code",
   "execution_count": 15,
   "metadata": {
    "collapsed": false
   },
   "outputs": [],
   "source": [
    "data_day['EUI_15']= np.log(data_day['EUI_15'].astype('float64'))"
   ]
  },
  {
   "cell_type": "code",
   "execution_count": 16,
   "metadata": {
    "collapsed": false
   },
   "outputs": [],
   "source": [
    "data_day['EUI_14'] = np.log(data_day['EUI_14'].astype('float64'))\n",
    "data_day['EUI_13'] = np.log(data_day['EUI_13'].astype('float64'))"
   ]
  },
  {
   "cell_type": "code",
   "execution_count": 17,
   "metadata": {
    "collapsed": true
   },
   "outputs": [],
   "source": [
    "data_day.dropna(inplace = True)"
   ]
  },
  {
   "cell_type": "code",
   "execution_count": 18,
   "metadata": {
    "collapsed": false
   },
   "outputs": [
    {
     "data": {
      "text/plain": [
       "(5466, 5)"
      ]
     },
     "execution_count": 18,
     "metadata": {},
     "output_type": "execute_result"
    }
   ],
   "source": [
    "data_day.shape"
   ]
  },
  {
   "cell_type": "code",
   "execution_count": 19,
   "metadata": {
    "collapsed": false
   },
   "outputs": [],
   "source": [
    "std_16 = data_day['EUI_16'].std()\n",
    "std_15 = data_day['EUI_15'].std()\n",
    "std_14 = data_day['EUI_14'].std()\n",
    "std_13 = data_day['EUI_13'].std()"
   ]
  },
  {
   "cell_type": "code",
   "execution_count": 20,
   "metadata": {
    "collapsed": false
   },
   "outputs": [
    {
     "data": {
      "text/plain": [
       "0.6537455160715985"
      ]
     },
     "execution_count": 20,
     "metadata": {},
     "output_type": "execute_result"
    }
   ],
   "source": [
    "data_day['EUI_15'].std()"
   ]
  },
  {
   "cell_type": "code",
   "execution_count": 21,
   "metadata": {
    "collapsed": false
   },
   "outputs": [],
   "source": [
    "data_=data_day[(data_day['EUI_16']>data_day['EUI_16'].mean()- 2*std_16)&(data_day['EUI_16']<data_day['EUI_16'].mean()+2*std_16)]"
   ]
  },
  {
   "cell_type": "code",
   "execution_count": 22,
   "metadata": {
    "collapsed": false
   },
   "outputs": [
    {
     "data": {
      "text/plain": [
       "(5276, 5)"
      ]
     },
     "execution_count": 22,
     "metadata": {},
     "output_type": "execute_result"
    }
   ],
   "source": [
    "data_.shape"
   ]
  },
  {
   "cell_type": "code",
   "execution_count": 23,
   "metadata": {
    "collapsed": true
   },
   "outputs": [],
   "source": [
    "data_=data_[(data_['EUI_15']>data_day['EUI_15'].mean()- 2*std_15)&(data_['EUI_15']<data_day['EUI_15'].mean()+2*std_15)]"
   ]
  },
  {
   "cell_type": "code",
   "execution_count": 24,
   "metadata": {
    "collapsed": true
   },
   "outputs": [],
   "source": [
    "data_=data_[(data_['EUI_14']>data_day['EUI_14'].mean()- 2*std_14)&(data_['EUI_14']<data_day['EUI_14'].mean()+2*std_14)]"
   ]
  },
  {
   "cell_type": "code",
   "execution_count": 25,
   "metadata": {
    "collapsed": true
   },
   "outputs": [],
   "source": [
    "data_=data_[(data_['EUI_13']>data_day['EUI_13'].mean()- 2*std_13)&(data_['EUI_13']<data_day['EUI_13'].mean()+2*std_13)]"
   ]
  },
  {
   "cell_type": "code",
   "execution_count": 26,
   "metadata": {
    "collapsed": false
   },
   "outputs": [
    {
     "data": {
      "text/html": [
       "<div>\n",
       "<table border=\"1\" class=\"dataframe\">\n",
       "  <thead>\n",
       "    <tr style=\"text-align: right;\">\n",
       "      <th></th>\n",
       "      <th>EUI_16</th>\n",
       "      <th>EUI_15</th>\n",
       "      <th>EUI_14</th>\n",
       "      <th>EUI_13</th>\n",
       "      <th>BBL</th>\n",
       "    </tr>\n",
       "  </thead>\n",
       "  <tbody>\n",
       "    <tr>\n",
       "      <th>0</th>\n",
       "      <td>3.795489</td>\n",
       "      <td>5.276583</td>\n",
       "      <td>5.151556</td>\n",
       "      <td>5.194622</td>\n",
       "      <td>1.014270e+09</td>\n",
       "    </tr>\n",
       "    <tr>\n",
       "      <th>1</th>\n",
       "      <td>4.508659</td>\n",
       "      <td>5.073297</td>\n",
       "      <td>4.638605</td>\n",
       "      <td>4.551769</td>\n",
       "      <td>1.015180e+09</td>\n",
       "    </tr>\n",
       "    <tr>\n",
       "      <th>2</th>\n",
       "      <td>4.896346</td>\n",
       "      <td>5.882765</td>\n",
       "      <td>5.435903</td>\n",
       "      <td>5.662613</td>\n",
       "      <td>1.000048e+09</td>\n",
       "    </tr>\n",
       "    <tr>\n",
       "      <th>3</th>\n",
       "      <td>4.886583</td>\n",
       "      <td>5.409411</td>\n",
       "      <td>5.472271</td>\n",
       "      <td>5.566434</td>\n",
       "      <td>1.000058e+09</td>\n",
       "    </tr>\n",
       "    <tr>\n",
       "      <th>4</th>\n",
       "      <td>4.935912</td>\n",
       "      <td>5.105945</td>\n",
       "      <td>5.324472</td>\n",
       "      <td>5.094976</td>\n",
       "      <td>1.000088e+09</td>\n",
       "    </tr>\n",
       "  </tbody>\n",
       "</table>\n",
       "</div>"
      ],
      "text/plain": [
       "     EUI_16    EUI_15    EUI_14    EUI_13           BBL\n",
       "0  3.795489  5.276583  5.151556  5.194622  1.014270e+09\n",
       "1  4.508659  5.073297  4.638605  4.551769  1.015180e+09\n",
       "2  4.896346  5.882765  5.435903  5.662613  1.000048e+09\n",
       "3  4.886583  5.409411  5.472271  5.566434  1.000058e+09\n",
       "4  4.935912  5.105945  5.324472  5.094976  1.000088e+09"
      ]
     },
     "execution_count": 26,
     "metadata": {},
     "output_type": "execute_result"
    }
   ],
   "source": [
    "data_.head()"
   ]
  },
  {
   "cell_type": "code",
   "execution_count": 27,
   "metadata": {
    "collapsed": true
   },
   "outputs": [],
   "source": [
    "from sklearn.metrics import silhouette_samples, silhouette_score\n",
    "import matplotlib.cm as cm\n",
    "import numpy as np\n",
    "from sklearn.cluster import KMeans"
   ]
  },
  {
   "cell_type": "code",
   "execution_count": 28,
   "metadata": {
    "collapsed": false
   },
   "outputs": [
    {
     "name": "stdout",
     "output_type": "stream",
     "text": [
      "For n_clusters =2, the average silhouette_score is :0.3815893987349585\n",
      "For n_clusters =3, the average silhouette_score is :0.3223237219275407\n",
      "For n_clusters =4, the average silhouette_score is :0.27448050868574647\n",
      "For n_clusters =5, the average silhouette_score is :0.2540113935839685\n"
     ]
    }
   ],
   "source": [
    "X=data_[['EUI_16', 'EUI_15', 'EUI_14', 'EUI_13' ]]\n",
    "range_n_clusters = [2, 3, 4, 5]\n",
    "for n_clusters in range_n_clusters:\n",
    "    km = KMeans(n_clusters=n_clusters, random_state=324)\n",
    "    cluster_labels = km.fit_predict(X)\n",
    "    silhouette_avg = silhouette_score(X, cluster_labels)\n",
    "    print(\"For n_clusters ={},\".format(n_clusters)+\" the average silhouette_score is :{}\".format(silhouette_avg))"
   ]
  },
  {
   "cell_type": "code",
   "execution_count": 29,
   "metadata": {
    "collapsed": false
   },
   "outputs": [
    {
     "name": "stdout",
     "output_type": "stream",
     "text": [
      "[0 1 0 ..., 1 0 1]\n"
     ]
    }
   ],
   "source": [
    "n=2 # number of clusters\n",
    "dd=data_[['EUI_16', 'EUI_15', 'EUI_14', 'EUI_13' ]] #data\n",
    "#tar=y# real target\n",
    "\n",
    "#train the model.\n",
    "km=KMeans(random_state=324,n_clusters=n)\n",
    "res=km.fit(dd)\n",
    "#result.\n",
    "print(res.labels_)\n",
    "# print res.predict(dd)"
   ]
  },
  {
   "cell_type": "code",
   "execution_count": 30,
   "metadata": {
    "collapsed": false
   },
   "outputs": [],
   "source": [
    "rest = []\n",
    "rest = res.labels_"
   ]
  },
  {
   "cell_type": "code",
   "execution_count": 31,
   "metadata": {
    "collapsed": true
   },
   "outputs": [],
   "source": [
    "data_['label'] = rest"
   ]
  },
  {
   "cell_type": "code",
   "execution_count": 32,
   "metadata": {
    "collapsed": false
   },
   "outputs": [
    {
     "data": {
      "text/html": [
       "<div>\n",
       "<table border=\"1\" class=\"dataframe\">\n",
       "  <thead>\n",
       "    <tr style=\"text-align: right;\">\n",
       "      <th></th>\n",
       "      <th>EUI_16</th>\n",
       "      <th>EUI_15</th>\n",
       "      <th>EUI_14</th>\n",
       "      <th>EUI_13</th>\n",
       "      <th>BBL</th>\n",
       "      <th>label</th>\n",
       "    </tr>\n",
       "  </thead>\n",
       "  <tbody>\n",
       "    <tr>\n",
       "      <th>0</th>\n",
       "      <td>3.795489</td>\n",
       "      <td>5.276583</td>\n",
       "      <td>5.151556</td>\n",
       "      <td>5.194622</td>\n",
       "      <td>1.014270e+09</td>\n",
       "      <td>0</td>\n",
       "    </tr>\n",
       "    <tr>\n",
       "      <th>1</th>\n",
       "      <td>4.508659</td>\n",
       "      <td>5.073297</td>\n",
       "      <td>4.638605</td>\n",
       "      <td>4.551769</td>\n",
       "      <td>1.015180e+09</td>\n",
       "      <td>1</td>\n",
       "    </tr>\n",
       "    <tr>\n",
       "      <th>2</th>\n",
       "      <td>4.896346</td>\n",
       "      <td>5.882765</td>\n",
       "      <td>5.435903</td>\n",
       "      <td>5.662613</td>\n",
       "      <td>1.000048e+09</td>\n",
       "      <td>0</td>\n",
       "    </tr>\n",
       "    <tr>\n",
       "      <th>3</th>\n",
       "      <td>4.886583</td>\n",
       "      <td>5.409411</td>\n",
       "      <td>5.472271</td>\n",
       "      <td>5.566434</td>\n",
       "      <td>1.000058e+09</td>\n",
       "      <td>0</td>\n",
       "    </tr>\n",
       "    <tr>\n",
       "      <th>4</th>\n",
       "      <td>4.935912</td>\n",
       "      <td>5.105945</td>\n",
       "      <td>5.324472</td>\n",
       "      <td>5.094976</td>\n",
       "      <td>1.000088e+09</td>\n",
       "      <td>0</td>\n",
       "    </tr>\n",
       "  </tbody>\n",
       "</table>\n",
       "</div>"
      ],
      "text/plain": [
       "     EUI_16    EUI_15    EUI_14    EUI_13           BBL  label\n",
       "0  3.795489  5.276583  5.151556  5.194622  1.014270e+09      0\n",
       "1  4.508659  5.073297  4.638605  4.551769  1.015180e+09      1\n",
       "2  4.896346  5.882765  5.435903  5.662613  1.000048e+09      0\n",
       "3  4.886583  5.409411  5.472271  5.566434  1.000058e+09      0\n",
       "4  4.935912  5.105945  5.324472  5.094976  1.000088e+09      0"
      ]
     },
     "execution_count": 32,
     "metadata": {},
     "output_type": "execute_result"
    }
   ],
   "source": [
    "data_.head()"
   ]
  },
  {
   "cell_type": "code",
   "execution_count": 33,
   "metadata": {
    "collapsed": true
   },
   "outputs": [],
   "source": [
    "data_exp = pd.DataFrame()\n",
    "data_exp['EUI_16'] = np.exp(data_['EUI_16'])"
   ]
  },
  {
   "cell_type": "code",
   "execution_count": 34,
   "metadata": {
    "collapsed": true
   },
   "outputs": [],
   "source": [
    "data_exp['EUI_15'] = np.exp(data_['EUI_15'])\n",
    "data_exp['EUI_14'] = np.exp(data_['EUI_14'])\n",
    "data_exp['EUI_13'] = np.exp(data_['EUI_13'])\n"
   ]
  },
  {
   "cell_type": "code",
   "execution_count": 35,
   "metadata": {
    "collapsed": true
   },
   "outputs": [],
   "source": [
    "data_.to_csv('time_eui_log.csv')"
   ]
  },
  {
   "cell_type": "code",
   "execution_count": 36,
   "metadata": {
    "collapsed": true
   },
   "outputs": [],
   "source": [
    "data_exp.to_csv('time_eui_normal.csv')"
   ]
  },
  {
   "cell_type": "code",
   "execution_count": 37,
   "metadata": {
    "collapsed": false
   },
   "outputs": [
    {
     "data": {
      "text/html": [
       "<div>\n",
       "<table border=\"1\" class=\"dataframe\">\n",
       "  <thead>\n",
       "    <tr style=\"text-align: right;\">\n",
       "      <th></th>\n",
       "      <th>EUI_16</th>\n",
       "      <th>EUI_15</th>\n",
       "      <th>EUI_14</th>\n",
       "      <th>EUI_13</th>\n",
       "      <th>BBL</th>\n",
       "    </tr>\n",
       "    <tr>\n",
       "      <th>label</th>\n",
       "      <th></th>\n",
       "      <th></th>\n",
       "      <th></th>\n",
       "      <th></th>\n",
       "      <th></th>\n",
       "    </tr>\n",
       "  </thead>\n",
       "  <tbody>\n",
       "    <tr>\n",
       "      <th>0</th>\n",
       "      <td>4.629126</td>\n",
       "      <td>5.211202</td>\n",
       "      <td>5.219283</td>\n",
       "      <td>5.232011</td>\n",
       "      <td>1.803316e+09</td>\n",
       "    </tr>\n",
       "    <tr>\n",
       "      <th>1</th>\n",
       "      <td>4.269865</td>\n",
       "      <td>4.684157</td>\n",
       "      <td>4.682549</td>\n",
       "      <td>4.665014</td>\n",
       "      <td>2.251502e+09</td>\n",
       "    </tr>\n",
       "  </tbody>\n",
       "</table>\n",
       "</div>"
      ],
      "text/plain": [
       "         EUI_16    EUI_15    EUI_14    EUI_13           BBL\n",
       "label                                                      \n",
       "0      4.629126  5.211202  5.219283  5.232011  1.803316e+09\n",
       "1      4.269865  4.684157  4.682549  4.665014  2.251502e+09"
      ]
     },
     "execution_count": 37,
     "metadata": {},
     "output_type": "execute_result"
    }
   ],
   "source": [
    "data_.groupby(by=\"label\").mean()"
   ]
  },
  {
   "cell_type": "code",
   "execution_count": 38,
   "metadata": {
    "collapsed": false
   },
   "outputs": [
    {
     "name": "stdout",
     "output_type": "stream",
     "text": [
      "For n_clusters =2, the average silhouette_score is :0.5838685271655162\n",
      "For n_clusters =3, the average silhouette_score is :0.4082474009646534\n",
      "For n_clusters =4, the average silhouette_score is :0.3621702043872908\n",
      "For n_clusters =5, the average silhouette_score is :0.30808508960694075\n"
     ]
    }
   ],
   "source": [
    "# for regular one , not log\n",
    "X=data_exp\n",
    "range_n_clusters = [2, 3, 4, 5]\n",
    "for n_clusters in range_n_clusters:\n",
    "    km = KMeans(n_clusters=n_clusters, random_state=324)\n",
    "    cluster_labels = km.fit_predict(X)\n",
    "    silhouette_avg = silhouette_score(X, cluster_labels)\n",
    "    print(\"For n_clusters ={},\".format(n_clusters)+\" the average silhouette_score is :{}\".format(silhouette_avg))"
   ]
  },
  {
   "cell_type": "code",
   "execution_count": 39,
   "metadata": {
    "collapsed": false
   },
   "outputs": [
    {
     "name": "stdout",
     "output_type": "stream",
     "text": [
      "[1 1 0 ..., 1 0 1]\n"
     ]
    }
   ],
   "source": [
    "n=2 # number of clusters\n",
    "dd=data_exp #data\n",
    "#tar=y# real target\n",
    "\n",
    "#train the model.\n",
    "km=KMeans(random_state=324,n_clusters=n)\n",
    "res=km.fit(dd)\n",
    "#result.\n",
    "print(res.labels_)"
   ]
  },
  {
   "cell_type": "code",
   "execution_count": 40,
   "metadata": {
    "collapsed": true
   },
   "outputs": [],
   "source": [
    "exp_res = []\n",
    "exp_res = res.labels_ "
   ]
  },
  {
   "cell_type": "code",
   "execution_count": 41,
   "metadata": {
    "collapsed": true
   },
   "outputs": [],
   "source": [
    "data_exp['label'] = exp_res"
   ]
  },
  {
   "cell_type": "code",
   "execution_count": 42,
   "metadata": {
    "collapsed": false
   },
   "outputs": [],
   "source": [
    "d = data_exp.groupby(by=\"label\").mean()"
   ]
  },
  {
   "cell_type": "code",
   "execution_count": 43,
   "metadata": {
    "collapsed": false
   },
   "outputs": [],
   "source": [
    " f = data_exp.groupby(by=\"label\").std()"
   ]
  },
  {
   "cell_type": "code",
   "execution_count": 44,
   "metadata": {
    "collapsed": false
   },
   "outputs": [
    {
     "data": {
      "text/html": [
       "<div>\n",
       "<table border=\"1\" class=\"dataframe\">\n",
       "  <thead>\n",
       "    <tr style=\"text-align: right;\">\n",
       "      <th></th>\n",
       "      <th>EUI_16</th>\n",
       "      <th>EUI_15</th>\n",
       "      <th>EUI_14</th>\n",
       "      <th>EUI_13</th>\n",
       "    </tr>\n",
       "    <tr>\n",
       "      <th>label</th>\n",
       "      <th></th>\n",
       "      <th></th>\n",
       "      <th></th>\n",
       "      <th></th>\n",
       "    </tr>\n",
       "  </thead>\n",
       "  <tbody>\n",
       "    <tr>\n",
       "      <th>0</th>\n",
       "      <td>117.601001</td>\n",
       "      <td>235.153949</td>\n",
       "      <td>238.953170</td>\n",
       "      <td>246.461624</td>\n",
       "    </tr>\n",
       "    <tr>\n",
       "      <th>1</th>\n",
       "      <td>80.774541</td>\n",
       "      <td>122.755190</td>\n",
       "      <td>123.039155</td>\n",
       "      <td>122.304868</td>\n",
       "    </tr>\n",
       "  </tbody>\n",
       "</table>\n",
       "</div>"
      ],
      "text/plain": [
       "           EUI_16      EUI_15      EUI_14      EUI_13\n",
       "label                                                \n",
       "0      117.601001  235.153949  238.953170  246.461624\n",
       "1       80.774541  122.755190  123.039155  122.304868"
      ]
     },
     "execution_count": 44,
     "metadata": {},
     "output_type": "execute_result"
    }
   ],
   "source": [
    "data_exp.groupby(by=\"label\").mean()"
   ]
  },
  {
   "cell_type": "code",
   "execution_count": 369,
   "metadata": {
    "collapsed": true
   },
   "outputs": [],
   "source": [
    "data.hist?"
   ]
  },
  {
   "cell_type": "code",
   "execution_count": 371,
   "metadata": {
    "collapsed": false,
    "scrolled": false
   },
   "outputs": [
    {
     "data": {
      "text/plain": [
       "array([[<matplotlib.axes._subplots.AxesSubplot object at 0x12a33d278>,\n",
       "        <matplotlib.axes._subplots.AxesSubplot object at 0x12a7fa2e8>],\n",
       "       [<matplotlib.axes._subplots.AxesSubplot object at 0x12a9b48d0>,\n",
       "        <matplotlib.axes._subplots.AxesSubplot object at 0x12aa08cc0>]], dtype=object)"
      ]
     },
     "execution_count": 371,
     "metadata": {},
     "output_type": "execute_result"
    },
    {
     "data": {
      "image/png": "[encoded data removed]",
      "text/plain": [
       "<matplotlib.figure.Figure at 0x12a764ef0>"
      ]
     },
     "metadata": {},
     "output_type": "display_data"
    }
   ],
   "source": [
    "#plt.title(\"Building Energy Comsumption for 2013-2016\")\n",
    "data = data_exp[['EUI_13','EUI_14','EUI_15','EUI_16']]\n",
    "data.columns = ['EUI Coumsuption for 2012','EUI Coumsuption for 2013',\\\n",
    "               'EUI Coumsuption for 2014','EUI Coumsuption for 2015']\n",
    "data.hist(figsize = (12,8),sharex=True)\n",
    "#plt.title('Building')\n"
   ]
  },
  {
   "cell_type": "code",
   "execution_count": 45,
   "metadata": {
    "collapsed": false
   },
   "outputs": [],
   "source": [
    "s_u = d+f"
   ]
  },
  {
   "cell_type": "code",
   "execution_count": 46,
   "metadata": {
    "collapsed": true
   },
   "outputs": [],
   "source": [
    "s_d = d-f"
   ]
  },
  {
   "cell_type": "code",
   "execution_count": 47,
   "metadata": {
    "collapsed": true
   },
   "outputs": [],
   "source": [
    "s = pd.DataFrame()"
   ]
  },
  {
   "cell_type": "code",
   "execution_count": 48,
   "metadata": {
    "collapsed": false
   },
   "outputs": [],
   "source": [
    "s['std_up_16'] = d['EUI_16']+ f ['EUI_16']\n",
    "s['std_up_15'] = d['EUI_15']+ f ['EUI_15']\n",
    "s['std_up_14'] = d['EUI_14']+ f ['EUI_14']\n",
    "s['std_up_13'] = d['EUI_13']+ f ['EUI_13']"
   ]
  },
  {
   "cell_type": "code",
   "execution_count": 49,
   "metadata": {
    "collapsed": true
   },
   "outputs": [],
   "source": [
    "s['std_down_16'] = d['EUI_16']- f ['EUI_16']\n",
    "s['std_down_15'] = d['EUI_15']- f ['EUI_15']\n",
    "s['std_down_14'] = d['EUI_14']- f ['EUI_14']\n",
    "s['std_down_13'] = d['EUI_13']- f ['EUI_13']"
   ]
  },
  {
   "cell_type": "code",
   "execution_count": 379,
   "metadata": {
    "collapsed": false
   },
   "outputs": [],
   "source": [
    "mean = d[['EUI_13','EUI_14','EUI_15','EUI_16']]\n",
    "mean.columns = ['2012','2013',\\\n",
    "               '2014','2015']"
   ]
  },
  {
   "cell_type": "code",
   "execution_count": 374,
   "metadata": {
    "collapsed": true
   },
   "outputs": [],
   "source": [
    "std_up = s_u[['EUI_13','EUI_14','EUI_15','EUI_16']]\n",
    "std_up.columns = ['2012','2013','2014','2015']\n",
    "std_upt = std_up.T"
   ]
  },
  {
   "cell_type": "code",
   "execution_count": 214,
   "metadata": {
    "collapsed": false
   },
   "outputs": [
    {
     "data": {
      "text/html": [
       "<div>\n",
       "<table border=\"1\" class=\"dataframe\">\n",
       "  <thead>\n",
       "    <tr style=\"text-align: right;\">\n",
       "      <th>label</th>\n",
       "      <th>0</th>\n",
       "      <th>1</th>\n",
       "    </tr>\n",
       "  </thead>\n",
       "  <tbody>\n",
       "    <tr>\n",
       "      <th>2013</th>\n",
       "      <td>324.720446</td>\n",
       "      <td>156.024221</td>\n",
       "    </tr>\n",
       "    <tr>\n",
       "      <th>2014</th>\n",
       "      <td>307.958770</td>\n",
       "      <td>154.870702</td>\n",
       "    </tr>\n",
       "    <tr>\n",
       "      <th>2015</th>\n",
       "      <td>300.200409</td>\n",
       "      <td>153.547870</td>\n",
       "    </tr>\n",
       "    <tr>\n",
       "      <th>2016</th>\n",
       "      <td>158.902604</td>\n",
       "      <td>104.246465</td>\n",
       "    </tr>\n",
       "  </tbody>\n",
       "</table>\n",
       "</div>"
      ],
      "text/plain": [
       "label           0           1\n",
       "2013   324.720446  156.024221\n",
       "2014   307.958770  154.870702\n",
       "2015   300.200409  153.547870\n",
       "2016   158.902604  104.246465"
      ]
     },
     "execution_count": 214,
     "metadata": {},
     "output_type": "execute_result"
    }
   ],
   "source": [
    "std_upt"
   ]
  },
  {
   "cell_type": "code",
   "execution_count": 209,
   "metadata": {
    "collapsed": false
   },
   "outputs": [
    {
     "data": {
      "text/html": [
       "<div>\n",
       "<table border=\"1\" class=\"dataframe\">\n",
       "  <thead>\n",
       "    <tr style=\"text-align: right;\">\n",
       "      <th></th>\n",
       "      <th>EUI_16</th>\n",
       "      <th>EUI_15</th>\n",
       "      <th>EUI_14</th>\n",
       "      <th>EUI_13</th>\n",
       "    </tr>\n",
       "    <tr>\n",
       "      <th>label</th>\n",
       "      <th></th>\n",
       "      <th></th>\n",
       "      <th></th>\n",
       "      <th></th>\n",
       "    </tr>\n",
       "  </thead>\n",
       "  <tbody>\n",
       "    <tr>\n",
       "      <th>0</th>\n",
       "      <td>76.299399</td>\n",
       "      <td>170.107488</td>\n",
       "      <td>169.947571</td>\n",
       "      <td>168.202802</td>\n",
       "    </tr>\n",
       "    <tr>\n",
       "      <th>1</th>\n",
       "      <td>57.302617</td>\n",
       "      <td>91.962509</td>\n",
       "      <td>91.207608</td>\n",
       "      <td>88.585515</td>\n",
       "    </tr>\n",
       "  </tbody>\n",
       "</table>\n",
       "</div>"
      ],
      "text/plain": [
       "          EUI_16      EUI_15      EUI_14      EUI_13\n",
       "label                                               \n",
       "0      76.299399  170.107488  169.947571  168.202802\n",
       "1      57.302617   91.962509   91.207608   88.585515"
      ]
     },
     "execution_count": 209,
     "metadata": {},
     "output_type": "execute_result"
    }
   ],
   "source": [
    "s_d"
   ]
  },
  {
   "cell_type": "code",
   "execution_count": 373,
   "metadata": {
    "collapsed": false
   },
   "outputs": [],
   "source": [
    "std_down = s_d[['EUI_13','EUI_14','EUI_15','EUI_16']]\n",
    "std_down.columns = ['2012','2013','2014','2015']\n",
    "std_downt = std_down.T"
   ]
  },
  {
   "cell_type": "code",
   "execution_count": 216,
   "metadata": {
    "collapsed": false
   },
   "outputs": [
    {
     "data": {
      "text/html": [
       "<div>\n",
       "<table border=\"1\" class=\"dataframe\">\n",
       "  <thead>\n",
       "    <tr style=\"text-align: right;\">\n",
       "      <th>label</th>\n",
       "      <th>0</th>\n",
       "      <th>1</th>\n",
       "    </tr>\n",
       "  </thead>\n",
       "  <tbody>\n",
       "    <tr>\n",
       "      <th>2013</th>\n",
       "      <td>168.202802</td>\n",
       "      <td>88.585515</td>\n",
       "    </tr>\n",
       "    <tr>\n",
       "      <th>2014</th>\n",
       "      <td>169.947571</td>\n",
       "      <td>91.207608</td>\n",
       "    </tr>\n",
       "    <tr>\n",
       "      <th>2015</th>\n",
       "      <td>170.107488</td>\n",
       "      <td>91.962509</td>\n",
       "    </tr>\n",
       "    <tr>\n",
       "      <th>2016</th>\n",
       "      <td>76.299399</td>\n",
       "      <td>57.302617</td>\n",
       "    </tr>\n",
       "  </tbody>\n",
       "</table>\n",
       "</div>"
      ],
      "text/plain": [
       "label           0          1\n",
       "2013   168.202802  88.585515\n",
       "2014   169.947571  91.207608\n",
       "2015   170.107488  91.962509\n",
       "2016    76.299399  57.302617"
      ]
     },
     "execution_count": 216,
     "metadata": {},
     "output_type": "execute_result"
    }
   ],
   "source": [
    "std_downt"
   ]
  },
  {
   "cell_type": "code",
   "execution_count": 380,
   "metadata": {
    "collapsed": false
   },
   "outputs": [
    {
     "data": {
      "text/html": [
       "<div>\n",
       "<table border=\"1\" class=\"dataframe\">\n",
       "  <thead>\n",
       "    <tr style=\"text-align: right;\">\n",
       "      <th>label</th>\n",
       "      <th>0</th>\n",
       "      <th>1</th>\n",
       "    </tr>\n",
       "  </thead>\n",
       "  <tbody>\n",
       "    <tr>\n",
       "      <th>2012</th>\n",
       "      <td>246.461624</td>\n",
       "      <td>122.304868</td>\n",
       "    </tr>\n",
       "    <tr>\n",
       "      <th>2013</th>\n",
       "      <td>238.953170</td>\n",
       "      <td>123.039155</td>\n",
       "    </tr>\n",
       "    <tr>\n",
       "      <th>2014</th>\n",
       "      <td>235.153949</td>\n",
       "      <td>122.755190</td>\n",
       "    </tr>\n",
       "    <tr>\n",
       "      <th>2015</th>\n",
       "      <td>117.601001</td>\n",
       "      <td>80.774541</td>\n",
       "    </tr>\n",
       "  </tbody>\n",
       "</table>\n",
       "</div>"
      ],
      "text/plain": [
       "label           0           1\n",
       "2012   246.461624  122.304868\n",
       "2013   238.953170  123.039155\n",
       "2014   235.153949  122.755190\n",
       "2015   117.601001   80.774541"
      ]
     },
     "execution_count": 380,
     "metadata": {},
     "output_type": "execute_result"
    }
   ],
   "source": [
    "meant = mean.T\n",
    "meant"
   ]
  },
  {
   "cell_type": "code",
   "execution_count": 224,
   "metadata": {
    "collapsed": false
   },
   "outputs": [
    {
     "data": {
      "text/html": [
       "<div>\n",
       "<table border=\"1\" class=\"dataframe\">\n",
       "  <thead>\n",
       "    <tr style=\"text-align: right;\">\n",
       "      <th>label</th>\n",
       "      <th>0</th>\n",
       "      <th>1</th>\n",
       "    </tr>\n",
       "  </thead>\n",
       "  <tbody>\n",
       "    <tr>\n",
       "      <th>2013</th>\n",
       "      <td>324.720446</td>\n",
       "      <td>156.024221</td>\n",
       "    </tr>\n",
       "    <tr>\n",
       "      <th>2014</th>\n",
       "      <td>307.958770</td>\n",
       "      <td>154.870702</td>\n",
       "    </tr>\n",
       "    <tr>\n",
       "      <th>2015</th>\n",
       "      <td>300.200409</td>\n",
       "      <td>153.547870</td>\n",
       "    </tr>\n",
       "    <tr>\n",
       "      <th>2016</th>\n",
       "      <td>158.902604</td>\n",
       "      <td>104.246465</td>\n",
       "    </tr>\n",
       "  </tbody>\n",
       "</table>\n",
       "</div>"
      ],
      "text/plain": [
       "label           0           1\n",
       "2013   324.720446  156.024221\n",
       "2014   307.958770  154.870702\n",
       "2015   300.200409  153.547870\n",
       "2016   158.902604  104.246465"
      ]
     },
     "execution_count": 224,
     "metadata": {},
     "output_type": "execute_result"
    }
   ],
   "source": [
    "std_upt"
   ]
  },
  {
   "cell_type": "code",
   "execution_count": 190,
   "metadata": {
    "collapsed": false
   },
   "outputs": [],
   "source": [
    "std_upt[0] = pd.to_numeric(std_upt[0])\n",
    "std_upt[1] = pd.to_numeric(std_upt[1])"
   ]
  },
  {
   "cell_type": "code",
   "execution_count": 377,
   "metadata": {
    "collapsed": false
   },
   "outputs": [],
   "source": [
    "x = [2012, 2013, 2014, 2015]"
   ]
  },
  {
   "cell_type": "code",
   "execution_count": 238,
   "metadata": {
    "collapsed": false
   },
   "outputs": [
    {
     "data": {
      "text/html": [
       "<div>\n",
       "<table border=\"1\" class=\"dataframe\">\n",
       "  <thead>\n",
       "    <tr style=\"text-align: right;\">\n",
       "      <th>label</th>\n",
       "      <th>0</th>\n",
       "      <th>1</th>\n",
       "    </tr>\n",
       "  </thead>\n",
       "  <tbody>\n",
       "    <tr>\n",
       "      <th>2013</th>\n",
       "      <td>246.461624</td>\n",
       "      <td>122.304868</td>\n",
       "    </tr>\n",
       "    <tr>\n",
       "      <th>2014</th>\n",
       "      <td>238.953170</td>\n",
       "      <td>123.039155</td>\n",
       "    </tr>\n",
       "    <tr>\n",
       "      <th>2015</th>\n",
       "      <td>235.153949</td>\n",
       "      <td>122.755190</td>\n",
       "    </tr>\n",
       "    <tr>\n",
       "      <th>2016</th>\n",
       "      <td>117.601001</td>\n",
       "      <td>80.774541</td>\n",
       "    </tr>\n",
       "  </tbody>\n",
       "</table>\n",
       "</div>"
      ],
      "text/plain": [
       "label           0           1\n",
       "2013   246.461624  122.304868\n",
       "2014   238.953170  123.039155\n",
       "2015   235.153949  122.755190\n",
       "2016   117.601001   80.774541"
      ]
     },
     "execution_count": 238,
     "metadata": {},
     "output_type": "execute_result"
    }
   ],
   "source": [
    "meant"
   ]
  },
  {
   "cell_type": "code",
   "execution_count": 386,
   "metadata": {
    "collapsed": false
   },
   "outputs": [
    {
     "data": {
      "text/plain": [
       "<matplotlib.text.Text at 0x12b863940>"
      ]
     },
     "execution_count": 386,
     "metadata": {},
     "output_type": "execute_result"
    },
    {
     "data": {
      "image/png": "[encoded data removed]",
      "text/plain": [
       "<matplotlib.figure.Figure at 0x12b80cc18>"
      ]
     },
     "metadata": {},
     "output_type": "display_data"
    }
   ],
   "source": [
    "#data.T.plot()\n",
    "fig = plt.figure(figsize = (12,8))\n",
    "plt.plot(meant, marker='o', linestyle='--')\n",
    "\n",
    "plt.fill_between(x,std_upt[0],std_downt[0], alpha = 0.5)\n",
    "plt.fill_between(x,std_upt[1],std_downt[1], alpha = 0.5)\n",
    "\n",
    "\n",
    "plt.ylabel('Average EUI Consumption')\n",
    "plt.xlabel('Year')\n",
    "plt.title('Energy Consumption Comparison for Two Clusters')\n"
   ]
  },
  {
   "cell_type": "code",
   "execution_count": 51,
   "metadata": {
    "collapsed": false
   },
   "outputs": [
    {
     "data": {
      "text/plain": [
       "EUI_16     87.278861\n",
       "EUI_15    142.607151\n",
       "EUI_14    143.511984\n",
       "EUI_13    144.233536\n",
       "label       0.823379\n",
       "dtype: float64"
      ]
     },
     "execution_count": 51,
     "metadata": {},
     "output_type": "execute_result"
    }
   ],
   "source": [
    "X.mean().T"
   ]
  },
  {
   "cell_type": "code",
   "execution_count": 52,
   "metadata": {
    "collapsed": false
   },
   "outputs": [],
   "source": [
    "Mean_real = X[['EUI_16','EUI_15', 'EUI_14', 'EUI_13']]"
   ]
  },
  {
   "cell_type": "code",
   "execution_count": 53,
   "metadata": {
    "collapsed": false
   },
   "outputs": [],
   "source": [
    "import matplotlib.pyplot as plt\n",
    "%matplotlib inline"
   ]
  },
  {
   "cell_type": "code",
   "execution_count": 54,
   "metadata": {
    "collapsed": false
   },
   "outputs": [
    {
     "data": {
      "text/html": [
       "<div>\n",
       "<table border=\"1\" class=\"dataframe\">\n",
       "  <thead>\n",
       "    <tr style=\"text-align: right;\">\n",
       "      <th></th>\n",
       "      <th>EUI_16</th>\n",
       "      <th>EUI_15</th>\n",
       "      <th>EUI_14</th>\n",
       "      <th>EUI_13</th>\n",
       "    </tr>\n",
       "    <tr>\n",
       "      <th>label</th>\n",
       "      <th></th>\n",
       "      <th></th>\n",
       "      <th></th>\n",
       "      <th></th>\n",
       "    </tr>\n",
       "  </thead>\n",
       "  <tbody>\n",
       "    <tr>\n",
       "      <th>0</th>\n",
       "      <td>158.902604</td>\n",
       "      <td>300.200409</td>\n",
       "      <td>307.958770</td>\n",
       "      <td>324.720446</td>\n",
       "    </tr>\n",
       "    <tr>\n",
       "      <th>1</th>\n",
       "      <td>104.246465</td>\n",
       "      <td>153.547870</td>\n",
       "      <td>154.870702</td>\n",
       "      <td>156.024221</td>\n",
       "    </tr>\n",
       "  </tbody>\n",
       "</table>\n",
       "</div>"
      ],
      "text/plain": [
       "           EUI_16      EUI_15      EUI_14      EUI_13\n",
       "label                                                \n",
       "0      158.902604  300.200409  307.958770  324.720446\n",
       "1      104.246465  153.547870  154.870702  156.024221"
      ]
     },
     "execution_count": 54,
     "metadata": {},
     "output_type": "execute_result"
    }
   ],
   "source": [
    "s_u"
   ]
  },
  {
   "cell_type": "code",
   "execution_count": 81,
   "metadata": {
    "collapsed": false
   },
   "outputs": [
    {
     "data": {
      "text/html": [
       "<div>\n",
       "<table border=\"1\" class=\"dataframe\">\n",
       "  <thead>\n",
       "    <tr style=\"text-align: right;\">\n",
       "      <th></th>\n",
       "      <th>EUI_16</th>\n",
       "      <th>EUI_15</th>\n",
       "      <th>EUI_14</th>\n",
       "      <th>EUI_13</th>\n",
       "    </tr>\n",
       "  </thead>\n",
       "  <tbody>\n",
       "    <tr>\n",
       "      <th>0</th>\n",
       "      <td>44.5</td>\n",
       "      <td>195.7</td>\n",
       "      <td>172.7</td>\n",
       "      <td>180.3</td>\n",
       "    </tr>\n",
       "    <tr>\n",
       "      <th>1</th>\n",
       "      <td>90.8</td>\n",
       "      <td>159.7</td>\n",
       "      <td>103.4</td>\n",
       "      <td>94.8</td>\n",
       "    </tr>\n",
       "    <tr>\n",
       "      <th>2</th>\n",
       "      <td>133.8</td>\n",
       "      <td>358.8</td>\n",
       "      <td>229.5</td>\n",
       "      <td>287.9</td>\n",
       "    </tr>\n",
       "    <tr>\n",
       "      <th>3</th>\n",
       "      <td>132.5</td>\n",
       "      <td>223.5</td>\n",
       "      <td>238.0</td>\n",
       "      <td>261.5</td>\n",
       "    </tr>\n",
       "    <tr>\n",
       "      <th>4</th>\n",
       "      <td>139.2</td>\n",
       "      <td>165.0</td>\n",
       "      <td>205.3</td>\n",
       "      <td>163.2</td>\n",
       "    </tr>\n",
       "  </tbody>\n",
       "</table>\n",
       "</div>"
      ],
      "text/plain": [
       "   EUI_16  EUI_15  EUI_14  EUI_13\n",
       "0    44.5   195.7   172.7   180.3\n",
       "1    90.8   159.7   103.4    94.8\n",
       "2   133.8   358.8   229.5   287.9\n",
       "3   132.5   223.5   238.0   261.5\n",
       "4   139.2   165.0   205.3   163.2"
      ]
     },
     "execution_count": 81,
     "metadata": {},
     "output_type": "execute_result"
    }
   ],
   "source": [
    "Mean_real.head()"
   ]
  },
  {
   "cell_type": "code",
   "execution_count": 204,
   "metadata": {
    "collapsed": false
   },
   "outputs": [
    {
     "data": {
      "text/html": [
       "<div>\n",
       "<table border=\"1\" class=\"dataframe\">\n",
       "  <thead>\n",
       "    <tr style=\"text-align: right;\">\n",
       "      <th></th>\n",
       "      <th>EUI_16</th>\n",
       "      <th>EUI_15</th>\n",
       "      <th>EUI_14</th>\n",
       "      <th>EUI_13</th>\n",
       "    </tr>\n",
       "    <tr>\n",
       "      <th>label</th>\n",
       "      <th></th>\n",
       "      <th></th>\n",
       "      <th></th>\n",
       "      <th></th>\n",
       "    </tr>\n",
       "  </thead>\n",
       "  <tbody>\n",
       "    <tr>\n",
       "      <th>0</th>\n",
       "      <td>158.902604</td>\n",
       "      <td>300.200409</td>\n",
       "      <td>307.958770</td>\n",
       "      <td>324.720446</td>\n",
       "    </tr>\n",
       "    <tr>\n",
       "      <th>1</th>\n",
       "      <td>104.246465</td>\n",
       "      <td>153.547870</td>\n",
       "      <td>154.870702</td>\n",
       "      <td>156.024221</td>\n",
       "    </tr>\n",
       "  </tbody>\n",
       "</table>\n",
       "</div>"
      ],
      "text/plain": [
       "           EUI_16      EUI_15      EUI_14      EUI_13\n",
       "label                                                \n",
       "0      158.902604  300.200409  307.958770  324.720446\n",
       "1      104.246465  153.547870  154.870702  156.024221"
      ]
     },
     "execution_count": 204,
     "metadata": {},
     "output_type": "execute_result"
    }
   ],
   "source": [
    "s_u"
   ]
  },
  {
   "cell_type": "code",
   "execution_count": 205,
   "metadata": {
    "collapsed": false
   },
   "outputs": [
    {
     "data": {
      "text/html": [
       "<div>\n",
       "<table border=\"1\" class=\"dataframe\">\n",
       "  <thead>\n",
       "    <tr style=\"text-align: right;\">\n",
       "      <th></th>\n",
       "      <th>EUI_16</th>\n",
       "      <th>EUI_15</th>\n",
       "      <th>EUI_14</th>\n",
       "      <th>EUI_13</th>\n",
       "    </tr>\n",
       "    <tr>\n",
       "      <th>label</th>\n",
       "      <th></th>\n",
       "      <th></th>\n",
       "      <th></th>\n",
       "      <th></th>\n",
       "    </tr>\n",
       "  </thead>\n",
       "  <tbody>\n",
       "    <tr>\n",
       "      <th>0</th>\n",
       "      <td>76.299399</td>\n",
       "      <td>170.107488</td>\n",
       "      <td>169.947571</td>\n",
       "      <td>168.202802</td>\n",
       "    </tr>\n",
       "    <tr>\n",
       "      <th>1</th>\n",
       "      <td>57.302617</td>\n",
       "      <td>91.962509</td>\n",
       "      <td>91.207608</td>\n",
       "      <td>88.585515</td>\n",
       "    </tr>\n",
       "  </tbody>\n",
       "</table>\n",
       "</div>"
      ],
      "text/plain": [
       "          EUI_16      EUI_15      EUI_14      EUI_13\n",
       "label                                               \n",
       "0      76.299399  170.107488  169.947571  168.202802\n",
       "1      57.302617   91.962509   91.207608   88.585515"
      ]
     },
     "execution_count": 205,
     "metadata": {},
     "output_type": "execute_result"
    }
   ],
   "source": [
    "s_d"
   ]
  },
  {
   "cell_type": "code",
   "execution_count": 80,
   "metadata": {
    "collapsed": false
   },
   "outputs": [
    {
     "data": {
      "text/plain": [
       "<matplotlib.text.Text at 0x118b34828>"
      ]
     },
     "execution_count": 80,
     "metadata": {},
     "output_type": "execute_result"
    },
    {
     "data": {
      "image/png": "[encoded data removed]",
      "text/plain": [
       "<matplotlib.figure.Figure at 0x118af7438>"
      ]
     },
     "metadata": {},
     "output_type": "display_data"
    }
   ],
   "source": [
    "\n",
    "#f.T.plot()\n",
    "f, ax = plt.subplots(figsize = (10,10))\n",
    "Mean_real.mean().T.plot(ax = ax,  label='Mean_real', legend = True)\n",
    "d.T.plot(ax = ax, legend = True, label = 'Mean')\n",
    "s_d.T.plot(ax = ax, style='--', label='STD', legend = True)\n",
    "s_u.T.plot(ax = ax, style = '--', label = 'std',legend = True)\n",
    "ax.set_title('Clustering result')\n",
    "ax.set_xlabel('Years')\n",
    "ax.set_ylabel('mean of energy consumption')\n",
    "#plt.plot(f.T,'r')\n"
   ]
  },
  {
   "cell_type": "code",
   "execution_count": 329,
   "metadata": {
    "collapsed": true
   },
   "outputs": [],
   "source": [
    "data_16 = pd.read_csv(\"final_data.csv\")"
   ]
  },
  {
   "cell_type": "code",
   "execution_count": 330,
   "metadata": {
    "collapsed": false
   },
   "outputs": [
    {
     "data": {
      "text/html": [
       "<div>\n",
       "<table border=\"1\" class=\"dataframe\">\n",
       "  <thead>\n",
       "    <tr style=\"text-align: right;\">\n",
       "      <th></th>\n",
       "      <th>Unnamed: 0</th>\n",
       "      <th>BuiltFAR</th>\n",
       "      <th>YearBuilt</th>\n",
       "      <th>DOF Property Floor Area (ft²)</th>\n",
       "      <th>LotType</th>\n",
       "      <th>ProxCode</th>\n",
       "      <th>BBL</th>\n",
       "      <th>Primary Property Type - Self Selected</th>\n",
       "      <th>Zip Code</th>\n",
       "      <th>LotArea</th>\n",
       "      <th>NumFloors</th>\n",
       "      <th>Weather Normalized Site EUI (kBtu/ft²)</th>\n",
       "      <th>Oil</th>\n",
       "      <th>Diesel</th>\n",
       "      <th>Water</th>\n",
       "      <th>Gas</th>\n",
       "      <th>Electricity</th>\n",
       "    </tr>\n",
       "  </thead>\n",
       "  <tbody>\n",
       "    <tr>\n",
       "      <th>0</th>\n",
       "      <td>0</td>\n",
       "      <td>18.67</td>\n",
       "      <td>1985</td>\n",
       "      <td>169061.0</td>\n",
       "      <td>0.0</td>\n",
       "      <td>1.0</td>\n",
       "      <td>1.000088e+09</td>\n",
       "      <td>Residential</td>\n",
       "      <td>10004.0</td>\n",
       "      <td>9053</td>\n",
       "      <td>19.0</td>\n",
       "      <td>139.2</td>\n",
       "      <td>1.0</td>\n",
       "      <td>0.0</td>\n",
       "      <td>0.0</td>\n",
       "      <td>0.0</td>\n",
       "      <td>0.0</td>\n",
       "    </tr>\n",
       "  </tbody>\n",
       "</table>\n",
       "</div>"
      ],
      "text/plain": [
       "   Unnamed: 0  BuiltFAR  YearBuilt  DOF Property Floor Area (ft²)  LotType  \\\n",
       "0           0     18.67       1985                       169061.0      0.0   \n",
       "\n",
       "   ProxCode           BBL Primary Property Type - Self Selected  Zip Code  \\\n",
       "0       1.0  1.000088e+09                           Residential   10004.0   \n",
       "\n",
       "   LotArea  NumFloors  Weather Normalized Site EUI (kBtu/ft²)  Oil  Diesel  \\\n",
       "0     9053       19.0                                   139.2  1.0     0.0   \n",
       "\n",
       "   Water  Gas  Electricity  \n",
       "0    0.0  0.0          0.0  "
      ]
     },
     "execution_count": 330,
     "metadata": {},
     "output_type": "execute_result"
    }
   ],
   "source": [
    "data_16.head(1)"
   ]
  },
  {
   "cell_type": "code",
   "execution_count": 331,
   "metadata": {
    "collapsed": true
   },
   "outputs": [],
   "source": [
    "data_16.rename(columns = {'Weather Normalized Site EUI (kBtu/ft²)':'EUI_16'}, inplace = True)"
   ]
  },
  {
   "cell_type": "code",
   "execution_count": 332,
   "metadata": {
    "collapsed": false
   },
   "outputs": [
    {
     "data": {
      "text/plain": [
       "Index(['Unnamed: 0', 'BuiltFAR', 'YearBuilt', 'DOF Property Floor Area (ft²)',\n",
       "       'LotType', 'ProxCode', 'BBL', 'Primary Property Type - Self Selected',\n",
       "       'Zip Code', 'LotArea', 'NumFloors', 'EUI_16', 'Oil', 'Diesel', 'Water',\n",
       "       'Gas', 'Electricity'],\n",
       "      dtype='object')"
      ]
     },
     "execution_count": 332,
     "metadata": {},
     "output_type": "execute_result"
    }
   ],
   "source": [
    "data_16.columns"
   ]
  },
  {
   "cell_type": "code",
   "execution_count": 335,
   "metadata": {
    "collapsed": false
   },
   "outputs": [
    {
     "data": {
      "text/plain": [
       "(3465, 22)"
      ]
     },
     "execution_count": 335,
     "metadata": {},
     "output_type": "execute_result"
    }
   ],
   "source": [
    "merged.shape"
   ]
  },
  {
   "cell_type": "code",
   "execution_count": 339,
   "metadata": {
    "collapsed": false
   },
   "outputs": [],
   "source": [
    "merged = data_16.merge(data_,on='BBL', how = 'inner')"
   ]
  },
  {
   "cell_type": "code",
   "execution_count": 294,
   "metadata": {
    "collapsed": false
   },
   "outputs": [
    {
     "data": {
      "text/html": [
       "<div>\n",
       "<table border=\"1\" class=\"dataframe\">\n",
       "  <thead>\n",
       "    <tr style=\"text-align: right;\">\n",
       "      <th></th>\n",
       "      <th>Unnamed: 0</th>\n",
       "      <th>BuiltFAR</th>\n",
       "      <th>YearBuilt</th>\n",
       "      <th>DOF Property Floor Area (ft²)</th>\n",
       "      <th>LotType</th>\n",
       "      <th>ProxCode</th>\n",
       "      <th>BBL</th>\n",
       "      <th>Zip Code</th>\n",
       "      <th>LotArea</th>\n",
       "      <th>NumFloors</th>\n",
       "      <th>...</th>\n",
       "      <th>Oil</th>\n",
       "      <th>Diesel</th>\n",
       "      <th>Water</th>\n",
       "      <th>Gas</th>\n",
       "      <th>Electricity</th>\n",
       "      <th>EUI_16_y</th>\n",
       "      <th>EUI_15</th>\n",
       "      <th>EUI_14</th>\n",
       "      <th>EUI_13</th>\n",
       "      <th>label</th>\n",
       "    </tr>\n",
       "    <tr>\n",
       "      <th>Primary Property Type - Self Selected</th>\n",
       "      <th></th>\n",
       "      <th></th>\n",
       "      <th></th>\n",
       "      <th></th>\n",
       "      <th></th>\n",
       "      <th></th>\n",
       "      <th></th>\n",
       "      <th></th>\n",
       "      <th></th>\n",
       "      <th></th>\n",
       "      <th></th>\n",
       "      <th></th>\n",
       "      <th></th>\n",
       "      <th></th>\n",
       "      <th></th>\n",
       "      <th></th>\n",
       "      <th></th>\n",
       "      <th></th>\n",
       "      <th></th>\n",
       "      <th></th>\n",
       "      <th></th>\n",
       "    </tr>\n",
       "  </thead>\n",
       "  <tbody>\n",
       "    <tr>\n",
       "      <th>Commercial</th>\n",
       "      <td>194</td>\n",
       "      <td>194</td>\n",
       "      <td>194</td>\n",
       "      <td>194</td>\n",
       "      <td>194</td>\n",
       "      <td>194</td>\n",
       "      <td>194</td>\n",
       "      <td>194</td>\n",
       "      <td>194</td>\n",
       "      <td>194</td>\n",
       "      <td>...</td>\n",
       "      <td>194</td>\n",
       "      <td>194</td>\n",
       "      <td>194</td>\n",
       "      <td>194</td>\n",
       "      <td>194</td>\n",
       "      <td>194</td>\n",
       "      <td>194</td>\n",
       "      <td>194</td>\n",
       "      <td>194</td>\n",
       "      <td>194</td>\n",
       "    </tr>\n",
       "    <tr>\n",
       "      <th>Residential</th>\n",
       "      <td>997</td>\n",
       "      <td>997</td>\n",
       "      <td>997</td>\n",
       "      <td>997</td>\n",
       "      <td>997</td>\n",
       "      <td>997</td>\n",
       "      <td>997</td>\n",
       "      <td>997</td>\n",
       "      <td>997</td>\n",
       "      <td>997</td>\n",
       "      <td>...</td>\n",
       "      <td>997</td>\n",
       "      <td>997</td>\n",
       "      <td>997</td>\n",
       "      <td>997</td>\n",
       "      <td>997</td>\n",
       "      <td>997</td>\n",
       "      <td>997</td>\n",
       "      <td>997</td>\n",
       "      <td>997</td>\n",
       "      <td>997</td>\n",
       "    </tr>\n",
       "  </tbody>\n",
       "</table>\n",
       "<p>2 rows × 21 columns</p>\n",
       "</div>"
      ],
      "text/plain": [
       "                                       Unnamed: 0  BuiltFAR  YearBuilt  \\\n",
       "Primary Property Type - Self Selected                                    \n",
       "Commercial                                    194       194        194   \n",
       "Residential                                   997       997        997   \n",
       "\n",
       "                                       DOF Property Floor Area (ft²)  LotType  \\\n",
       "Primary Property Type - Self Selected                                           \n",
       "Commercial                                                       194      194   \n",
       "Residential                                                      997      997   \n",
       "\n",
       "                                       ProxCode  BBL  Zip Code  LotArea  \\\n",
       "Primary Property Type - Self Selected                                     \n",
       "Commercial                                  194  194       194      194   \n",
       "Residential                                 997  997       997      997   \n",
       "\n",
       "                                       NumFloors  ...    Oil  Diesel  Water  \\\n",
       "Primary Property Type - Self Selected             ...                         \n",
       "Commercial                                   194  ...    194     194    194   \n",
       "Residential                                  997  ...    997     997    997   \n",
       "\n",
       "                                       Gas  Electricity  EUI_16_y  EUI_15  \\\n",
       "Primary Property Type - Self Selected                                       \n",
       "Commercial                             194          194       194     194   \n",
       "Residential                            997          997       997     997   \n",
       "\n",
       "                                       EUI_14  EUI_13  label  \n",
       "Primary Property Type - Self Selected                         \n",
       "Commercial                                194     194    194  \n",
       "Residential                               997     997    997  \n",
       "\n",
       "[2 rows x 21 columns]"
      ]
     },
     "execution_count": 294,
     "metadata": {},
     "output_type": "execute_result"
    }
   ],
   "source": [
    "merged[merged.label==0].groupby(by='Primary Property Type - Self Selected').count()"
   ]
  },
  {
   "cell_type": "code",
   "execution_count": 295,
   "metadata": {
    "collapsed": false
   },
   "outputs": [
    {
     "data": {
      "text/html": [
       "<div>\n",
       "<table border=\"1\" class=\"dataframe\">\n",
       "  <thead>\n",
       "    <tr style=\"text-align: right;\">\n",
       "      <th></th>\n",
       "      <th>Unnamed: 0</th>\n",
       "      <th>BuiltFAR</th>\n",
       "      <th>YearBuilt</th>\n",
       "      <th>DOF Property Floor Area (ft²)</th>\n",
       "      <th>LotType</th>\n",
       "      <th>ProxCode</th>\n",
       "      <th>BBL</th>\n",
       "      <th>Zip Code</th>\n",
       "      <th>LotArea</th>\n",
       "      <th>NumFloors</th>\n",
       "      <th>...</th>\n",
       "      <th>Oil</th>\n",
       "      <th>Diesel</th>\n",
       "      <th>Water</th>\n",
       "      <th>Gas</th>\n",
       "      <th>Electricity</th>\n",
       "      <th>EUI_16_y</th>\n",
       "      <th>EUI_15</th>\n",
       "      <th>EUI_14</th>\n",
       "      <th>EUI_13</th>\n",
       "      <th>label</th>\n",
       "    </tr>\n",
       "    <tr>\n",
       "      <th>Primary Property Type - Self Selected</th>\n",
       "      <th></th>\n",
       "      <th></th>\n",
       "      <th></th>\n",
       "      <th></th>\n",
       "      <th></th>\n",
       "      <th></th>\n",
       "      <th></th>\n",
       "      <th></th>\n",
       "      <th></th>\n",
       "      <th></th>\n",
       "      <th></th>\n",
       "      <th></th>\n",
       "      <th></th>\n",
       "      <th></th>\n",
       "      <th></th>\n",
       "      <th></th>\n",
       "      <th></th>\n",
       "      <th></th>\n",
       "      <th></th>\n",
       "      <th></th>\n",
       "      <th></th>\n",
       "    </tr>\n",
       "  </thead>\n",
       "  <tbody>\n",
       "    <tr>\n",
       "      <th>Commercial</th>\n",
       "      <td>61</td>\n",
       "      <td>61</td>\n",
       "      <td>61</td>\n",
       "      <td>61</td>\n",
       "      <td>61</td>\n",
       "      <td>61</td>\n",
       "      <td>61</td>\n",
       "      <td>61</td>\n",
       "      <td>61</td>\n",
       "      <td>61</td>\n",
       "      <td>...</td>\n",
       "      <td>61</td>\n",
       "      <td>61</td>\n",
       "      <td>61</td>\n",
       "      <td>61</td>\n",
       "      <td>61</td>\n",
       "      <td>61</td>\n",
       "      <td>61</td>\n",
       "      <td>61</td>\n",
       "      <td>61</td>\n",
       "      <td>61</td>\n",
       "    </tr>\n",
       "    <tr>\n",
       "      <th>Residential</th>\n",
       "      <td>2213</td>\n",
       "      <td>2213</td>\n",
       "      <td>2213</td>\n",
       "      <td>2213</td>\n",
       "      <td>2213</td>\n",
       "      <td>2213</td>\n",
       "      <td>2213</td>\n",
       "      <td>2213</td>\n",
       "      <td>2213</td>\n",
       "      <td>2213</td>\n",
       "      <td>...</td>\n",
       "      <td>2213</td>\n",
       "      <td>2213</td>\n",
       "      <td>2213</td>\n",
       "      <td>2213</td>\n",
       "      <td>2213</td>\n",
       "      <td>2213</td>\n",
       "      <td>2213</td>\n",
       "      <td>2213</td>\n",
       "      <td>2213</td>\n",
       "      <td>2213</td>\n",
       "    </tr>\n",
       "  </tbody>\n",
       "</table>\n",
       "<p>2 rows × 21 columns</p>\n",
       "</div>"
      ],
      "text/plain": [
       "                                       Unnamed: 0  BuiltFAR  YearBuilt  \\\n",
       "Primary Property Type - Self Selected                                    \n",
       "Commercial                                     61        61         61   \n",
       "Residential                                  2213      2213       2213   \n",
       "\n",
       "                                       DOF Property Floor Area (ft²)  LotType  \\\n",
       "Primary Property Type - Self Selected                                           \n",
       "Commercial                                                        61       61   \n",
       "Residential                                                     2213     2213   \n",
       "\n",
       "                                       ProxCode   BBL  Zip Code  LotArea  \\\n",
       "Primary Property Type - Self Selected                                      \n",
       "Commercial                                   61    61        61       61   \n",
       "Residential                                2213  2213      2213     2213   \n",
       "\n",
       "                                       NumFloors  ...     Oil  Diesel  Water  \\\n",
       "Primary Property Type - Self Selected             ...                          \n",
       "Commercial                                    61  ...      61      61     61   \n",
       "Residential                                 2213  ...    2213    2213   2213   \n",
       "\n",
       "                                        Gas  Electricity  EUI_16_y  EUI_15  \\\n",
       "Primary Property Type - Self Selected                                        \n",
       "Commercial                               61           61        61      61   \n",
       "Residential                            2213         2213      2213    2213   \n",
       "\n",
       "                                       EUI_14  EUI_13  label  \n",
       "Primary Property Type - Self Selected                         \n",
       "Commercial                                 61      61     61  \n",
       "Residential                              2213    2213   2213  \n",
       "\n",
       "[2 rows x 21 columns]"
      ]
     },
     "execution_count": 295,
     "metadata": {},
     "output_type": "execute_result"
    }
   ],
   "source": [
    "merged[merged.label==1].groupby(by='Primary Property Type - Self Selected').count()"
   ]
  },
  {
   "cell_type": "code",
   "execution_count": 62,
   "metadata": {
    "collapsed": false
   },
   "outputs": [
    {
     "data": {
      "text/plain": [
       "Index(['Unnamed: 0', 'BuiltFAR', 'YearBuilt', 'DOF Property Floor Area (ft²)',\n",
       "       'LotType', 'ProxCode', 'BBL', 'Primary Property Type - Self Selected',\n",
       "       'Zip Code', 'LotArea', 'NumFloors', 'EUI_16_x', 'Oil', 'Diesel',\n",
       "       'Water', 'Gas', 'Electricity', 'EUI_16_y', 'EUI_15', 'EUI_14', 'EUI_13',\n",
       "       'label'],\n",
       "      dtype='object')"
      ]
     },
     "execution_count": 62,
     "metadata": {},
     "output_type": "execute_result"
    }
   ],
   "source": [
    "merged.columns"
   ]
  },
  {
   "cell_type": "code",
   "execution_count": 63,
   "metadata": {
    "collapsed": false
   },
   "outputs": [
    {
     "data": {
      "text/plain": [
       "(3465, 22)"
      ]
     },
     "execution_count": 63,
     "metadata": {},
     "output_type": "execute_result"
    }
   ],
   "source": [
    "merged.shape"
   ]
  },
  {
   "cell_type": "code",
   "execution_count": 64,
   "metadata": {
    "collapsed": false
   },
   "outputs": [],
   "source": [
    "year_built = data_16['YearBuilt'].mean()\n",
    "floor_area = data_16['DOF Property Floor Area (ft²)'].mean()\n",
    "lot_area = data_16['LotArea'].mean()\n",
    "num_floor = data_16['NumFloors'].mean()"
   ]
  },
  {
   "cell_type": "code",
   "execution_count": 65,
   "metadata": {
    "collapsed": true
   },
   "outputs": [],
   "source": [
    "meant = pd.DataFrame()"
   ]
  },
  {
   "cell_type": "code",
   "execution_count": 66,
   "metadata": {
    "collapsed": false
   },
   "outputs": [],
   "source": [
    "meant['YearBuilt'] = data_16['YearBuilt'].mean()\n",
    "meant['DOF Property Floor Area (ft²)'] = data_16['DOF Property Floor Area (ft²)'].mean()\n",
    "meant['LotArea'] = data_16['LotArea'].mean()\n",
    "meant['NumFloors'] = data_16['NumFloors'].mean()\n",
    "meant['BuiltFAR'] = data_16['BuiltFAR'].mean()"
   ]
  },
  {
   "cell_type": "code",
   "execution_count": 67,
   "metadata": {
    "collapsed": false
   },
   "outputs": [
    {
     "data": {
      "text/plain": [
       "Series([], Name: BuiltFAR, dtype: float64)"
      ]
     },
     "execution_count": 67,
     "metadata": {},
     "output_type": "execute_result"
    }
   ],
   "source": [
    "meant['BuiltFAR']"
   ]
  },
  {
   "cell_type": "code",
   "execution_count": 68,
   "metadata": {
    "collapsed": true
   },
   "outputs": [],
   "source": [
    "year_built_std = data_16['YearBuilt'].std()\n",
    "floor_area_std = data_16['DOF Property Floor Area (ft²)'].std()\n",
    "lot_area_std = data_16['LotArea'].std()\n",
    "num_floor_std = data_16['NumFloors'].std()"
   ]
  },
  {
   "cell_type": "code",
   "execution_count": 69,
   "metadata": {
    "collapsed": false
   },
   "outputs": [],
   "source": [
    "merge_data = merged.groupby(by=\"label\").mean()"
   ]
  },
  {
   "cell_type": "code",
   "execution_count": 310,
   "metadata": {
    "collapsed": false
   },
   "outputs": [
    {
     "data": {
      "text/html": [
       "<div>\n",
       "<table border=\"1\" class=\"dataframe\">\n",
       "  <thead>\n",
       "    <tr style=\"text-align: right;\">\n",
       "      <th></th>\n",
       "      <th>Unnamed: 0</th>\n",
       "      <th>BuiltFAR</th>\n",
       "      <th>YearBuilt</th>\n",
       "      <th>DOF Property Floor Area (ft²)</th>\n",
       "      <th>LotType</th>\n",
       "      <th>ProxCode</th>\n",
       "      <th>BBL</th>\n",
       "      <th>Zip Code</th>\n",
       "      <th>LotArea</th>\n",
       "      <th>NumFloors</th>\n",
       "      <th>EUI_16_x</th>\n",
       "      <th>Oil</th>\n",
       "      <th>Diesel</th>\n",
       "      <th>Water</th>\n",
       "      <th>Gas</th>\n",
       "      <th>Electricity</th>\n",
       "      <th>EUI_16_y</th>\n",
       "      <th>EUI_15</th>\n",
       "      <th>EUI_14</th>\n",
       "      <th>EUI_13</th>\n",
       "    </tr>\n",
       "    <tr>\n",
       "      <th>label</th>\n",
       "      <th></th>\n",
       "      <th></th>\n",
       "      <th></th>\n",
       "      <th></th>\n",
       "      <th></th>\n",
       "      <th></th>\n",
       "      <th></th>\n",
       "      <th></th>\n",
       "      <th></th>\n",
       "      <th></th>\n",
       "      <th></th>\n",
       "      <th></th>\n",
       "      <th></th>\n",
       "      <th></th>\n",
       "      <th></th>\n",
       "      <th></th>\n",
       "      <th></th>\n",
       "      <th></th>\n",
       "      <th></th>\n",
       "      <th></th>\n",
       "    </tr>\n",
       "  </thead>\n",
       "  <tbody>\n",
       "    <tr>\n",
       "      <th>0</th>\n",
       "      <td>3077.654072</td>\n",
       "      <td>9.303636</td>\n",
       "      <td>1953.632242</td>\n",
       "      <td>203909.889169</td>\n",
       "      <td>3.564232</td>\n",
       "      <td>0.759026</td>\n",
       "      <td>1.965946e+09</td>\n",
       "      <td>10479.452561</td>\n",
       "      <td>43740.611251</td>\n",
       "      <td>13.496641</td>\n",
       "      <td>106.640134</td>\n",
       "      <td>0.138539</td>\n",
       "      <td>0.0</td>\n",
       "      <td>0.040302</td>\n",
       "      <td>0.579345</td>\n",
       "      <td>0.193955</td>\n",
       "      <td>4.631238</td>\n",
       "      <td>5.158520</td>\n",
       "      <td>5.164923</td>\n",
       "      <td>5.180913</td>\n",
       "    </tr>\n",
       "    <tr>\n",
       "      <th>1</th>\n",
       "      <td>2982.934037</td>\n",
       "      <td>5.553597</td>\n",
       "      <td>1947.578716</td>\n",
       "      <td>120994.605541</td>\n",
       "      <td>3.868953</td>\n",
       "      <td>0.694371</td>\n",
       "      <td>2.417381e+09</td>\n",
       "      <td>10709.934477</td>\n",
       "      <td>32717.630607</td>\n",
       "      <td>9.017590</td>\n",
       "      <td>76.646966</td>\n",
       "      <td>0.178980</td>\n",
       "      <td>0.0</td>\n",
       "      <td>0.014952</td>\n",
       "      <td>0.730871</td>\n",
       "      <td>0.057608</td>\n",
       "      <td>4.306416</td>\n",
       "      <td>4.682682</td>\n",
       "      <td>4.686598</td>\n",
       "      <td>4.669853</td>\n",
       "    </tr>\n",
       "  </tbody>\n",
       "</table>\n",
       "</div>"
      ],
      "text/plain": [
       "        Unnamed: 0  BuiltFAR    YearBuilt  DOF Property Floor Area (ft²)  \\\n",
       "label                                                                      \n",
       "0      3077.654072  9.303636  1953.632242                  203909.889169   \n",
       "1      2982.934037  5.553597  1947.578716                  120994.605541   \n",
       "\n",
       "        LotType  ProxCode           BBL      Zip Code       LotArea  \\\n",
       "label                                                                 \n",
       "0      3.564232  0.759026  1.965946e+09  10479.452561  43740.611251   \n",
       "1      3.868953  0.694371  2.417381e+09  10709.934477  32717.630607   \n",
       "\n",
       "       NumFloors    EUI_16_x       Oil  Diesel     Water       Gas  \\\n",
       "label                                                                \n",
       "0      13.496641  106.640134  0.138539     0.0  0.040302  0.579345   \n",
       "1       9.017590   76.646966  0.178980     0.0  0.014952  0.730871   \n",
       "\n",
       "       Electricity  EUI_16_y    EUI_15    EUI_14    EUI_13  \n",
       "label                                                       \n",
       "0         0.193955  4.631238  5.158520  5.164923  5.180913  \n",
       "1         0.057608  4.306416  4.682682  4.686598  4.669853  "
      ]
     },
     "execution_count": 310,
     "metadata": {},
     "output_type": "execute_result"
    }
   ],
   "source": [
    "merge_data"
   ]
  },
  {
   "cell_type": "code",
   "execution_count": 71,
   "metadata": {
    "collapsed": false
   },
   "outputs": [
    {
     "data": {
      "text/plain": [
       "label\n",
       "0    9.303636\n",
       "1    5.553597\n",
       "Name: BuiltFAR, dtype: float64"
      ]
     },
     "execution_count": 71,
     "metadata": {},
     "output_type": "execute_result"
    }
   ],
   "source": [
    "merge_data['BuiltFAR']"
   ]
  },
  {
   "cell_type": "code",
   "execution_count": 72,
   "metadata": {
    "collapsed": false
   },
   "outputs": [],
   "source": [
    "merge_data_n = merge_data[['BuiltFAR', 'YearBuilt','DOF Property Floor Area (ft²)','NumFloors', 'LotArea']]"
   ]
  },
  {
   "cell_type": "code",
   "execution_count": 240,
   "metadata": {
    "collapsed": false
   },
   "outputs": [
    {
     "data": {
      "text/html": [
       "<div>\n",
       "<table border=\"1\" class=\"dataframe\">\n",
       "  <thead>\n",
       "    <tr style=\"text-align: right;\">\n",
       "      <th></th>\n",
       "      <th>BuiltFAR</th>\n",
       "      <th>YearBuilt</th>\n",
       "      <th>DOF Property Floor Area (ft²)</th>\n",
       "      <th>NumFloors</th>\n",
       "      <th>LotArea</th>\n",
       "    </tr>\n",
       "    <tr>\n",
       "      <th>label</th>\n",
       "      <th></th>\n",
       "      <th></th>\n",
       "      <th></th>\n",
       "      <th></th>\n",
       "      <th></th>\n",
       "    </tr>\n",
       "  </thead>\n",
       "  <tbody>\n",
       "    <tr>\n",
       "      <th>0</th>\n",
       "      <td>9.303636</td>\n",
       "      <td>1953.632242</td>\n",
       "      <td>203909.889169</td>\n",
       "      <td>13.496641</td>\n",
       "      <td>43740.611251</td>\n",
       "    </tr>\n",
       "    <tr>\n",
       "      <th>1</th>\n",
       "      <td>5.553597</td>\n",
       "      <td>1947.578716</td>\n",
       "      <td>120994.605541</td>\n",
       "      <td>9.017590</td>\n",
       "      <td>32717.630607</td>\n",
       "    </tr>\n",
       "  </tbody>\n",
       "</table>\n",
       "</div>"
      ],
      "text/plain": [
       "       BuiltFAR    YearBuilt  DOF Property Floor Area (ft²)  NumFloors  \\\n",
       "label                                                                    \n",
       "0      9.303636  1953.632242                  203909.889169  13.496641   \n",
       "1      5.553597  1947.578716                  120994.605541   9.017590   \n",
       "\n",
       "            LotArea  \n",
       "label                \n",
       "0      43740.611251  \n",
       "1      32717.630607  "
      ]
     },
     "execution_count": 240,
     "metadata": {},
     "output_type": "execute_result"
    }
   ],
   "source": [
    "merge_data_n.head()"
   ]
  },
  {
   "cell_type": "code",
   "execution_count": 241,
   "metadata": {
    "collapsed": false
   },
   "outputs": [
    {
     "data": {
      "text/html": [
       "<div>\n",
       "<table border=\"1\" class=\"dataframe\">\n",
       "  <thead>\n",
       "    <tr style=\"text-align: right;\">\n",
       "      <th></th>\n",
       "      <th>Unnamed: 0</th>\n",
       "      <th>BuiltFAR</th>\n",
       "      <th>YearBuilt</th>\n",
       "      <th>DOF Property Floor Area (ft²)</th>\n",
       "      <th>LotType</th>\n",
       "      <th>ProxCode</th>\n",
       "      <th>BBL</th>\n",
       "      <th>Primary Property Type - Self Selected</th>\n",
       "      <th>Zip Code</th>\n",
       "      <th>LotArea</th>\n",
       "      <th>NumFloors</th>\n",
       "      <th>EUI_16</th>\n",
       "      <th>Oil</th>\n",
       "      <th>Diesel</th>\n",
       "      <th>Water</th>\n",
       "      <th>Gas</th>\n",
       "      <th>Electricity</th>\n",
       "    </tr>\n",
       "  </thead>\n",
       "  <tbody>\n",
       "    <tr>\n",
       "      <th>0</th>\n",
       "      <td>0</td>\n",
       "      <td>18.67</td>\n",
       "      <td>1985</td>\n",
       "      <td>169061.0</td>\n",
       "      <td>0.0</td>\n",
       "      <td>1.0</td>\n",
       "      <td>1.000088e+09</td>\n",
       "      <td>Residential</td>\n",
       "      <td>10004.0</td>\n",
       "      <td>9053</td>\n",
       "      <td>19.0</td>\n",
       "      <td>139.2</td>\n",
       "      <td>1.0</td>\n",
       "      <td>0.0</td>\n",
       "      <td>0.0</td>\n",
       "      <td>0.0</td>\n",
       "      <td>0.0</td>\n",
       "    </tr>\n",
       "  </tbody>\n",
       "</table>\n",
       "</div>"
      ],
      "text/plain": [
       "   Unnamed: 0  BuiltFAR  YearBuilt  DOF Property Floor Area (ft²)  LotType  \\\n",
       "0           0     18.67       1985                       169061.0      0.0   \n",
       "\n",
       "   ProxCode           BBL Primary Property Type - Self Selected  Zip Code  \\\n",
       "0       1.0  1.000088e+09                           Residential   10004.0   \n",
       "\n",
       "   LotArea  NumFloors  EUI_16  Oil  Diesel  Water  Gas  Electricity  \n",
       "0     9053       19.0   139.2  1.0     0.0    0.0  0.0          0.0  "
      ]
     },
     "execution_count": 241,
     "metadata": {},
     "output_type": "execute_result"
    }
   ],
   "source": [
    "data_16.head(1)"
   ]
  },
  {
   "cell_type": "code",
   "execution_count": 287,
   "metadata": {
    "collapsed": false
   },
   "outputs": [],
   "source": [
    "data_ori = data_16[['BuiltFAR','YearBuilt','DOF Property Floor Area (ft²)','NumFloors','LotArea']]"
   ]
  },
  {
   "cell_type": "code",
   "execution_count": 288,
   "metadata": {
    "collapsed": false
   },
   "outputs": [
    {
     "data": {
      "text/plain": [
       "(6412, 5)"
      ]
     },
     "execution_count": 288,
     "metadata": {},
     "output_type": "execute_result"
    }
   ],
   "source": [
    "data_ori.shape"
   ]
  },
  {
   "cell_type": "code",
   "execution_count": 277,
   "metadata": {
    "collapsed": false
   },
   "outputs": [
    {
     "data": {
      "text/html": [
       "<div>\n",
       "<table border=\"1\" class=\"dataframe\">\n",
       "  <thead>\n",
       "    <tr style=\"text-align: right;\">\n",
       "      <th></th>\n",
       "      <th>BuiltFAR</th>\n",
       "      <th>YearBuilt</th>\n",
       "      <th>DOF Property Floor Area (ft²)</th>\n",
       "      <th>NumFloors</th>\n",
       "      <th>LotArea</th>\n",
       "    </tr>\n",
       "  </thead>\n",
       "  <tbody>\n",
       "    <tr>\n",
       "      <th>1641</th>\n",
       "      <td>5.07</td>\n",
       "      <td>2013</td>\n",
       "      <td>130228.0</td>\n",
       "      <td>0.0</td>\n",
       "      <td>25669</td>\n",
       "    </tr>\n",
       "    <tr>\n",
       "      <th>2374</th>\n",
       "      <td>4.79</td>\n",
       "      <td>2013</td>\n",
       "      <td>186779.0</td>\n",
       "      <td>0.0</td>\n",
       "      <td>38983</td>\n",
       "    </tr>\n",
       "    <tr>\n",
       "      <th>4050</th>\n",
       "      <td>5.21</td>\n",
       "      <td>2014</td>\n",
       "      <td>157074.0</td>\n",
       "      <td>0.0</td>\n",
       "      <td>30165</td>\n",
       "    </tr>\n",
       "  </tbody>\n",
       "</table>\n",
       "</div>"
      ],
      "text/plain": [
       "      BuiltFAR  YearBuilt  DOF Property Floor Area (ft²)  NumFloors  LotArea\n",
       "1641      5.07       2013                       130228.0        0.0    25669\n",
       "2374      4.79       2013                       186779.0        0.0    38983\n",
       "4050      5.21       2014                       157074.0        0.0    30165"
      ]
     },
     "execution_count": 277,
     "metadata": {},
     "output_type": "execute_result"
    }
   ],
   "source": [
    "data_ori[data_ori['NumFloors'] <=0 ]"
   ]
  },
  {
   "cell_type": "code",
   "execution_count": 289,
   "metadata": {
    "collapsed": false
   },
   "outputs": [
    {
     "name": "stderr",
     "output_type": "stream",
     "text": [
      "/Users/chenhongting/anaconda/lib/python3.6/site-packages/ipykernel/__main__.py:1: SettingWithCopyWarning: \n",
      "A value is trying to be set on a copy of a slice from a DataFrame\n",
      "\n",
      "See the caveats in the documentation: http://pandas.pydata.org/pandas-docs/stable/indexing.html#indexing-view-versus-copy\n",
      "  if __name__ == '__main__':\n",
      "/Users/chenhongting/anaconda/lib/python3.6/site-packages/ipykernel/__main__.py:2: SettingWithCopyWarning: \n",
      "A value is trying to be set on a copy of a slice from a DataFrame\n",
      "\n",
      "See the caveats in the documentation: http://pandas.pydata.org/pandas-docs/stable/indexing.html#indexing-view-versus-copy\n",
      "  from ipykernel import kernelapp as app\n",
      "/Users/chenhongting/anaconda/lib/python3.6/site-packages/ipykernel/__main__.py:3: SettingWithCopyWarning: \n",
      "A value is trying to be set on a copy of a slice from a DataFrame\n",
      "\n",
      "See the caveats in the documentation: http://pandas.pydata.org/pandas-docs/stable/indexing.html#indexing-view-versus-copy\n",
      "  app.launch_new_instance()\n",
      "/Users/chenhongting/anaconda/lib/python3.6/site-packages/ipykernel/__main__.py:4: SettingWithCopyWarning: \n",
      "A value is trying to be set on a copy of a slice from a DataFrame\n",
      "\n",
      "See the caveats in the documentation: http://pandas.pydata.org/pandas-docs/stable/indexing.html#indexing-view-versus-copy\n"
     ]
    }
   ],
   "source": [
    "data_ori.drop(4496, axis = 0,inplace = True)\n",
    "data_ori.drop(1641, axis = 0,inplace = True)\n",
    "data_ori.drop(2374, axis = 0,inplace = True)\n",
    "data_ori.drop(4050, axis = 0,inplace = True)"
   ]
  },
  {
   "cell_type": "code",
   "execution_count": 283,
   "metadata": {
    "collapsed": false
   },
   "outputs": [],
   "source": [
    "data_ori_log = data_ori.applymap(lambda x: np.log(x))"
   ]
  },
  {
   "cell_type": "code",
   "execution_count": null,
   "metadata": {
    "collapsed": true
   },
   "outputs": [],
   "source": []
  },
  {
   "cell_type": "code",
   "execution_count": null,
   "metadata": {
    "collapsed": true
   },
   "outputs": [],
   "source": []
  },
  {
   "cell_type": "code",
   "execution_count": 340,
   "metadata": {
    "collapsed": false
   },
   "outputs": [],
   "source": [
    "merged = merged.drop(['Unnamed: 0'], axis = 1)"
   ]
  },
  {
   "cell_type": "code",
   "execution_count": 341,
   "metadata": {
    "collapsed": false
   },
   "outputs": [],
   "source": [
    "merged = merged[['BuiltFAR','YearBuilt','DOF Property Floor Area (ft²)','NumFloors','LotArea','label']]"
   ]
  },
  {
   "cell_type": "code",
   "execution_count": 338,
   "metadata": {
    "collapsed": false
   },
   "outputs": [
    {
     "name": "stderr",
     "output_type": "stream",
     "text": [
      "/Users/chenhongting/anaconda/lib/python3.6/site-packages/ipykernel/__main__.py:1: RuntimeWarning: divide by zero encountered in log\n",
      "  if __name__ == '__main__':\n"
     ]
    }
   ],
   "source": [
    "#merged = merged.applymap(lambda x: np.log(x))"
   ]
  },
  {
   "cell_type": "code",
   "execution_count": 342,
   "metadata": {
    "collapsed": false
   },
   "outputs": [],
   "source": [
    "merged_0 = merged[merged['label'] == 0]\n",
    "merged_1 = merged[merged['label'] == 1]"
   ]
  },
  {
   "cell_type": "code",
   "execution_count": 382,
   "metadata": {
    "collapsed": false
   },
   "outputs": [
    {
     "data": {
      "text/plain": [
       "(1191, 6)"
      ]
     },
     "execution_count": 382,
     "metadata": {},
     "output_type": "execute_result"
    }
   ],
   "source": [
    "merged_0.shape"
   ]
  },
  {
   "cell_type": "code",
   "execution_count": 383,
   "metadata": {
    "collapsed": false
   },
   "outputs": [
    {
     "data": {
      "text/plain": [
       "(2274, 6)"
      ]
     },
     "execution_count": 383,
     "metadata": {},
     "output_type": "execute_result"
    }
   ],
   "source": [
    "merged_1.shape"
   ]
  },
  {
   "cell_type": "code",
   "execution_count": 343,
   "metadata": {
    "collapsed": false
   },
   "outputs": [
    {
     "data": {
      "text/html": [
       "<div>\n",
       "<table border=\"1\" class=\"dataframe\">\n",
       "  <thead>\n",
       "    <tr style=\"text-align: right;\">\n",
       "      <th></th>\n",
       "      <th>BuiltFAR</th>\n",
       "      <th>YearBuilt</th>\n",
       "      <th>DOF Property Floor Area (ft²)</th>\n",
       "      <th>NumFloors</th>\n",
       "      <th>LotArea</th>\n",
       "      <th>label</th>\n",
       "    </tr>\n",
       "  </thead>\n",
       "  <tbody>\n",
       "    <tr>\n",
       "      <th>0</th>\n",
       "      <td>18.67</td>\n",
       "      <td>1985</td>\n",
       "      <td>169061.0</td>\n",
       "      <td>19.0</td>\n",
       "      <td>9053</td>\n",
       "      <td>0</td>\n",
       "    </tr>\n",
       "    <tr>\n",
       "      <th>1</th>\n",
       "      <td>4.31</td>\n",
       "      <td>1988</td>\n",
       "      <td>237270.0</td>\n",
       "      <td>9.0</td>\n",
       "      <td>45203</td>\n",
       "      <td>0</td>\n",
       "    </tr>\n",
       "    <tr>\n",
       "      <th>2</th>\n",
       "      <td>5.28</td>\n",
       "      <td>1990</td>\n",
       "      <td>189273.0</td>\n",
       "      <td>9.0</td>\n",
       "      <td>29850</td>\n",
       "      <td>0</td>\n",
       "    </tr>\n",
       "    <tr>\n",
       "      <th>3</th>\n",
       "      <td>16.61</td>\n",
       "      <td>2006</td>\n",
       "      <td>434680.0</td>\n",
       "      <td>35.0</td>\n",
       "      <td>20763</td>\n",
       "      <td>0</td>\n",
       "    </tr>\n",
       "    <tr>\n",
       "      <th>5</th>\n",
       "      <td>11.71</td>\n",
       "      <td>2008</td>\n",
       "      <td>425407.0</td>\n",
       "      <td>32.0</td>\n",
       "      <td>32218</td>\n",
       "      <td>0</td>\n",
       "    </tr>\n",
       "  </tbody>\n",
       "</table>\n",
       "</div>"
      ],
      "text/plain": [
       "   BuiltFAR  YearBuilt  DOF Property Floor Area (ft²)  NumFloors  LotArea  \\\n",
       "0     18.67       1985                       169061.0       19.0     9053   \n",
       "1      4.31       1988                       237270.0        9.0    45203   \n",
       "2      5.28       1990                       189273.0        9.0    29850   \n",
       "3     16.61       2006                       434680.0       35.0    20763   \n",
       "5     11.71       2008                       425407.0       32.0    32218   \n",
       "\n",
       "   label  \n",
       "0      0  \n",
       "1      0  \n",
       "2      0  \n",
       "3      0  \n",
       "5      0  "
      ]
     },
     "execution_count": 343,
     "metadata": {},
     "output_type": "execute_result"
    }
   ],
   "source": [
    "merged_0.head()"
   ]
  },
  {
   "cell_type": "code",
   "execution_count": 344,
   "metadata": {
    "collapsed": false
   },
   "outputs": [
    {
     "name": "stderr",
     "output_type": "stream",
     "text": [
      "/Users/chenhongting/anaconda/lib/python3.6/site-packages/ipykernel/__main__.py:1: RuntimeWarning: divide by zero encountered in log\n",
      "  if __name__ == '__main__':\n"
     ]
    }
   ],
   "source": [
    "merged_0_log = merged_0.applymap(lambda x: np.log(x))\n",
    "merged_1_log = merged_1.applymap(lambda x: np.log(x))"
   ]
  },
  {
   "cell_type": "code",
   "execution_count": null,
   "metadata": {
    "collapsed": true
   },
   "outputs": [],
   "source": []
  },
  {
   "cell_type": "code",
   "execution_count": null,
   "metadata": {
    "collapsed": true
   },
   "outputs": [],
   "source": []
  },
  {
   "cell_type": "code",
   "execution_count": 349,
   "metadata": {
    "collapsed": true
   },
   "outputs": [],
   "source": [
    "#data_to_plot = [data_ori_log['BuiltFAR'],data_ori_log['YearBuilt'],\\\n",
    " #               data_ori_log['DOF Property Floor Area (ft²)'],\\\n",
    "#              data_ori_log['NumFloors'],data_ori_log['LotArea']]\n",
    "\n",
    "BuiltFAR_to_plot = [data_ori_log['BuiltFAR'],merged_0_log['BuiltFAR'],\\\n",
    "               merged_1_log['BuiltFAR']]\n",
    "YearBuilt_to_plot = [data_ori_log['YearBuilt'],merged_0_log['YearBuilt'],\\\n",
    "               merged_1_log['YearBuilt']]\n",
    "FloorArea_to_plot = [data_ori_log['DOF Property Floor Area (ft²)'],\\\n",
    "                     merged_0_log['DOF Property Floor Area (ft²)'],\\\n",
    "               merged_1_log['DOF Property Floor Area (ft²)']]\n",
    "NumFloors_to_plot = [data_ori_log['NumFloors'],merged_0_log['NumFloors'],\\\n",
    "               merged_1_log['NumFloors']]\n",
    "LotArea_to_plot = [data_ori_log['LotArea'],merged_0_log['LotArea'],\\\n",
    "               merged_1_log['LotArea']]"
   ]
  },
  {
   "cell_type": "code",
   "execution_count": null,
   "metadata": {
    "collapsed": true
   },
   "outputs": [],
   "source": []
  },
  {
   "cell_type": "code",
   "execution_count": 364,
   "metadata": {
    "collapsed": false,
    "scrolled": false
   },
   "outputs": [
    {
     "data": {
      "text/plain": [
       "<matplotlib.text.Text at 0x1274bfeb8>"
      ]
     },
     "execution_count": 364,
     "metadata": {},
     "output_type": "execute_result"
    },
    {
     "data": {
      "image/png": "[encoded data removed]",
      "text/plain": [
       "<matplotlib.figure.Figure at 0x128efb5f8>"
      ]
     },
     "metadata": {},
     "output_type": "display_data"
    }
   ],
   "source": [
    "# Create a figure instance\n",
    "fig = plt.figure(1, figsize=(9, 6))\n",
    "\n",
    "# Create an axes instance\n",
    "ax = fig.add_subplot(111)\n",
    "\n",
    "# Create the boxplot\n",
    "bp = ax.boxplot(BuiltFAR_to_plot)\n",
    "\n",
    "# Save the figure\n",
    "fig.savefig('fig1.png', bbox_inches='tight')\n",
    "bp = ax.boxplot(BuiltFAR_to_plot, patch_artist=True)\n",
    "\n",
    "## change outline color, fill color and linewidth of the boxes\n",
    "for box in bp['boxes']:\n",
    "    # change outline color\n",
    "    box.set( color='#7570b3', linewidth=2)\n",
    "    # change fill color\n",
    "    box.set( facecolor = '#1b9e77' )\n",
    "\n",
    "## change color and linewidth of the whiskers\n",
    "for whisker in bp['whiskers']:\n",
    "    whisker.set(color='#7570b3', linewidth=2)\n",
    "\n",
    "## change color and linewidth of the caps\n",
    "for cap in bp['caps']:\n",
    "    cap.set(color='#7570b3', linewidth=2)\n",
    "\n",
    "## change color and linewidth of the medians\n",
    "for median in bp['medians']:\n",
    "    median.set(color='#b2df8a', linewidth=2)\n",
    "\n",
    "## change the style of fliers and their fill\n",
    "for flier in bp['fliers']:\n",
    "    flier.set(marker='o', color='#e7298a', alpha=0.5)\n",
    "    \n",
    "ax.set_xticklabels(['all', 'cluster0', 'cluster1'])\n",
    "ax.set_title('Log BuiltFAR Comparison')"
   ]
  },
  {
   "cell_type": "code",
   "execution_count": 365,
   "metadata": {
    "collapsed": false
   },
   "outputs": [
    {
     "data": {
      "text/plain": [
       "<matplotlib.text.Text at 0x1293aeeb8>"
      ]
     },
     "execution_count": 365,
     "metadata": {},
     "output_type": "execute_result"
    },
    {
     "data": {
      "image/png": "[encoded data removed]",
      "text/plain": [
       "<matplotlib.figure.Figure at 0x1276756d8>"
      ]
     },
     "metadata": {},
     "output_type": "display_data"
    }
   ],
   "source": [
    "# Create a figure instance\n",
    "fig = plt.figure(1, figsize=(9, 6))\n",
    "\n",
    "# Create an axes instance\n",
    "ax = fig.add_subplot(111)\n",
    "\n",
    "# Create the boxplot\n",
    "bp = ax.boxplot(YearBuilt_to_plot)\n",
    "\n",
    "# Save the figure\n",
    "fig.savefig('fig1.png', bbox_inches='tight')\n",
    "bp = ax.boxplot(YearBuilt_to_plot, patch_artist=True)\n",
    "\n",
    "## change outline color, fill color and linewidth of the boxes\n",
    "for box in bp['boxes']:\n",
    "    # change outline color\n",
    "    box.set( color='#7570b3', linewidth=2)\n",
    "    # change fill color\n",
    "    box.set( facecolor = '#1b9e77' )\n",
    "\n",
    "## change color and linewidth of the whiskers\n",
    "for whisker in bp['whiskers']:\n",
    "    whisker.set(color='#7570b3', linewidth=2)\n",
    "\n",
    "## change color and linewidth of the caps\n",
    "for cap in bp['caps']:\n",
    "    cap.set(color='#7570b3', linewidth=2)\n",
    "\n",
    "## change color and linewidth of the medians\n",
    "for median in bp['medians']:\n",
    "    median.set(color='#b2df8a', linewidth=2)\n",
    "\n",
    "## change the style of fliers and their fill\n",
    "for flier in bp['fliers']:\n",
    "    flier.set(marker='o', color='#e7298a', alpha=0.5)\n",
    "    \n",
    "ax.set_xticklabels(['all', 'cluster0', 'cluster1'])\n",
    "ax.set_title('Log YearBuilt Comparison')"
   ]
  },
  {
   "cell_type": "code",
   "execution_count": 366,
   "metadata": {
    "collapsed": false
   },
   "outputs": [
    {
     "data": {
      "text/plain": [
       "<matplotlib.text.Text at 0x12742e6d8>"
      ]
     },
     "execution_count": 366,
     "metadata": {},
     "output_type": "execute_result"
    },
    {
     "data": {
      "image/png": "[encoded data removed]",
      "text/plain": [
       "<matplotlib.figure.Figure at 0x127c1db70>"
      ]
     },
     "metadata": {},
     "output_type": "display_data"
    }
   ],
   "source": [
    "# Create a figure instance\n",
    "fig = plt.figure(1, figsize=(9, 6))\n",
    "\n",
    "# Create an axes instance\n",
    "ax = fig.add_subplot(111)\n",
    "\n",
    "# Create the boxplot\n",
    "bp = ax.boxplot(FloorArea_to_plot)\n",
    "\n",
    "# Save the figure\n",
    "fig.savefig('fig1.png', bbox_inches='tight')\n",
    "bp = ax.boxplot(FloorArea_to_plot, patch_artist=True)\n",
    "\n",
    "## change outline color, fill color and linewidth of the boxes\n",
    "for box in bp['boxes']:\n",
    "    # change outline color\n",
    "    box.set( color='#7570b3', linewidth=2)\n",
    "    # change fill color\n",
    "    box.set( facecolor = '#1b9e77' )\n",
    "\n",
    "## change color and linewidth of the whiskers\n",
    "for whisker in bp['whiskers']:\n",
    "    whisker.set(color='#7570b3', linewidth=2)\n",
    "\n",
    "## change color and linewidth of the caps\n",
    "for cap in bp['caps']:\n",
    "    cap.set(color='#7570b3', linewidth=2)\n",
    "\n",
    "## change color and linewidth of the medians\n",
    "for median in bp['medians']:\n",
    "    median.set(color='#b2df8a', linewidth=2)\n",
    "\n",
    "## change the style of fliers and their fill\n",
    "for flier in bp['fliers']:\n",
    "    flier.set(marker='o', color='#e7298a', alpha=0.5)\n",
    "    \n",
    "ax.set_xticklabels(['all', 'cluster0', 'cluster1'])\n",
    "ax.set_title('Log FloorArea Comparison')"
   ]
  },
  {
   "cell_type": "code",
   "execution_count": 367,
   "metadata": {
    "collapsed": false
   },
   "outputs": [
    {
     "data": {
      "text/plain": [
       "<matplotlib.text.Text at 0x12930c320>"
      ]
     },
     "execution_count": 367,
     "metadata": {},
     "output_type": "execute_result"
    },
    {
     "data": {
      "image/png": "[encoded data removed]",
      "text/plain": [
       "<matplotlib.figure.Figure at 0x12744e080>"
      ]
     },
     "metadata": {},
     "output_type": "display_data"
    }
   ],
   "source": [
    "# Create a figure instance\n",
    "fig = plt.figure(1, figsize=(9, 6))\n",
    "\n",
    "# Create an axes instance\n",
    "ax = fig.add_subplot(111)\n",
    "\n",
    "# Create the boxplot\n",
    "bp = ax.boxplot(NumFloors_to_plot)\n",
    "\n",
    "# Save the figure\n",
    "fig.savefig('fig1.png', bbox_inches='tight')\n",
    "bp = ax.boxplot(NumFloors_to_plot, patch_artist=True)\n",
    "\n",
    "## change outline color, fill color and linewidth of the boxes\n",
    "for box in bp['boxes']:\n",
    "    # change outline color\n",
    "    box.set( color='#7570b3', linewidth=2)\n",
    "    # change fill color\n",
    "    box.set( facecolor = '#1b9e77' )\n",
    "\n",
    "## change color and linewidth of the whiskers\n",
    "for whisker in bp['whiskers']:\n",
    "    whisker.set(color='#7570b3', linewidth=2)\n",
    "\n",
    "## change color and linewidth of the caps\n",
    "for cap in bp['caps']:\n",
    "    cap.set(color='#7570b3', linewidth=2)\n",
    "\n",
    "## change color and linewidth of the medians\n",
    "for median in bp['medians']:\n",
    "    median.set(color='#b2df8a', linewidth=2)\n",
    "\n",
    "## change the style of fliers and their fill\n",
    "for flier in bp['fliers']:\n",
    "    flier.set(marker='o', color='#e7298a', alpha=0.5)\n",
    "    \n",
    "ax.set_xticklabels(['all', 'cluster0', 'cluster1'])\n",
    "ax.set_title('Log NumFloors Comparison')"
   ]
  },
  {
   "cell_type": "code",
   "execution_count": 368,
   "metadata": {
    "collapsed": false
   },
   "outputs": [
    {
     "data": {
      "text/plain": [
       "<matplotlib.text.Text at 0x12a0a2278>"
      ]
     },
     "execution_count": 368,
     "metadata": {},
     "output_type": "execute_result"
    },
    {
     "data": {
      "image/png": "[encoded data removed]",
      "text/plain": [
       "<matplotlib.figure.Figure at 0x129fa0908>"
      ]
     },
     "metadata": {},
     "output_type": "display_data"
    }
   ],
   "source": [
    "# Create a figure instance\n",
    "fig = plt.figure(1, figsize=(9, 6))\n",
    "\n",
    "# Create an axes instance\n",
    "ax = fig.add_subplot(111)\n",
    "\n",
    "# Create the boxplot\n",
    "bp = ax.boxplot(LotArea_to_plot)\n",
    "\n",
    "# Save the figure\n",
    "fig.savefig('fig1.png', bbox_inches='tight')\n",
    "bp = ax.boxplot(LotArea_to_plot, patch_artist=True)\n",
    "\n",
    "## change outline color, fill color and linewidth of the boxes\n",
    "for box in bp['boxes']:\n",
    "    # change outline color\n",
    "    box.set( color='#7570b3', linewidth=2)\n",
    "    # change fill color\n",
    "    box.set( facecolor = '#1b9e77' )\n",
    "\n",
    "## change color and linewidth of the whiskers\n",
    "for whisker in bp['whiskers']:\n",
    "    whisker.set(color='#7570b3', linewidth=2)\n",
    "\n",
    "## change color and linewidth of the caps\n",
    "for cap in bp['caps']:\n",
    "    cap.set(color='#7570b3', linewidth=2)\n",
    "\n",
    "## change color and linewidth of the medians\n",
    "for median in bp['medians']:\n",
    "    median.set(color='#b2df8a', linewidth=2)\n",
    "\n",
    "## change the style of fliers and their fill\n",
    "for flier in bp['fliers']:\n",
    "    flier.set(marker='o', color='#e7298a', alpha=0.5)\n",
    "    \n",
    "ax.set_xticklabels(['all', 'cluster0', 'cluster1'])\n",
    "ax.set_title('Log LotArea Comparison')"
   ]
  },
  {
   "cell_type": "code",
   "execution_count": null,
   "metadata": {
    "collapsed": true
   },
   "outputs": [],
   "source": []
  },
  {
   "cell_type": "code",
   "execution_count": null,
   "metadata": {
    "collapsed": true
   },
   "outputs": [],
   "source": []
  },
  {
   "cell_type": "code",
   "execution_count": 290,
   "metadata": {
    "collapsed": false
   },
   "outputs": [
    {
     "data": {
      "text/plain": [
       "BuiltFAR                              6.796582\n",
       "YearBuilt                          1948.051966\n",
       "DOF Property Floor Area (ft²)    147911.946005\n",
       "NumFloors                            10.220740\n",
       "LotArea                           36892.806336\n",
       "dtype: float64"
      ]
     },
     "execution_count": 290,
     "metadata": {},
     "output_type": "execute_result"
    }
   ],
   "source": [
    "data_ori_log.mean()"
   ]
  },
  {
   "cell_type": "code",
   "execution_count": 292,
   "metadata": {
    "collapsed": false
   },
   "outputs": [
    {
     "data": {
      "text/plain": [
       "BuiltFAR                         0.722481\n",
       "YearBuilt                        0.014840\n",
       "DOF Property Floor Area (ft²)    0.673293\n",
       "NumFloors                        0.595188\n",
       "LotArea                          0.853603\n",
       "dtype: float64"
      ]
     },
     "execution_count": 292,
     "metadata": {},
     "output_type": "execute_result"
    }
   ],
   "source": [
    "data_ori_log.std()"
   ]
  },
  {
   "cell_type": "code",
   "execution_count": 293,
   "metadata": {
    "collapsed": false
   },
   "outputs": [
    {
     "data": {
      "text/plain": [
       "(6408, 5)"
      ]
     },
     "execution_count": 293,
     "metadata": {},
     "output_type": "execute_result"
    }
   ],
   "source": [
    "data_ori_log.shape"
   ]
  },
  {
   "cell_type": "code",
   "execution_count": null,
   "metadata": {
    "collapsed": true
   },
   "outputs": [],
   "source": []
  },
  {
   "cell_type": "code",
   "execution_count": null,
   "metadata": {
    "collapsed": true
   },
   "outputs": [],
   "source": []
  },
  {
   "cell_type": "code",
   "execution_count": null,
   "metadata": {
    "collapsed": true
   },
   "outputs": [],
   "source": []
  },
  {
   "cell_type": "code",
   "execution_count": null,
   "metadata": {
    "collapsed": true
   },
   "outputs": [],
   "source": []
  },
  {
   "cell_type": "code",
   "execution_count": 255,
   "metadata": {
    "collapsed": false
   },
   "outputs": [
    {
     "data": {
      "text/plain": [
       "1792"
      ]
     },
     "execution_count": 255,
     "metadata": {},
     "output_type": "execute_result"
    }
   ],
   "source": [
    "len(data_ori[data_ori['BuiltFAR'] >= 7])"
   ]
  },
  {
   "cell_type": "code",
   "execution_count": 74,
   "metadata": {
    "collapsed": false
   },
   "outputs": [
    {
     "data": {
      "text/plain": [
       "label\n",
       "0    2.508943\n",
       "1   -1.241096\n",
       "Name: BuiltFAR, dtype: float64"
      ]
     },
     "execution_count": 74,
     "metadata": {},
     "output_type": "execute_result"
    }
   ],
   "source": [
    "merge_data_n['BuiltFAR']- data_16['BuiltFAR'].mean()"
   ]
  },
  {
   "cell_type": "code",
   "execution_count": 75,
   "metadata": {
    "collapsed": false
   },
   "outputs": [
    {
     "data": {
      "text/plain": [
       "6.794692763568306"
      ]
     },
     "execution_count": 75,
     "metadata": {},
     "output_type": "execute_result"
    }
   ],
   "source": [
    "data_16['BuiltFAR'].mean()"
   ]
  },
  {
   "cell_type": "code",
   "execution_count": 76,
   "metadata": {
    "collapsed": false
   },
   "outputs": [
    {
     "data": {
      "text/plain": [
       "2.1830860522874787"
      ]
     },
     "execution_count": 76,
     "metadata": {},
     "output_type": "execute_result"
    }
   ],
   "source": [
    "num_floor - num_floor_std"
   ]
  },
  {
   "cell_type": "code",
   "execution_count": 77,
   "metadata": {
    "collapsed": false
   },
   "outputs": [
    {
     "data": {
      "text/plain": [
       "8.031277640788005"
      ]
     },
     "execution_count": 77,
     "metadata": {},
     "output_type": "execute_result"
    }
   ],
   "source": [
    "num_floor_std"
   ]
  },
  {
   "cell_type": "code",
   "execution_count": 78,
   "metadata": {
    "collapsed": false
   },
   "outputs": [
    {
     "data": {
      "text/plain": [
       "10.214363693075484"
      ]
     },
     "execution_count": 78,
     "metadata": {},
     "output_type": "execute_result"
    }
   ],
   "source": [
    "num_floor"
   ]
  },
  {
   "cell_type": "code",
   "execution_count": 79,
   "metadata": {
    "collapsed": false
   },
   "outputs": [
    {
     "data": {
      "text/plain": [
       "label\n",
       "0    13.496641\n",
       "1     9.017590\n",
       "Name: NumFloors, dtype: float64"
      ]
     },
     "execution_count": 79,
     "metadata": {},
     "output_type": "execute_result"
    }
   ],
   "source": [
    "merge_data['NumFloors']"
   ]
  },
  {
   "cell_type": "code",
   "execution_count": null,
   "metadata": {
    "collapsed": true
   },
   "outputs": [],
   "source": []
  }
 ],
 "metadata": {
  "anaconda-cloud": {},
  "kernelspec": {
   "display_name": "Python 3",
   "language": "python",
   "name": "python3"
  },
  "language_info": {
   "codemirror_mode": {
    "name": "ipython",
    "version": 3
   },
   "file_extension": ".py",
   "mimetype": "text/x-python",
   "name": "python",
   "nbconvert_exporter": "python",
   "pygments_lexer": "ipython3",
   "version": "3.6.0"
  }
 },
 "nbformat": 4,
 "nbformat_minor": 0
}
