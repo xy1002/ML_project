{
 "cells": [
  {
   "cell_type": "code",
   "execution_count": 42,
   "metadata": {
    "collapsed": false
   },
   "outputs": [],
   "source": [
    "import pandas as pd\n",
    "from __future__ import print_function\n",
    "import numpy as np\n",
    "\n",
    "from sklearn import datasets\n",
    "from sklearn.model_selection import train_test_split\n",
    "from sklearn.model_selection import GridSearchCV\n",
    "from sklearn.metrics import classification_report\n",
    "from sklearn.svm import SVC\n",
    "from sklearn.cross_validation import train_test_split\n",
    "from sklearn.ensemble import RandomForestRegressor"
   ]
  },
  {
   "cell_type": "code",
   "execution_count": 43,
   "metadata": {
    "collapsed": true
   },
   "outputs": [],
   "source": [
    "data = pd.read_csv(\"cleandf.csv\")"
   ]
  },
  {
   "cell_type": "code",
   "execution_count": 44,
   "metadata": {
    "collapsed": true
   },
   "outputs": [],
   "source": [
    "data.dropna(inplace= True)"
   ]
  },
  {
   "cell_type": "code",
   "execution_count": 45,
   "metadata": {
    "collapsed": true
   },
   "outputs": [],
   "source": [
    "#remove outliers\n",
    "data = data[data['Weather Normalized Site Electricity (kWh)']<1000000000]\n",
    "data = data[data['Weather Normalized Source EUI (kBtu/ft²)']<100000]\n",
    "EUI = data[['Weather Normalized Source EUI (kBtu/ft²)']]\n",
    "Electricity = data[['Weather Normalized Site Electricity (kWh)']]"
   ]
  },
  {
   "cell_type": "code",
   "execution_count": 46,
   "metadata": {
    "collapsed": true
   },
   "outputs": [],
   "source": [
    "y = EUI"
   ]
  },
  {
   "cell_type": "code",
   "execution_count": 47,
   "metadata": {
    "collapsed": true
   },
   "outputs": [],
   "source": [
    "X = data[['BuiltFAR', 'YearBuilt',\n",
    "       'DOF Property Floor Area (ft²)', 'LotType', 'ProxCode', \n",
    "       'ENERGY STAR Score', 'Fuel Oil #1 Use (kBtu)',\n",
    "       'Fuel Oil #2 Use (kBtu)', 'Fuel Oil #4 Use (kBtu)',\n",
    "       'Fuel Oil #5 & 6 Use (kBtu)', 'Diesel #2 Use (kBtu)',\n",
    "       'District Steam Use (kBtu)', 'District Hot Water Use (kBtu)',\n",
    "       'District Chilled Water Use (kBtu)', 'Natural Gas Use (kBtu)',\n",
    "       'Weather Normalized Site Natural Gas Use (therms)',\n",
    "       'Electricity Use - Grid Purchase (kBtu)', 'LotArea', 'ComArea',\n",
    "       'ResArea', 'OfficeArea', 'RetailArea', 'GarageArea', 'StrgeArea',\n",
    "       'FactryArea', 'OtherArea', 'NumFloors']]"
   ]
  },
  {
   "cell_type": "code",
   "execution_count": 48,
   "metadata": {
    "collapsed": false
   },
   "outputs": [],
   "source": [
    "#replace Not Available with zero\n",
    "X['Fuel Oil #1 Use (kBtu)'].replace('Not Available', 0, inplace=True)\n",
    "X['Fuel Oil #2 Use (kBtu)'].replace('Not Available', 0, inplace=True)\n",
    "X['Fuel Oil #4 Use (kBtu)'].replace('Not Available', 0, inplace=True)\n",
    "X['Fuel Oil #5 & 6 Use (kBtu)'].replace('Not Available', 0, inplace=True)\n",
    "X['Diesel #2 Use (kBtu)'].replace('Not Available', 0, inplace=True)\n",
    "X['District Hot Water Use (kBtu)'].replace('Not Available', 0, inplace=True)\n",
    "X['District Chilled Water Use (kBtu)'].replace('Not Available', 0, inplace=True)\n",
    "X['District Steam Use (kBtu)'].replace('Not Available', 0, inplace=True)"
   ]
  },
  {
   "cell_type": "code",
   "execution_count": 49,
   "metadata": {
    "collapsed": true
   },
   "outputs": [],
   "source": [
    "X_train, X_test, y_train, y_test = train_test_split(X,\n",
    "                           EUI, test_size = 0.3, random_state =999)"
   ]
  },
  {
   "cell_type": "code",
   "execution_count": 50,
   "metadata": {
    "collapsed": true
   },
   "outputs": [],
   "source": [
    "regressor = RandomForestRegressor()"
   ]
  },
  {
   "cell_type": "code",
   "execution_count": 51,
   "metadata": {
    "collapsed": true
   },
   "outputs": [],
   "source": [
    "gr = GridSearchCV(regressor, param_grid={'max_depth': range(1,100)})"
   ]
  },
  {
   "cell_type": "code",
   "execution_count": 52,
   "metadata": {
    "collapsed": false
   },
   "outputs": [],
   "source": [
    "rf_gr = gr.fit(X_train, y_train)"
   ]
  },
  {
   "cell_type": "code",
   "execution_count": 53,
   "metadata": {
    "collapsed": false
   },
   "outputs": [
    {
     "name": "stdout",
     "output_type": "stream",
     "text": [
      "{'max_depth': 34}\n"
     ]
    }
   ],
   "source": [
    "print(rf_gr.best_params_)"
   ]
  },
  {
   "cell_type": "code",
   "execution_count": 54,
   "metadata": {
    "collapsed": false
   },
   "outputs": [
    {
     "data": {
      "text/plain": [
       "0.81984045293693553"
      ]
     },
     "execution_count": 54,
     "metadata": {},
     "output_type": "execute_result"
    }
   ],
   "source": [
    "rf_gr.score(X_test, y_test)"
   ]
  },
  {
   "cell_type": "code",
   "execution_count": 56,
   "metadata": {
    "collapsed": false
   },
   "outputs": [
    {
     "name": "stderr",
     "output_type": "stream",
     "text": [
      "C:\\Users\\Pooneh\\Anaconda2\\lib\\site-packages\\ipykernel\\__main__.py:1: DataConversionWarning: A column-vector y was passed when a 1d array was expected. Please change the shape of y to (n_samples,), for example using ravel().\n",
      "  if __name__ == '__main__':\n"
     ]
    }
   ],
   "source": [
    "forest = regressor.fit(X_train, y_train)"
   ]
  },
  {
   "cell_type": "code",
   "execution_count": 67,
   "metadata": {
    "collapsed": false
   },
   "outputs": [
    {
     "name": "stdout",
     "output_type": "stream",
     "text": [
      "Feature ranking:\n",
      "1. feature District Steam Use (kBtu) (0.713305)\n",
      "2. feature ResArea (0.085941)\n",
      "3. feature Electricity Use - Grid Purchase (kBtu) (0.077344)\n",
      "4. feature Weather Normalized Site Natural Gas Use (therms) (0.030126)\n",
      "5. feature Natural Gas Use (kBtu) (0.022601)\n",
      "6. feature DOF Property Floor Area (ft²) (0.018845)\n",
      "7. feature RetailArea (0.015808)\n",
      "8. feature YearBuilt (0.013998)\n",
      "9. feature BuiltFAR (0.011659)\n",
      "10. feature NumFloors (0.004870)\n",
      "11. feature ComArea (0.003403)\n",
      "12. feature ENERGY STAR Score (0.001004)\n",
      "13. feature OtherArea (0.000552)\n",
      "14. feature LotType (0.000232)\n",
      "15. feature OfficeArea (0.000148)\n",
      "16. feature GarageArea (0.000064)\n",
      "17. feature ProxCode (0.000058)\n",
      "18. feature LotArea (0.000036)\n",
      "19. feature StrgeArea (0.000002)\n",
      "20. feature Fuel Oil #2 Use (kBtu) (0.000002)\n",
      "21. feature FactryArea (0.000002)\n",
      "22. feature Fuel Oil #4 Use (kBtu) (0.000001)\n",
      "23. feature Diesel #2 Use (kBtu) (0.000001)\n",
      "24. feature Fuel Oil #5 & 6 Use (kBtu) (0.000000)\n",
      "25. feature Fuel Oil #1 Use (kBtu) (0.000000)\n",
      "26. feature District Hot Water Use (kBtu) (0.000000)\n",
      "27. feature District Chilled Water Use (kBtu) (0.000000)\n"
     ]
    }
   ],
   "source": [
    "importances = forest.feature_importances_\n",
    "std = np.std([tree.feature_importances_ for tree in forest.estimators_],\n",
    "             axis=0)\n",
    "indices = np.argsort(importances)[::-1]\n",
    "\n",
    "# Print the feature ranking\n",
    "print(\"Feature ranking:\")\n",
    "\n",
    "for f in range(X.shape[1]):\n",
    "    print(\"%d. feature %s (%f)\" % (f + 1, X.columns[indices[f]], importances[indices[f]]))\n"
   ]
  },
  {
   "cell_type": "code",
   "execution_count": 62,
   "metadata": {
    "collapsed": false
   },
   "outputs": [
    {
     "data": {
      "text/plain": [
       "array([11, 19, 16, 15, 14,  2, 21,  1,  0, 26, 18,  5, 25,  3, 20, 22,  4,\n",
       "       17, 23,  7, 24,  8, 10,  9,  6, 12, 13], dtype=int64)"
      ]
     },
     "execution_count": 62,
     "metadata": {},
     "output_type": "execute_result"
    }
   ],
   "source": [
    "indices"
   ]
  },
  {
   "cell_type": "code",
   "execution_count": 72,
   "metadata": {
    "collapsed": false
   },
   "outputs": [
    {
     "data": {
      "text/plain": [
       "'District Steam Use (kBtu)'"
      ]
     },
     "execution_count": 72,
     "metadata": {},
     "output_type": "execute_result"
    }
   ],
   "source": [
    "X.columns[11]"
   ]
  },
  {
   "cell_type": "code",
   "execution_count": 14,
   "metadata": {
    "collapsed": false
   },
   "outputs": [
    {
     "data": {
      "text/plain": [
       "(7100L,)"
      ]
     },
     "execution_count": 14,
     "metadata": {},
     "output_type": "execute_result"
    }
   ],
   "source": [
    "pred_y = regressor.predict(X_train)\n",
    "print (pred_y)"
   ]
  },
  {
   "cell_type": "code",
   "execution_count": 73,
   "metadata": {
    "collapsed": false
   },
   "outputs": [
    {
     "data": {
      "text/plain": [
       "27"
      ]
     },
     "execution_count": 73,
     "metadata": {},
     "output_type": "execute_result"
    }
   ],
   "source": [
    "X.shape[1]"
   ]
  },
  {
   "cell_type": "code",
   "execution_count": 74,
   "metadata": {
    "collapsed": false
   },
   "outputs": [
    {
     "data": {
      "text/plain": [
       "Index([u'BuiltFAR', u'YearBuilt', u'DOF Property Floor Area (ft²)', u'LotType',\n",
       "       u'ProxCode', u'ENERGY STAR Score', u'Fuel Oil #1 Use (kBtu)',\n",
       "       u'Fuel Oil #2 Use (kBtu)', u'Fuel Oil #4 Use (kBtu)',\n",
       "       u'Fuel Oil #5 & 6 Use (kBtu)', u'Diesel #2 Use (kBtu)',\n",
       "       u'District Steam Use (kBtu)', u'District Hot Water Use (kBtu)',\n",
       "       u'District Chilled Water Use (kBtu)', u'Natural Gas Use (kBtu)',\n",
       "       u'Weather Normalized Site Natural Gas Use (therms)',\n",
       "       u'Electricity Use - Grid Purchase (kBtu)', u'LotArea', u'ComArea',\n",
       "       u'ResArea', u'OfficeArea', u'RetailArea', u'GarageArea', u'StrgeArea',\n",
       "       u'FactryArea', u'OtherArea', u'NumFloors'],\n",
       "      dtype='object')"
      ]
     },
     "execution_count": 74,
     "metadata": {},
     "output_type": "execute_result"
    }
   ],
   "source": [
    "X.columns"
   ]
  },
  {
   "cell_type": "code",
   "execution_count": null,
   "metadata": {
    "collapsed": true
   },
   "outputs": [],
   "source": []
  }
 ],
 "metadata": {
  "kernelspec": {
   "display_name": "Python [Root]",
   "language": "python",
   "name": "Python [Root]"
  },
  "language_info": {
   "codemirror_mode": {
    "name": "ipython",
    "version": 2
   },
   "file_extension": ".py",
   "mimetype": "text/x-python",
   "name": "python",
   "nbconvert_exporter": "python",
   "pygments_lexer": "ipython2",
   "version": "2.7.12"
  }
 },
 "nbformat": 4,
 "nbformat_minor": 0
}
