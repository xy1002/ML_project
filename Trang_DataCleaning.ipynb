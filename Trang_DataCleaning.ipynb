{
 "cells": [
  {
   "cell_type": "code",
   "execution_count": 1,
   "metadata": {
    "collapsed": true
   },
   "outputs": [],
   "source": [
    "import pandas as pd\n",
    "import geopandas as gpd"
   ]
  },
  {
   "cell_type": "code",
   "execution_count": 2,
   "metadata": {
    "collapsed": false
   },
   "outputs": [
    {
     "data": {
      "text/html": [
       "<div>\n",
       "<table border=\"1\" class=\"dataframe\">\n",
       "  <thead>\n",
       "    <tr style=\"text-align: right;\">\n",
       "      <th></th>\n",
       "      <th>Record Number</th>\n",
       "      <th>Order</th>\n",
       "      <th>NYC Borough, Block and Lot (BBL)</th>\n",
       "      <th>Co-reported BBL Status</th>\n",
       "      <th>BBLs Co-reported</th>\n",
       "      <th>Reported NYC Building Identification Numbers (BINs)</th>\n",
       "      <th>Property Name</th>\n",
       "      <th>Parent Property Id</th>\n",
       "      <th>Parent Property Name</th>\n",
       "      <th>Street Number</th>\n",
       "      <th>...</th>\n",
       "      <th>Direct GHG Emissions (Metric Tons CO2e)</th>\n",
       "      <th>Indirect GHG Emissions (Metric Tons CO2e)</th>\n",
       "      <th>DOF Property Floor Area (ft²)</th>\n",
       "      <th>Property GFA - Self-reported (ft²)</th>\n",
       "      <th>Water Use (All Water Sources) (kgal)</th>\n",
       "      <th>Municipally Supplied Potable Water - Indoor Intensity (gal/ft²)</th>\n",
       "      <th>Release Date</th>\n",
       "      <th>DEP Provided Water Use (kgal)</th>\n",
       "      <th>Automatic Water Benchmarking Eligible</th>\n",
       "      <th>Reported Water Method</th>\n",
       "    </tr>\n",
       "  </thead>\n",
       "  <tbody>\n",
       "    <tr>\n",
       "      <th>0</th>\n",
       "      <td>4113711.0</td>\n",
       "      <td>1</td>\n",
       "      <td>1.003360e+09</td>\n",
       "      <td>NaN</td>\n",
       "      <td>NaN</td>\n",
       "      <td>1088884</td>\n",
       "      <td>16 Bialystoker Place</td>\n",
       "      <td>Not Applicable: Standalone Property</td>\n",
       "      <td>Not Applicable: Standalone Property</td>\n",
       "      <td>15.0</td>\n",
       "      <td>...</td>\n",
       "      <td>290.2</td>\n",
       "      <td>146.1</td>\n",
       "      <td>98052.0</td>\n",
       "      <td>98000.0</td>\n",
       "      <td>NaN</td>\n",
       "      <td>NaN</td>\n",
       "      <td>2016-04-13 11:08:48</td>\n",
       "      <td>NaN</td>\n",
       "      <td>NaN</td>\n",
       "      <td>NaN</td>\n",
       "    </tr>\n",
       "    <tr>\n",
       "      <th>1</th>\n",
       "      <td>4630135.0</td>\n",
       "      <td>2</td>\n",
       "      <td>1.010618e+09</td>\n",
       "      <td>NaN</td>\n",
       "      <td>NaN</td>\n",
       "      <td>1026728</td>\n",
       "      <td>(7478) - 432 West 52nd Street Condominium</td>\n",
       "      <td>Not Applicable: Standalone Property</td>\n",
       "      <td>Not Applicable: Standalone Property</td>\n",
       "      <td>432.0</td>\n",
       "      <td>...</td>\n",
       "      <td>76.4</td>\n",
       "      <td>125.0</td>\n",
       "      <td>58851.0</td>\n",
       "      <td>57401.0</td>\n",
       "      <td>768.5</td>\n",
       "      <td>13.39</td>\n",
       "      <td>2016-04-26 21:52:05</td>\n",
       "      <td>NaN</td>\n",
       "      <td>Not Eligible</td>\n",
       "      <td>NaN</td>\n",
       "    </tr>\n",
       "  </tbody>\n",
       "</table>\n",
       "<p>2 rows × 57 columns</p>\n",
       "</div>"
      ],
      "text/plain": [
       "   Record Number  Order  NYC Borough, Block and Lot (BBL)  \\\n",
       "0      4113711.0      1                      1.003360e+09   \n",
       "1      4630135.0      2                      1.010618e+09   \n",
       "\n",
       "  Co-reported BBL Status BBLs Co-reported  \\\n",
       "0                    NaN              NaN   \n",
       "1                    NaN              NaN   \n",
       "\n",
       "  Reported NYC Building Identification Numbers (BINs)  \\\n",
       "0                                            1088884    \n",
       "1                                            1026728    \n",
       "\n",
       "                               Property Name  \\\n",
       "0                       16 Bialystoker Place   \n",
       "1  (7478) - 432 West 52nd Street Condominium   \n",
       "\n",
       "                    Parent Property Id                 Parent Property Name  \\\n",
       "0  Not Applicable: Standalone Property  Not Applicable: Standalone Property   \n",
       "1  Not Applicable: Standalone Property  Not Applicable: Standalone Property   \n",
       "\n",
       "   Street Number          ...           \\\n",
       "0           15.0          ...            \n",
       "1          432.0          ...            \n",
       "\n",
       "  Direct GHG Emissions (Metric Tons CO2e)  \\\n",
       "0                                   290.2   \n",
       "1                                    76.4   \n",
       "\n",
       "   Indirect GHG Emissions (Metric Tons CO2e) DOF Property Floor Area (ft²)  \\\n",
       "0                                      146.1                       98052.0   \n",
       "1                                      125.0                       58851.0   \n",
       "\n",
       "  Property GFA - Self-reported (ft²) Water Use (All Water Sources) (kgal)  \\\n",
       "0                            98000.0                                  NaN   \n",
       "1                            57401.0                                768.5   \n",
       "\n",
       "  Municipally Supplied Potable Water - Indoor Intensity (gal/ft²)  \\\n",
       "0                                                NaN                \n",
       "1                                              13.39                \n",
       "\n",
       "         Release Date  DEP Provided Water Use (kgal)  \\\n",
       "0 2016-04-13 11:08:48                            NaN   \n",
       "1 2016-04-26 21:52:05                            NaN   \n",
       "\n",
       "  Automatic Water Benchmarking Eligible Reported Water Method  \n",
       "0                                   NaN                   NaN  \n",
       "1                          Not Eligible                   NaN  \n",
       "\n",
       "[2 rows x 57 columns]"
      ]
     },
     "execution_count": 2,
     "metadata": {},
     "output_type": "execute_result"
    }
   ],
   "source": [
    "ll_84 = pd.read_excel('nyc_benchmarking_disclosure_data_reported_in_2016.xlsx')\n",
    "ll_84.head(2)"
   ]
  },
  {
   "cell_type": "code",
   "execution_count": 11,
   "metadata": {
    "collapsed": false
   },
   "outputs": [],
   "source": [
    "ll_84.rename(columns={'NYC Borough, Block and Lot (BBL)':'BBL'}, inplace=True)"
   ]
  },
  {
   "cell_type": "code",
   "execution_count": 12,
   "metadata": {
    "collapsed": false
   },
   "outputs": [
    {
     "data": {
      "text/plain": [
       "Index(['Record Number', 'Order', 'BBL', 'Co-reported BBL Status',\n",
       "       'BBLs Co-reported',\n",
       "       'Reported NYC Building Identification Numbers (BINs)', 'Property Name',\n",
       "       'Parent Property Id', 'Parent Property Name', 'Street Number',\n",
       "       'Street Name', 'Zip Code', 'Borough',\n",
       "       'DOF Benchmarking Submission Status',\n",
       "       'Primary Property Type - Self Selected',\n",
       "       'List of All Property Use Types at Property',\n",
       "       'Largest Property Use Type',\n",
       "       'Largest Property Use Type - Gross Floor Area (ft²)',\n",
       "       '2nd Largest Property Use Type',\n",
       "       '2nd Largest Property Use - Gross Floor Area (ft²)',\n",
       "       '3rd Largest Property Use Type',\n",
       "       '3rd Largest Property Use Type - Gross Floor Area (ft²)', 'Year Built',\n",
       "       'Number of Buildings - Self-reported', 'Occupancy',\n",
       "       'Metered Areas (Energy)', 'Metered Areas  (Water)', 'ENERGY STAR Score',\n",
       "       'Site EUI (kBtu/ft²)', 'Weather Normalized Site EUI (kBtu/ft²)',\n",
       "       'Weather Normalized Site Electricity Intensity (kWh/ft²)',\n",
       "       'Weather Normalized Site Natural Gas Intensity (therms/ft²)',\n",
       "       'Source EUI (kBtu/ft²)', 'Weather Normalized Source EUI (kBtu/ft²)',\n",
       "       'Fuel Oil #1 Use (kBtu)', 'Fuel Oil #2 Use (kBtu)',\n",
       "       'Fuel Oil #4 Use (kBtu)', 'Fuel Oil #5 & 6 Use (kBtu)',\n",
       "       'Diesel #2 Use (kBtu)', 'District Steam Use (kBtu)',\n",
       "       'District Hot Water Use (kBtu)', 'District Chilled Water Use (kBtu)',\n",
       "       'Natural Gas Use (kBtu)',\n",
       "       'Weather Normalized Site Natural Gas Use (therms)',\n",
       "       'Electricity Use - Grid Purchase (kBtu)',\n",
       "       'Weather Normalized Site Electricity (kWh)',\n",
       "       'Total GHG Emissions (Metric Tons CO2e)',\n",
       "       'Direct GHG Emissions (Metric Tons CO2e)',\n",
       "       'Indirect GHG Emissions (Metric Tons CO2e)',\n",
       "       'DOF Property Floor Area (ft²)', 'Property GFA - Self-reported (ft²)',\n",
       "       'Water Use (All Water Sources) (kgal)',\n",
       "       'Municipally Supplied Potable Water - Indoor Intensity (gal/ft²)',\n",
       "       'Release Date', 'DEP Provided Water Use (kgal)',\n",
       "       'Automatic Water Benchmarking Eligible', 'Reported Water Method'],\n",
       "      dtype='object')"
      ]
     },
     "execution_count": 12,
     "metadata": {},
     "output_type": "execute_result"
    }
   ],
   "source": [
    "ll_84.columns"
   ]
  },
  {
   "cell_type": "code",
   "execution_count": 148,
   "metadata": {
    "collapsed": false
   },
   "outputs": [],
   "source": [
    "data = pd.concat((pd.read_csv('cleandf_res.csv'),pd.read_csv('cleandf_com.csv')),axis=0)"
   ]
  },
  {
   "cell_type": "code",
   "execution_count": 149,
   "metadata": {
    "collapsed": false
   },
   "outputs": [
    {
     "data": {
      "text/plain": [
       "(6412, 25)"
      ]
     },
     "execution_count": 149,
     "metadata": {},
     "output_type": "execute_result"
    }
   ],
   "source": [
    "data.shape"
   ]
  },
  {
   "cell_type": "code",
   "execution_count": 150,
   "metadata": {
    "collapsed": false
   },
   "outputs": [
    {
     "data": {
      "text/plain": [
       "136.03914535246412"
      ]
     },
     "execution_count": 150,
     "metadata": {},
     "output_type": "execute_result"
    }
   ],
   "source": [
    "data['Weather Normalized Source EUI (kBtu/ft²)'].mean()"
   ]
  },
  {
   "cell_type": "code",
   "execution_count": 31,
   "metadata": {
    "collapsed": false,
    "scrolled": true
   },
   "outputs": [
    {
     "data": {
      "text/plain": [
       "Index(['Weather Normalized Site Electricity (kWh)',\n",
       "       'Weather Normalized Source EUI (kBtu/ft²)', 'BuiltFAR', 'YearBuilt',\n",
       "       'DOF Property Floor Area (ft²)', 'LotType', 'ProxCode', 'BBL',\n",
       "       'Primary Property Type - Self Selected', 'Zip Code',\n",
       "       'ENERGY STAR Score', 'Fuel Oil #1 Use (kBtu)', 'Fuel Oil #2 Use (kBtu)',\n",
       "       'Fuel Oil #4 Use (kBtu)', 'Fuel Oil #5 & 6 Use (kBtu)',\n",
       "       'Diesel #2 Use (kBtu)', 'District Steam Use (kBtu)',\n",
       "       'District Hot Water Use (kBtu)', 'District Chilled Water Use (kBtu)',\n",
       "       'Natural Gas Use (kBtu)',\n",
       "       'Weather Normalized Site Natural Gas Use (therms)',\n",
       "       'Electricity Use - Grid Purchase (kBtu)', 'LotArea', 'NumFloors',\n",
       "       'log_EUI'],\n",
       "      dtype='object')"
      ]
     },
     "execution_count": 31,
     "metadata": {},
     "output_type": "execute_result"
    }
   ],
   "source": [
    "data.columns"
   ]
  },
  {
   "cell_type": "code",
   "execution_count": 151,
   "metadata": {
    "collapsed": true
   },
   "outputs": [],
   "source": [
    "data = data[['BuiltFAR', 'YearBuilt',\n",
    "       'DOF Property Floor Area (ft²)', 'LotType', 'ProxCode', 'BBL',\n",
    "       'Primary Property Type - Self Selected', 'Zip Code','LotArea', 'NumFloors']]"
   ]
  },
  {
   "cell_type": "code",
   "execution_count": 40,
   "metadata": {
    "collapsed": true
   },
   "outputs": [],
   "source": [
    "ll_84_ = ll_84[['BBL','Weather Normalized Site EUI (kBtu/ft²)',\n",
    "                    'Fuel Oil #1 Use (kBtu)', 'Fuel Oil #2 Use (kBtu)',\n",
    "       'Fuel Oil #4 Use (kBtu)', 'Fuel Oil #5 & 6 Use (kBtu)',\n",
    "       'Diesel #2 Use (kBtu)', 'District Steam Use (kBtu)',\n",
    "       'District Hot Water Use (kBtu)', 'District Chilled Water Use (kBtu)',\n",
    "       'Natural Gas Use (kBtu)','Electricity Use - Grid Purchase (kBtu)']]"
   ]
  },
  {
   "cell_type": "code",
   "execution_count": 41,
   "metadata": {
    "collapsed": false
   },
   "outputs": [
    {
     "data": {
      "text/plain": [
       "Index(['BBL', 'Weather Normalized Site EUI (kBtu/ft²)',\n",
       "       'Fuel Oil #1 Use (kBtu)', 'Fuel Oil #2 Use (kBtu)',\n",
       "       'Fuel Oil #4 Use (kBtu)', 'Fuel Oil #5 & 6 Use (kBtu)',\n",
       "       'Diesel #2 Use (kBtu)', 'District Steam Use (kBtu)',\n",
       "       'District Hot Water Use (kBtu)', 'District Chilled Water Use (kBtu)',\n",
       "       'Natural Gas Use (kBtu)', 'Electricity Use - Grid Purchase (kBtu)'],\n",
       "      dtype='object')"
      ]
     },
     "execution_count": 41,
     "metadata": {},
     "output_type": "execute_result"
    }
   ],
   "source": [
    "ll_84_.columns"
   ]
  },
  {
   "cell_type": "code",
   "execution_count": 152,
   "metadata": {
    "collapsed": false
   },
   "outputs": [],
   "source": [
    "df_res = pd.merge(data,ll_84_\n",
    "              ,on='BBL')"
   ]
  },
  {
   "cell_type": "code",
   "execution_count": 153,
   "metadata": {
    "collapsed": false
   },
   "outputs": [
    {
     "data": {
      "text/plain": [
       "Index(['BuiltFAR', 'YearBuilt', 'DOF Property Floor Area (ft²)', 'LotType',\n",
       "       'ProxCode', 'BBL', 'Primary Property Type - Self Selected', 'Zip Code',\n",
       "       'LotArea', 'NumFloors', 'Weather Normalized Site EUI (kBtu/ft²)',\n",
       "       'Fuel Oil #1 Use (kBtu)', 'Fuel Oil #2 Use (kBtu)',\n",
       "       'Fuel Oil #4 Use (kBtu)', 'Fuel Oil #5 & 6 Use (kBtu)',\n",
       "       'Diesel #2 Use (kBtu)', 'District Steam Use (kBtu)',\n",
       "       'District Hot Water Use (kBtu)', 'District Chilled Water Use (kBtu)',\n",
       "       'Natural Gas Use (kBtu)', 'Electricity Use - Grid Purchase (kBtu)'],\n",
       "      dtype='object')"
      ]
     },
     "execution_count": 153,
     "metadata": {},
     "output_type": "execute_result"
    }
   ],
   "source": [
    "df_res.columns"
   ]
  },
  {
   "cell_type": "code",
   "execution_count": 154,
   "metadata": {
    "collapsed": false
   },
   "outputs": [],
   "source": [
    "import numpy as np\n",
    "for i in df_res.columns:\n",
    "    df_res[i].replace('Not Available',0, inplace=True)"
   ]
  },
  {
   "cell_type": "code",
   "execution_count": 157,
   "metadata": {
    "collapsed": false
   },
   "outputs": [
    {
     "data": {
      "text/plain": [
       "(6412, 21)"
      ]
     },
     "execution_count": 157,
     "metadata": {},
     "output_type": "execute_result"
    }
   ],
   "source": [
    "df_res.shape"
   ]
  },
  {
   "cell_type": "code",
   "execution_count": 156,
   "metadata": {
    "collapsed": true
   },
   "outputs": [],
   "source": [
    "df_res.dropna(inplace= True)"
   ]
  },
  {
   "cell_type": "code",
   "execution_count": 158,
   "metadata": {
    "collapsed": true
   },
   "outputs": [],
   "source": [
    "df_res['total_energy'] = df_res[['Fuel Oil #1 Use (kBtu)', 'Fuel Oil #2 Use (kBtu)',\n",
    "       'Fuel Oil #4 Use (kBtu)', 'Fuel Oil #5 & 6 Use (kBtu)',\n",
    "       'Diesel #2 Use (kBtu)', 'District Steam Use (kBtu)',\n",
    "       'District Hot Water Use (kBtu)', 'District Chilled Water Use (kBtu)',\n",
    "       'Natural Gas Use (kBtu)', 'Electricity Use - Grid Purchase (kBtu)']].sum(axis=1)"
   ]
  },
  {
   "cell_type": "code",
   "execution_count": 159,
   "metadata": {
    "collapsed": false
   },
   "outputs": [
    {
     "data": {
      "text/html": [
       "<div>\n",
       "<table border=\"1\" class=\"dataframe\">\n",
       "  <thead>\n",
       "    <tr style=\"text-align: right;\">\n",
       "      <th></th>\n",
       "      <th>BuiltFAR</th>\n",
       "      <th>YearBuilt</th>\n",
       "      <th>DOF Property Floor Area (ft²)</th>\n",
       "      <th>LotType</th>\n",
       "      <th>ProxCode</th>\n",
       "      <th>BBL</th>\n",
       "      <th>Primary Property Type - Self Selected</th>\n",
       "      <th>Zip Code</th>\n",
       "      <th>LotArea</th>\n",
       "      <th>NumFloors</th>\n",
       "      <th>...</th>\n",
       "      <th>Fuel Oil #2 Use (kBtu)</th>\n",
       "      <th>Fuel Oil #4 Use (kBtu)</th>\n",
       "      <th>Fuel Oil #5 &amp; 6 Use (kBtu)</th>\n",
       "      <th>Diesel #2 Use (kBtu)</th>\n",
       "      <th>District Steam Use (kBtu)</th>\n",
       "      <th>District Hot Water Use (kBtu)</th>\n",
       "      <th>District Chilled Water Use (kBtu)</th>\n",
       "      <th>Natural Gas Use (kBtu)</th>\n",
       "      <th>Electricity Use - Grid Purchase (kBtu)</th>\n",
       "      <th>total_energy</th>\n",
       "    </tr>\n",
       "  </thead>\n",
       "  <tbody>\n",
       "    <tr>\n",
       "      <th>0</th>\n",
       "      <td>18.67</td>\n",
       "      <td>1985</td>\n",
       "      <td>169061.0</td>\n",
       "      <td>0.0</td>\n",
       "      <td>1.0</td>\n",
       "      <td>1.000088e+09</td>\n",
       "      <td>Residential</td>\n",
       "      <td>10004.0</td>\n",
       "      <td>9053</td>\n",
       "      <td>19.0</td>\n",
       "      <td>...</td>\n",
       "      <td>13512269.8</td>\n",
       "      <td>0.0</td>\n",
       "      <td>0.0</td>\n",
       "      <td>0.0</td>\n",
       "      <td>0.0</td>\n",
       "      <td>0</td>\n",
       "      <td>0.0</td>\n",
       "      <td>2137974.0</td>\n",
       "      <td>7547536.0</td>\n",
       "      <td>23197779.8</td>\n",
       "    </tr>\n",
       "    <tr>\n",
       "      <th>1</th>\n",
       "      <td>12.91</td>\n",
       "      <td>1930</td>\n",
       "      <td>259076.0</td>\n",
       "      <td>0.0</td>\n",
       "      <td>0.0</td>\n",
       "      <td>1.000158e+09</td>\n",
       "      <td>Residential</td>\n",
       "      <td>10004.0</td>\n",
       "      <td>13928</td>\n",
       "      <td>45.0</td>\n",
       "      <td>...</td>\n",
       "      <td>0.0</td>\n",
       "      <td>0.0</td>\n",
       "      <td>0.0</td>\n",
       "      <td>0.0</td>\n",
       "      <td>530202.1</td>\n",
       "      <td>0</td>\n",
       "      <td>0.0</td>\n",
       "      <td>164557.7</td>\n",
       "      <td>9013003.0</td>\n",
       "      <td>9707762.8</td>\n",
       "    </tr>\n",
       "  </tbody>\n",
       "</table>\n",
       "<p>2 rows × 22 columns</p>\n",
       "</div>"
      ],
      "text/plain": [
       "   BuiltFAR  YearBuilt  DOF Property Floor Area (ft²)  LotType  ProxCode  \\\n",
       "0     18.67       1985                       169061.0      0.0       1.0   \n",
       "1     12.91       1930                       259076.0      0.0       0.0   \n",
       "\n",
       "            BBL Primary Property Type - Self Selected  Zip Code  LotArea  \\\n",
       "0  1.000088e+09                           Residential   10004.0     9053   \n",
       "1  1.000158e+09                           Residential   10004.0    13928   \n",
       "\n",
       "   NumFloors      ...       Fuel Oil #2 Use (kBtu)  Fuel Oil #4 Use (kBtu)  \\\n",
       "0       19.0      ...                   13512269.8                     0.0   \n",
       "1       45.0      ...                          0.0                     0.0   \n",
       "\n",
       "   Fuel Oil #5 & 6 Use (kBtu)  Diesel #2 Use (kBtu)  \\\n",
       "0                         0.0                   0.0   \n",
       "1                         0.0                   0.0   \n",
       "\n",
       "   District Steam Use (kBtu)  District Hot Water Use (kBtu)  \\\n",
       "0                        0.0                              0   \n",
       "1                   530202.1                              0   \n",
       "\n",
       "   District Chilled Water Use (kBtu)  Natural Gas Use (kBtu)  \\\n",
       "0                                0.0               2137974.0   \n",
       "1                                0.0                164557.7   \n",
       "\n",
       "   Electricity Use - Grid Purchase (kBtu)  total_energy  \n",
       "0                               7547536.0    23197779.8  \n",
       "1                               9013003.0     9707762.8  \n",
       "\n",
       "[2 rows x 22 columns]"
      ]
     },
     "execution_count": 159,
     "metadata": {},
     "output_type": "execute_result"
    }
   ],
   "source": [
    "df_res.head(2)"
   ]
  },
  {
   "cell_type": "code",
   "execution_count": 160,
   "metadata": {
    "collapsed": false
   },
   "outputs": [],
   "source": [
    "energy = pd.DataFrame()\n",
    "energy['Oil'] = df_res[['Fuel Oil #1 Use (kBtu)', 'Fuel Oil #2 Use (kBtu)',\n",
    "       'Fuel Oil #4 Use (kBtu)', 'Fuel Oil #5 & 6 Use (kBtu)']].sum(axis=1)/df_res['total_energy']\n",
    "energy['Diesel'] = df_res['Diesel #2 Use (kBtu)']/df_res['total_energy']\n",
    "energy['Water'] = df_res[['District Steam Use (kBtu)',\n",
    "       'District Hot Water Use (kBtu)', 'District Chilled Water Use (kBtu)']].sum(axis=1)/df_res['total_energy']\n",
    "energy['Gas'] = df_res['Natural Gas Use (kBtu)']/df_res['total_energy']\n",
    "energy['Electricity']=df_res['Electricity Use - Grid Purchase (kBtu)']/df_res['total_energy']"
   ]
  },
  {
   "cell_type": "code",
   "execution_count": 161,
   "metadata": {
    "collapsed": false
   },
   "outputs": [],
   "source": [
    "energy['Oil'][energy['Oil']>=0.5] = 1\n",
    "energy['Oil'][energy['Oil']<0.5] = 0"
   ]
  },
  {
   "cell_type": "code",
   "execution_count": 162,
   "metadata": {
    "collapsed": false
   },
   "outputs": [],
   "source": [
    "energy['Gas'][energy['Gas']>=0.5] = 1\n",
    "energy['Gas'][energy['Gas']<0.5] = 0"
   ]
  },
  {
   "cell_type": "code",
   "execution_count": 163,
   "metadata": {
    "collapsed": true
   },
   "outputs": [],
   "source": [
    "energy['Diesel'][energy['Diesel']>=0.5] = 1\n",
    "energy['Diesel'][energy['Diesel']<0.5] = 0"
   ]
  },
  {
   "cell_type": "code",
   "execution_count": 164,
   "metadata": {
    "collapsed": false,
    "scrolled": true
   },
   "outputs": [],
   "source": [
    "energy['Electricity'][energy['Electricity']>=0.5] = 1\n",
    "energy['Electricity'][energy['Electricity']<0.5] = 0"
   ]
  },
  {
   "cell_type": "code",
   "execution_count": 165,
   "metadata": {
    "collapsed": false
   },
   "outputs": [],
   "source": [
    "energy['Diesel'][energy['Diesel']>=0.5] = 1\n",
    "energy['Diesel'][energy['Diesel']<0.5] = 0"
   ]
  },
  {
   "cell_type": "code",
   "execution_count": 166,
   "metadata": {
    "collapsed": true
   },
   "outputs": [],
   "source": [
    "energy['Water'][energy['Water']>=0.5] = 1\n",
    "energy['Water'][energy['Water']<0.5] = 0"
   ]
  },
  {
   "cell_type": "code",
   "execution_count": 167,
   "metadata": {
    "collapsed": false
   },
   "outputs": [],
   "source": [
    "df_energy = pd.concat((df_res[['BuiltFAR', 'YearBuilt', 'DOF Property Floor Area (ft²)', 'LotType',\n",
    "       'ProxCode', 'BBL', 'Primary Property Type - Self Selected', 'Zip Code',\n",
    "       'LotArea', 'NumFloors', 'Weather Normalized Site EUI (kBtu/ft²)']],energy),axis=1)"
   ]
  },
  {
   "cell_type": "code",
   "execution_count": 168,
   "metadata": {
    "collapsed": false
   },
   "outputs": [
    {
     "data": {
      "text/plain": [
       "(6412, 16)"
      ]
     },
     "execution_count": 168,
     "metadata": {},
     "output_type": "execute_result"
    }
   ],
   "source": [
    "df_energy.shape"
   ]
  },
  {
   "cell_type": "code",
   "execution_count": 169,
   "metadata": {
    "collapsed": false
   },
   "outputs": [],
   "source": [
    "df_energy.to_csv('final_data.csv')"
   ]
  },
  {
   "cell_type": "code",
   "execution_count": null,
   "metadata": {
    "collapsed": true
   },
   "outputs": [],
   "source": []
  }
 ],
 "metadata": {
  "kernelspec": {
   "display_name": "Python 3",
   "language": "python",
   "name": "python3"
  },
  "language_info": {
   "codemirror_mode": {
    "name": "ipython",
    "version": 3
   },
   "file_extension": ".py",
   "mimetype": "text/x-python",
   "name": "python",
   "nbconvert_exporter": "python",
   "pygments_lexer": "ipython3",
   "version": "3.5.1"
  }
 },
 "nbformat": 4,
 "nbformat_minor": 2
}
