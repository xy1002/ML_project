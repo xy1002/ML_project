{
 "cells": [
  {
   "cell_type": "code",
   "execution_count": 1,
   "metadata": {
    "collapsed": true
   },
   "outputs": [],
   "source": [
    "import pandas as pd\n",
    "import numpy as np"
   ]
  },
  {
   "cell_type": "code",
   "execution_count": 2,
   "metadata": {
    "collapsed": true
   },
   "outputs": [],
   "source": [
    "data = pd.read_csv(\"cluster_4y.csv\")"
   ]
  },
  {
   "cell_type": "code",
   "execution_count": 3,
   "metadata": {
    "collapsed": false
   },
   "outputs": [
    {
     "data": {
      "text/html": [
       "<div>\n",
       "<table border=\"1\" class=\"dataframe\">\n",
       "  <thead>\n",
       "    <tr style=\"text-align: right;\">\n",
       "      <th></th>\n",
       "      <th>Unnamed: 0</th>\n",
       "      <th>BBL</th>\n",
       "      <th>EUI_16</th>\n",
       "      <th>Score_16</th>\n",
       "      <th>EUI_15</th>\n",
       "      <th>Score_15</th>\n",
       "      <th>EUI_14</th>\n",
       "      <th>Score_14</th>\n",
       "      <th>EUI_13</th>\n",
       "      <th>Score_13</th>\n",
       "    </tr>\n",
       "  </thead>\n",
       "  <tbody>\n",
       "    <tr>\n",
       "      <th>0</th>\n",
       "      <td>0</td>\n",
       "      <td>1.014270e+09</td>\n",
       "      <td>44.5</td>\n",
       "      <td>80.0</td>\n",
       "      <td>195.7</td>\n",
       "      <td>Not Available</td>\n",
       "      <td>172.7</td>\n",
       "      <td>Not Available</td>\n",
       "      <td>180.3</td>\n",
       "      <td>NaN</td>\n",
       "    </tr>\n",
       "    <tr>\n",
       "      <th>1</th>\n",
       "      <td>1</td>\n",
       "      <td>1.015180e+09</td>\n",
       "      <td>90.8</td>\n",
       "      <td>10.0</td>\n",
       "      <td>159.7</td>\n",
       "      <td>Not Available</td>\n",
       "      <td>103.4</td>\n",
       "      <td>Not Available</td>\n",
       "      <td>94.8</td>\n",
       "      <td>NaN</td>\n",
       "    </tr>\n",
       "    <tr>\n",
       "      <th>2</th>\n",
       "      <td>2</td>\n",
       "      <td>1.000048e+09</td>\n",
       "      <td>133.8</td>\n",
       "      <td>71.0</td>\n",
       "      <td>358.8</td>\n",
       "      <td>61</td>\n",
       "      <td>229.5</td>\n",
       "      <td>92</td>\n",
       "      <td>287.9</td>\n",
       "      <td>75</td>\n",
       "    </tr>\n",
       "    <tr>\n",
       "      <th>3</th>\n",
       "      <td>3</td>\n",
       "      <td>1.000058e+09</td>\n",
       "      <td>132.5</td>\n",
       "      <td>71.0</td>\n",
       "      <td>223.5</td>\n",
       "      <td>77</td>\n",
       "      <td>238</td>\n",
       "      <td>73</td>\n",
       "      <td>261.5</td>\n",
       "      <td>70</td>\n",
       "    </tr>\n",
       "    <tr>\n",
       "      <th>4</th>\n",
       "      <td>4</td>\n",
       "      <td>1.000088e+09</td>\n",
       "      <td>139.2</td>\n",
       "      <td>1.0</td>\n",
       "      <td>165</td>\n",
       "      <td>1</td>\n",
       "      <td>205.3</td>\n",
       "      <td>Not Available</td>\n",
       "      <td>163.2</td>\n",
       "      <td>NaN</td>\n",
       "    </tr>\n",
       "  </tbody>\n",
       "</table>\n",
       "</div>"
      ],
      "text/plain": [
       "   Unnamed: 0           BBL  EUI_16  Score_16 EUI_15       Score_15 EUI_14  \\\n",
       "0           0  1.014270e+09    44.5      80.0  195.7  Not Available  172.7   \n",
       "1           1  1.015180e+09    90.8      10.0  159.7  Not Available  103.4   \n",
       "2           2  1.000048e+09   133.8      71.0  358.8             61  229.5   \n",
       "3           3  1.000058e+09   132.5      71.0  223.5             77    238   \n",
       "4           4  1.000088e+09   139.2       1.0    165              1  205.3   \n",
       "\n",
       "        Score_14  EUI_13 Score_13  \n",
       "0  Not Available   180.3      NaN  \n",
       "1  Not Available    94.8      NaN  \n",
       "2             92   287.9       75  \n",
       "3             73   261.5       70  \n",
       "4  Not Available   163.2      NaN  "
      ]
     },
     "execution_count": 3,
     "metadata": {},
     "output_type": "execute_result"
    }
   ],
   "source": [
    "data.head()"
   ]
  },
  {
   "cell_type": "code",
   "execution_count": 4,
   "metadata": {
    "collapsed": false
   },
   "outputs": [],
   "source": [
    "data_day = data[['EUI_16', 'EUI_15', 'EUI_14', 'EUI_13', 'BBL' ]]"
   ]
  },
  {
   "cell_type": "code",
   "execution_count": 142,
   "metadata": {
    "collapsed": true
   },
   "outputs": [],
   "source": [
    "data_normal = data[['EUI_16', 'EUI_15', 'EUI_14', 'EUI_13' ]]"
   ]
  },
  {
   "cell_type": "code",
   "execution_count": null,
   "metadata": {
    "collapsed": true
   },
   "outputs": [],
   "source": [
    "data_normal.replace('Not Available', np.nan, inplace=True)\n",
    "data_normal.replace('See Primary BBL', np.nan, inplace=True)\n",
    "data_normal.dropna(inplace = True)\n",
    "data_normal = data_normal.convert_objects(convert_numeric=True)\n",
    "data_normal = data_normal[~(data_day == 0).any(axis=1)]"
   ]
  },
  {
   "cell_type": "code",
   "execution_count": 5,
   "metadata": {
    "collapsed": false
   },
   "outputs": [
    {
     "name": "stderr",
     "output_type": "stream",
     "text": [
      "C:\\Users\\Pooneh\\Anaconda2\\lib\\site-packages\\ipykernel\\__main__.py:1: SettingWithCopyWarning: \n",
      "A value is trying to be set on a copy of a slice from a DataFrame\n",
      "\n",
      "See the caveats in the documentation: http://pandas.pydata.org/pandas-docs/stable/indexing.html#indexing-view-versus-copy\n",
      "  if __name__ == '__main__':\n",
      "C:\\Users\\Pooneh\\Anaconda2\\lib\\site-packages\\ipykernel\\__main__.py:2: SettingWithCopyWarning: \n",
      "A value is trying to be set on a copy of a slice from a DataFrame\n",
      "\n",
      "See the caveats in the documentation: http://pandas.pydata.org/pandas-docs/stable/indexing.html#indexing-view-versus-copy\n",
      "  from ipykernel import kernelapp as app\n"
     ]
    }
   ],
   "source": [
    "data_day.replace('Not Available', np.nan, inplace=True)\n",
    "data_day.replace('See Primary BBL', np.nan, inplace=True)"
   ]
  },
  {
   "cell_type": "code",
   "execution_count": 6,
   "metadata": {
    "collapsed": false
   },
   "outputs": [
    {
     "name": "stderr",
     "output_type": "stream",
     "text": [
      "C:\\Users\\Pooneh\\Anaconda2\\lib\\site-packages\\ipykernel\\__main__.py:1: SettingWithCopyWarning: \n",
      "A value is trying to be set on a copy of a slice from a DataFrame\n",
      "\n",
      "See the caveats in the documentation: http://pandas.pydata.org/pandas-docs/stable/indexing.html#indexing-view-versus-copy\n",
      "  if __name__ == '__main__':\n"
     ]
    }
   ],
   "source": [
    "data_day.dropna(inplace = True)"
   ]
  },
  {
   "cell_type": "code",
   "execution_count": 7,
   "metadata": {
    "collapsed": false
   },
   "outputs": [
    {
     "name": "stderr",
     "output_type": "stream",
     "text": [
      "C:\\Users\\Pooneh\\Anaconda2\\lib\\site-packages\\ipykernel\\__main__.py:1: FutureWarning: convert_objects is deprecated.  Use the data-type specific converters pd.to_datetime, pd.to_timedelta and pd.to_numeric.\n",
      "  if __name__ == '__main__':\n"
     ]
    }
   ],
   "source": [
    "data_day = data_day.convert_objects(convert_numeric=True)\n",
    "#data_day = data_day[(data_day != 0)]"
   ]
  },
  {
   "cell_type": "code",
   "execution_count": 8,
   "metadata": {
    "collapsed": false
   },
   "outputs": [
    {
     "data": {
      "text/plain": [
       "(5487, 5)"
      ]
     },
     "execution_count": 8,
     "metadata": {},
     "output_type": "execute_result"
    }
   ],
   "source": [
    "data_day.shape"
   ]
  },
  {
   "cell_type": "code",
   "execution_count": 25,
   "metadata": {
    "collapsed": false
   },
   "outputs": [
    {
     "data": {
      "text/plain": [
       "EUI_16     5\n",
       "EUI_15     2\n",
       "EUI_14     2\n",
       "EUI_13    17\n",
       "BBL        0\n",
       "dtype: int64"
      ]
     },
     "execution_count": 25,
     "metadata": {},
     "output_type": "execute_result"
    }
   ],
   "source": [
    "data_day[data_day==0].count()"
   ]
  },
  {
   "cell_type": "code",
   "execution_count": 27,
   "metadata": {
    "collapsed": true
   },
   "outputs": [],
   "source": [
    "data_day = data_day[~(data_day == 0).any(axis=1)]"
   ]
  },
  {
   "cell_type": "code",
   "execution_count": 28,
   "metadata": {
    "collapsed": false
   },
   "outputs": [
    {
     "data": {
      "text/plain": [
       "(5466, 5)"
      ]
     },
     "execution_count": 28,
     "metadata": {},
     "output_type": "execute_result"
    }
   ],
   "source": [
    "data_day.shape"
   ]
  },
  {
   "cell_type": "code",
   "execution_count": 29,
   "metadata": {
    "collapsed": false
   },
   "outputs": [],
   "source": [
    "data_day['EUI_16'] = np.log(data_day['EUI_16'].astype('float64'))"
   ]
  },
  {
   "cell_type": "code",
   "execution_count": 30,
   "metadata": {
    "collapsed": false
   },
   "outputs": [],
   "source": [
    "data_day['EUI_15']= np.log(data_day['EUI_15'].astype('float64'))"
   ]
  },
  {
   "cell_type": "code",
   "execution_count": 31,
   "metadata": {
    "collapsed": false
   },
   "outputs": [],
   "source": [
    "data_day['EUI_14'] = np.log(data_day['EUI_14'].astype('float64'))\n",
    "data_day['EUI_13'] = np.log(data_day['EUI_13'].astype('float64'))"
   ]
  },
  {
   "cell_type": "code",
   "execution_count": 35,
   "metadata": {
    "collapsed": true
   },
   "outputs": [],
   "source": [
    "data_day.dropna(inplace = True)"
   ]
  },
  {
   "cell_type": "code",
   "execution_count": 36,
   "metadata": {
    "collapsed": false
   },
   "outputs": [
    {
     "data": {
      "text/plain": [
       "(5466, 5)"
      ]
     },
     "execution_count": 36,
     "metadata": {},
     "output_type": "execute_result"
    }
   ],
   "source": [
    "data_day.shape"
   ]
  },
  {
   "cell_type": "code",
   "execution_count": 37,
   "metadata": {
    "collapsed": false
   },
   "outputs": [],
   "source": [
    "std_16 = data_day['EUI_16'].std()\n",
    "std_15 = data_day['EUI_15'].std()\n",
    "std_14 = data_day['EUI_14'].std()\n",
    "std_13 = data_day['EUI_13'].std()"
   ]
  },
  {
   "cell_type": "code",
   "execution_count": 38,
   "metadata": {
    "collapsed": false
   },
   "outputs": [
    {
     "data": {
      "text/plain": [
       "0.6537455160715985"
      ]
     },
     "execution_count": 38,
     "metadata": {},
     "output_type": "execute_result"
    }
   ],
   "source": [
    "data_day['EUI_15'].std()"
   ]
  },
  {
   "cell_type": "code",
   "execution_count": 40,
   "metadata": {
    "collapsed": false
   },
   "outputs": [],
   "source": [
    "data_=data_day[(data_day['EUI_16']>data_day['EUI_16'].mean()- 2*std_16)&(data_day['EUI_16']<data_day['EUI_16'].mean()+2*std_16)]"
   ]
  },
  {
   "cell_type": "code",
   "execution_count": 41,
   "metadata": {
    "collapsed": false
   },
   "outputs": [
    {
     "data": {
      "text/plain": [
       "(5276, 5)"
      ]
     },
     "execution_count": 41,
     "metadata": {},
     "output_type": "execute_result"
    }
   ],
   "source": [
    "data_.shape"
   ]
  },
  {
   "cell_type": "code",
   "execution_count": 42,
   "metadata": {
    "collapsed": true
   },
   "outputs": [],
   "source": [
    "data_=data_[(data_['EUI_15']>data_day['EUI_15'].mean()- 2*std_15)&(data_['EUI_15']<data_day['EUI_15'].mean()+2*std_15)]"
   ]
  },
  {
   "cell_type": "code",
   "execution_count": 43,
   "metadata": {
    "collapsed": true
   },
   "outputs": [],
   "source": [
    "data_=data_[(data_['EUI_14']>data_day['EUI_14'].mean()- 2*std_14)&(data_['EUI_14']<data_day['EUI_14'].mean()+2*std_14)]"
   ]
  },
  {
   "cell_type": "code",
   "execution_count": 44,
   "metadata": {
    "collapsed": true
   },
   "outputs": [],
   "source": [
    "data_=data_[(data_['EUI_13']>data_day['EUI_13'].mean()- 2*std_13)&(data_['EUI_13']<data_day['EUI_13'].mean()+2*std_13)]"
   ]
  },
  {
   "cell_type": "code",
   "execution_count": 45,
   "metadata": {
    "collapsed": false
   },
   "outputs": [
    {
     "data": {
      "text/html": [
       "<div>\n",
       "<table border=\"1\" class=\"dataframe\">\n",
       "  <thead>\n",
       "    <tr style=\"text-align: right;\">\n",
       "      <th></th>\n",
       "      <th>EUI_16</th>\n",
       "      <th>EUI_15</th>\n",
       "      <th>EUI_14</th>\n",
       "      <th>EUI_13</th>\n",
       "      <th>BBL</th>\n",
       "    </tr>\n",
       "  </thead>\n",
       "  <tbody>\n",
       "    <tr>\n",
       "      <th>0</th>\n",
       "      <td>3.795489</td>\n",
       "      <td>5.276583</td>\n",
       "      <td>5.151556</td>\n",
       "      <td>5.194622</td>\n",
       "      <td>1.014270e+09</td>\n",
       "    </tr>\n",
       "    <tr>\n",
       "      <th>1</th>\n",
       "      <td>4.508659</td>\n",
       "      <td>5.073297</td>\n",
       "      <td>4.638605</td>\n",
       "      <td>4.551769</td>\n",
       "      <td>1.015180e+09</td>\n",
       "    </tr>\n",
       "    <tr>\n",
       "      <th>2</th>\n",
       "      <td>4.896346</td>\n",
       "      <td>5.882765</td>\n",
       "      <td>5.435903</td>\n",
       "      <td>5.662613</td>\n",
       "      <td>1.000048e+09</td>\n",
       "    </tr>\n",
       "    <tr>\n",
       "      <th>3</th>\n",
       "      <td>4.886583</td>\n",
       "      <td>5.409411</td>\n",
       "      <td>5.472271</td>\n",
       "      <td>5.566434</td>\n",
       "      <td>1.000058e+09</td>\n",
       "    </tr>\n",
       "    <tr>\n",
       "      <th>4</th>\n",
       "      <td>4.935912</td>\n",
       "      <td>5.105945</td>\n",
       "      <td>5.324472</td>\n",
       "      <td>5.094976</td>\n",
       "      <td>1.000088e+09</td>\n",
       "    </tr>\n",
       "  </tbody>\n",
       "</table>\n",
       "</div>"
      ],
      "text/plain": [
       "     EUI_16    EUI_15    EUI_14    EUI_13           BBL\n",
       "0  3.795489  5.276583  5.151556  5.194622  1.014270e+09\n",
       "1  4.508659  5.073297  4.638605  4.551769  1.015180e+09\n",
       "2  4.896346  5.882765  5.435903  5.662613  1.000048e+09\n",
       "3  4.886583  5.409411  5.472271  5.566434  1.000058e+09\n",
       "4  4.935912  5.105945  5.324472  5.094976  1.000088e+09"
      ]
     },
     "execution_count": 45,
     "metadata": {},
     "output_type": "execute_result"
    }
   ],
   "source": [
    "data_.head()"
   ]
  },
  {
   "cell_type": "code",
   "execution_count": 46,
   "metadata": {
    "collapsed": true
   },
   "outputs": [],
   "source": [
    "from sklearn.metrics import silhouette_samples, silhouette_score\n",
    "import matplotlib.cm as cm\n",
    "import numpy as np\n",
    "from sklearn.cluster import KMeans"
   ]
  },
  {
   "cell_type": "code",
   "execution_count": 48,
   "metadata": {
    "collapsed": false
   },
   "outputs": [
    {
     "name": "stdout",
     "output_type": "stream",
     "text": [
      "For n_clusters =2, the average silhouette_score is :0.381589398735\n",
      "For n_clusters =3, the average silhouette_score is :0.322323721928\n",
      "For n_clusters =4, the average silhouette_score is :0.274480508686\n",
      "For n_clusters =5, the average silhouette_score is :0.254011393584\n"
     ]
    }
   ],
   "source": [
    "X=data_[['EUI_16', 'EUI_15', 'EUI_14', 'EUI_13' ]]\n",
    "range_n_clusters = [2, 3, 4, 5]\n",
    "for n_clusters in range_n_clusters:\n",
    "    km = KMeans(n_clusters=n_clusters, random_state=324)\n",
    "    cluster_labels = km.fit_predict(X)\n",
    "    silhouette_avg = silhouette_score(X, cluster_labels)\n",
    "    print(\"For n_clusters ={},\".format(n_clusters)+\" the average silhouette_score is :{}\".format(silhouette_avg))"
   ]
  },
  {
   "cell_type": "code",
   "execution_count": 49,
   "metadata": {
    "collapsed": false
   },
   "outputs": [
    {
     "name": "stdout",
     "output_type": "stream",
     "text": [
      "[0 1 0 ..., 1 0 1]\n"
     ]
    }
   ],
   "source": [
    "n=2 # number of clusters\n",
    "dd=data_[['EUI_16', 'EUI_15', 'EUI_14', 'EUI_13' ]] #data\n",
    "#tar=y# real target\n",
    "\n",
    "#train the model.\n",
    "km=KMeans(random_state=324,n_clusters=n)\n",
    "res=km.fit(dd)\n",
    "#result.\n",
    "print(res.labels_)\n",
    "# print res.predict(dd)"
   ]
  },
  {
   "cell_type": "code",
   "execution_count": 50,
   "metadata": {
    "collapsed": false
   },
   "outputs": [],
   "source": [
    "rest = []\n",
    "rest = res.labels_"
   ]
  },
  {
   "cell_type": "code",
   "execution_count": 51,
   "metadata": {
    "collapsed": true
   },
   "outputs": [],
   "source": [
    "data_['label'] = rest"
   ]
  },
  {
   "cell_type": "code",
   "execution_count": 52,
   "metadata": {
    "collapsed": false
   },
   "outputs": [
    {
     "data": {
      "text/html": [
       "<div>\n",
       "<table border=\"1\" class=\"dataframe\">\n",
       "  <thead>\n",
       "    <tr style=\"text-align: right;\">\n",
       "      <th></th>\n",
       "      <th>EUI_16</th>\n",
       "      <th>EUI_15</th>\n",
       "      <th>EUI_14</th>\n",
       "      <th>EUI_13</th>\n",
       "      <th>BBL</th>\n",
       "      <th>label</th>\n",
       "    </tr>\n",
       "  </thead>\n",
       "  <tbody>\n",
       "    <tr>\n",
       "      <th>0</th>\n",
       "      <td>3.795489</td>\n",
       "      <td>5.276583</td>\n",
       "      <td>5.151556</td>\n",
       "      <td>5.194622</td>\n",
       "      <td>1.014270e+09</td>\n",
       "      <td>0</td>\n",
       "    </tr>\n",
       "    <tr>\n",
       "      <th>1</th>\n",
       "      <td>4.508659</td>\n",
       "      <td>5.073297</td>\n",
       "      <td>4.638605</td>\n",
       "      <td>4.551769</td>\n",
       "      <td>1.015180e+09</td>\n",
       "      <td>1</td>\n",
       "    </tr>\n",
       "    <tr>\n",
       "      <th>2</th>\n",
       "      <td>4.896346</td>\n",
       "      <td>5.882765</td>\n",
       "      <td>5.435903</td>\n",
       "      <td>5.662613</td>\n",
       "      <td>1.000048e+09</td>\n",
       "      <td>0</td>\n",
       "    </tr>\n",
       "    <tr>\n",
       "      <th>3</th>\n",
       "      <td>4.886583</td>\n",
       "      <td>5.409411</td>\n",
       "      <td>5.472271</td>\n",
       "      <td>5.566434</td>\n",
       "      <td>1.000058e+09</td>\n",
       "      <td>0</td>\n",
       "    </tr>\n",
       "    <tr>\n",
       "      <th>4</th>\n",
       "      <td>4.935912</td>\n",
       "      <td>5.105945</td>\n",
       "      <td>5.324472</td>\n",
       "      <td>5.094976</td>\n",
       "      <td>1.000088e+09</td>\n",
       "      <td>0</td>\n",
       "    </tr>\n",
       "  </tbody>\n",
       "</table>\n",
       "</div>"
      ],
      "text/plain": [
       "     EUI_16    EUI_15    EUI_14    EUI_13           BBL  label\n",
       "0  3.795489  5.276583  5.151556  5.194622  1.014270e+09      0\n",
       "1  4.508659  5.073297  4.638605  4.551769  1.015180e+09      1\n",
       "2  4.896346  5.882765  5.435903  5.662613  1.000048e+09      0\n",
       "3  4.886583  5.409411  5.472271  5.566434  1.000058e+09      0\n",
       "4  4.935912  5.105945  5.324472  5.094976  1.000088e+09      0"
      ]
     },
     "execution_count": 52,
     "metadata": {},
     "output_type": "execute_result"
    }
   ],
   "source": [
    "data_.head()"
   ]
  },
  {
   "cell_type": "code",
   "execution_count": 56,
   "metadata": {
    "collapsed": true
   },
   "outputs": [],
   "source": [
    "data_exp = pd.DataFrame()\n",
    "data_exp['EUI_16'] = np.exp(data_['EUI_16'])"
   ]
  },
  {
   "cell_type": "code",
   "execution_count": 57,
   "metadata": {
    "collapsed": true
   },
   "outputs": [],
   "source": [
    "data_exp['EUI_15'] = np.exp(data_['EUI_15'])\n",
    "data_exp['EUI_14'] = np.exp(data_['EUI_14'])\n",
    "data_exp['EUI_13'] = np.exp(data_['EUI_13'])\n"
   ]
  },
  {
   "cell_type": "code",
   "execution_count": 88,
   "metadata": {
    "collapsed": true
   },
   "outputs": [],
   "source": [
    "data_.to_csv('time_eui_log.csv')"
   ]
  },
  {
   "cell_type": "code",
   "execution_count": 89,
   "metadata": {
    "collapsed": true
   },
   "outputs": [],
   "source": [
    "data_exp.to_csv('time_eui_normal.csv')"
   ]
  },
  {
   "cell_type": "code",
   "execution_count": 55,
   "metadata": {
    "collapsed": false
   },
   "outputs": [
    {
     "data": {
      "text/html": [
       "<div>\n",
       "<table border=\"1\" class=\"dataframe\">\n",
       "  <thead>\n",
       "    <tr style=\"text-align: right;\">\n",
       "      <th></th>\n",
       "      <th>EUI_16</th>\n",
       "      <th>EUI_15</th>\n",
       "      <th>EUI_14</th>\n",
       "      <th>EUI_13</th>\n",
       "      <th>BBL</th>\n",
       "    </tr>\n",
       "    <tr>\n",
       "      <th>label</th>\n",
       "      <th></th>\n",
       "      <th></th>\n",
       "      <th></th>\n",
       "      <th></th>\n",
       "      <th></th>\n",
       "    </tr>\n",
       "  </thead>\n",
       "  <tbody>\n",
       "    <tr>\n",
       "      <th>0</th>\n",
       "      <td>4.629126</td>\n",
       "      <td>5.211202</td>\n",
       "      <td>5.219283</td>\n",
       "      <td>5.232011</td>\n",
       "      <td>1.803316e+09</td>\n",
       "    </tr>\n",
       "    <tr>\n",
       "      <th>1</th>\n",
       "      <td>4.269865</td>\n",
       "      <td>4.684157</td>\n",
       "      <td>4.682549</td>\n",
       "      <td>4.665014</td>\n",
       "      <td>2.251502e+09</td>\n",
       "    </tr>\n",
       "  </tbody>\n",
       "</table>\n",
       "</div>"
      ],
      "text/plain": [
       "         EUI_16    EUI_15    EUI_14    EUI_13           BBL\n",
       "label                                                      \n",
       "0      4.629126  5.211202  5.219283  5.232011  1.803316e+09\n",
       "1      4.269865  4.684157  4.682549  4.665014  2.251502e+09"
      ]
     },
     "execution_count": 55,
     "metadata": {},
     "output_type": "execute_result"
    }
   ],
   "source": [
    "data_.groupby(by=\"label\").mean()"
   ]
  },
  {
   "cell_type": "code",
   "execution_count": 59,
   "metadata": {
    "collapsed": false
   },
   "outputs": [
    {
     "name": "stdout",
     "output_type": "stream",
     "text": [
      "For n_clusters =2, the average silhouette_score is :0.583868527166\n",
      "For n_clusters =3, the average silhouette_score is :0.408247400965\n",
      "For n_clusters =4, the average silhouette_score is :0.362170204387\n",
      "For n_clusters =5, the average silhouette_score is :0.308085089607\n"
     ]
    }
   ],
   "source": [
    "# for regular one , not log\n",
    "X=data_exp\n",
    "range_n_clusters = [2, 3, 4, 5]\n",
    "for n_clusters in range_n_clusters:\n",
    "    km = KMeans(n_clusters=n_clusters, random_state=324)\n",
    "    cluster_labels = km.fit_predict(X)\n",
    "    silhouette_avg = silhouette_score(X, cluster_labels)\n",
    "    print(\"For n_clusters ={},\".format(n_clusters)+\" the average silhouette_score is :{}\".format(silhouette_avg))"
   ]
  },
  {
   "cell_type": "code",
   "execution_count": 60,
   "metadata": {
    "collapsed": false
   },
   "outputs": [
    {
     "name": "stdout",
     "output_type": "stream",
     "text": [
      "[1 1 0 ..., 1 0 1]\n"
     ]
    }
   ],
   "source": [
    "n=2 # number of clusters\n",
    "dd=data_exp #data\n",
    "#tar=y# real target\n",
    "\n",
    "#train the model.\n",
    "km=KMeans(random_state=324,n_clusters=n)\n",
    "res=km.fit(dd)\n",
    "#result.\n",
    "print(res.labels_)"
   ]
  },
  {
   "cell_type": "code",
   "execution_count": 61,
   "metadata": {
    "collapsed": true
   },
   "outputs": [],
   "source": [
    "exp_res = []\n",
    "exp_res = res.labels_ "
   ]
  },
  {
   "cell_type": "code",
   "execution_count": 62,
   "metadata": {
    "collapsed": true
   },
   "outputs": [],
   "source": [
    "data_exp['label'] = exp_res"
   ]
  },
  {
   "cell_type": "code",
   "execution_count": 96,
   "metadata": {
    "collapsed": false
   },
   "outputs": [],
   "source": [
    "d = data_exp.groupby(by=\"label\").mean()"
   ]
  },
  {
   "cell_type": "code",
   "execution_count": 97,
   "metadata": {
    "collapsed": false
   },
   "outputs": [],
   "source": [
    " f = data_exp.groupby(by=\"label\").std()"
   ]
  },
  {
   "cell_type": "code",
   "execution_count": 113,
   "metadata": {
    "collapsed": false
   },
   "outputs": [
    {
     "data": {
      "text/html": [
       "<div>\n",
       "<table border=\"1\" class=\"dataframe\">\n",
       "  <thead>\n",
       "    <tr style=\"text-align: right;\">\n",
       "      <th></th>\n",
       "      <th>EUI_16</th>\n",
       "      <th>EUI_15</th>\n",
       "      <th>EUI_14</th>\n",
       "      <th>EUI_13</th>\n",
       "    </tr>\n",
       "    <tr>\n",
       "      <th>label</th>\n",
       "      <th></th>\n",
       "      <th></th>\n",
       "      <th></th>\n",
       "      <th></th>\n",
       "    </tr>\n",
       "  </thead>\n",
       "  <tbody>\n",
       "    <tr>\n",
       "      <th>0</th>\n",
       "      <td>117.601001</td>\n",
       "      <td>235.153949</td>\n",
       "      <td>238.953170</td>\n",
       "      <td>246.461624</td>\n",
       "    </tr>\n",
       "    <tr>\n",
       "      <th>1</th>\n",
       "      <td>80.774541</td>\n",
       "      <td>122.755190</td>\n",
       "      <td>123.039155</td>\n",
       "      <td>122.304868</td>\n",
       "    </tr>\n",
       "  </tbody>\n",
       "</table>\n",
       "</div>"
      ],
      "text/plain": [
       "           EUI_16      EUI_15      EUI_14      EUI_13\n",
       "label                                                \n",
       "0      117.601001  235.153949  238.953170  246.461624\n",
       "1       80.774541  122.755190  123.039155  122.304868"
      ]
     },
     "execution_count": 113,
     "metadata": {},
     "output_type": "execute_result"
    }
   ],
   "source": [
    "data_exp.groupby(by=\"label\").mean()"
   ]
  },
  {
   "cell_type": "code",
   "execution_count": 117,
   "metadata": {
    "collapsed": false
   },
   "outputs": [],
   "source": [
    "s_u = d+f"
   ]
  },
  {
   "cell_type": "code",
   "execution_count": 118,
   "metadata": {
    "collapsed": true
   },
   "outputs": [],
   "source": [
    "s_d = d-f"
   ]
  },
  {
   "cell_type": "code",
   "execution_count": 99,
   "metadata": {
    "collapsed": true
   },
   "outputs": [],
   "source": [
    "s = pd.DataFrame()"
   ]
  },
  {
   "cell_type": "code",
   "execution_count": 101,
   "metadata": {
    "collapsed": false
   },
   "outputs": [],
   "source": [
    "s['std_up_16'] = d['EUI_16']+ f ['EUI_16']\n",
    "s['std_up_15'] = d['EUI_15']+ f ['EUI_15']\n",
    "s['std_up_14'] = d['EUI_14']+ f ['EUI_14']\n",
    "s['std_up_13'] = d['EUI_13']+ f ['EUI_13']"
   ]
  },
  {
   "cell_type": "code",
   "execution_count": 104,
   "metadata": {
    "collapsed": true
   },
   "outputs": [],
   "source": [
    "s['std_down_16'] = d['EUI_16']- f ['EUI_16']\n",
    "s['std_down_15'] = d['EUI_15']- f ['EUI_15']\n",
    "s['std_down_14'] = d['EUI_14']- f ['EUI_14']\n",
    "s['std_down_13'] = d['EUI_13']- f ['EUI_13']"
   ]
  },
  {
   "cell_type": "code",
   "execution_count": 119,
   "metadata": {
    "collapsed": false
   },
   "outputs": [
    {
     "data": {
      "text/html": [
       "<div>\n",
       "<table border=\"1\" class=\"dataframe\">\n",
       "  <thead>\n",
       "    <tr style=\"text-align: right;\">\n",
       "      <th></th>\n",
       "      <th>EUI_16</th>\n",
       "      <th>EUI_15</th>\n",
       "      <th>EUI_14</th>\n",
       "      <th>EUI_13</th>\n",
       "    </tr>\n",
       "    <tr>\n",
       "      <th>label</th>\n",
       "      <th></th>\n",
       "      <th></th>\n",
       "      <th></th>\n",
       "      <th></th>\n",
       "    </tr>\n",
       "  </thead>\n",
       "  <tbody>\n",
       "    <tr>\n",
       "      <th>0</th>\n",
       "      <td>76.299399</td>\n",
       "      <td>170.107488</td>\n",
       "      <td>169.947571</td>\n",
       "      <td>168.202802</td>\n",
       "    </tr>\n",
       "    <tr>\n",
       "      <th>1</th>\n",
       "      <td>57.302617</td>\n",
       "      <td>91.962509</td>\n",
       "      <td>91.207608</td>\n",
       "      <td>88.585515</td>\n",
       "    </tr>\n",
       "  </tbody>\n",
       "</table>\n",
       "</div>"
      ],
      "text/plain": [
       "          EUI_16      EUI_15      EUI_14      EUI_13\n",
       "label                                               \n",
       "0      76.299399  170.107488  169.947571  168.202802\n",
       "1      57.302617   91.962509   91.207608   88.585515"
      ]
     },
     "execution_count": 119,
     "metadata": {},
     "output_type": "execute_result"
    }
   ],
   "source": [
    "s_d.head()"
   ]
  },
  {
   "cell_type": "code",
   "execution_count": 83,
   "metadata": {
    "collapsed": false
   },
   "outputs": [],
   "source": [
    "import matplotlib.pyplot as plt\n",
    "%matplotlib inline"
   ]
  },
  {
   "cell_type": "code",
   "execution_count": 123,
   "metadata": {
    "collapsed": false
   },
   "outputs": [
    {
     "data": {
      "text/plain": [
       "<matplotlib.axes._subplots.AxesSubplot at 0x28ef5cf8>"
      ]
     },
     "execution_count": 123,
     "metadata": {},
     "output_type": "execute_result"
    },
    {
     "data": {
      "image/png": "[encoded data removed]",
      "text/plain": [
       "<matplotlib.figure.Figure at 0x2dac30f0>"
      ]
     },
     "metadata": {},
     "output_type": "display_data"
    },
    {
     "data": {
      "image/png": "[encoded data removed]",
      "text/plain": [
       "<matplotlib.figure.Figure at 0x2dac31d0>"
      ]
     },
     "metadata": {},
     "output_type": "display_data"
    }
   ],
   "source": [
    "\n",
    "#f.T.plot()\n",
    "f.T.plot()\n",
    "s_d.T.plot(style='k--', label='STD')\n",
    "#plt.plot(f.T,'r')\n"
   ]
  },
  {
   "cell_type": "code",
   "execution_count": null,
   "metadata": {
    "collapsed": true
   },
   "outputs": [],
   "source": []
  }
 ],
 "metadata": {
  "anaconda-cloud": {},
  "kernelspec": {
   "display_name": "Python [Root]",
   "language": "python",
   "name": "Python [Root]"
  },
  "language_info": {
   "codemirror_mode": {
    "name": "ipython",
    "version": 2
   },
   "file_extension": ".py",
   "mimetype": "text/x-python",
   "name": "python",
   "nbconvert_exporter": "python",
   "pygments_lexer": "ipython2",
   "version": "2.7.12"
  }
 },
 "nbformat": 4,
 "nbformat_minor": 0
}
